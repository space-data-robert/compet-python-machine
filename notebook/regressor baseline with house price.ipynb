{
 "nbformat": 4,
 "nbformat_minor": 0,
 "metadata": {
  "colab": {
   "provenance": []
  },
  "kernelspec": {
   "name": "python3",
   "display_name": "Python 3"
  },
  "language_info": {
   "name": "python"
  },
  "pycharm": {
   "stem_cell": {
    "cell_type": "raw",
    "source": [],
    "metadata": {
     "collapsed": false
    }
   }
  }
 },
 "cells": [
  {
   "cell_type": "markdown",
   "source": [
    "오늘은 주택 가격 예측 모델의 베이스라인을 잡을거에요.\n",
    "\n",
    "주택 가격 데이터는 캐글에서 [다운로드](https://www.kaggle.com/competitions/house-prices-advanced-regression-techniques) 하시면 되구요."
   ],
   "metadata": {
    "id": "DZnAU-6J2ZKK"
   }
  },
  {
   "cell_type": "code",
   "source": [
    "data_name = 'house_price.csv'\n",
    "target_name = 'SalePrice'"
   ],
   "metadata": {
    "id": "8fiwzUPC2YGJ"
   },
   "execution_count": 348,
   "outputs": []
  },
  {
   "cell_type": "markdown",
   "source": [
    "스크립트 실행 시에 경고를 제거할거에요.\n",
    "\n",
    "경고를 읽는 것은 좋지만 출력이 어지럽답니다."
   ],
   "metadata": {
    "id": "t44uXB6fzQYu"
   }
  },
  {
   "cell_type": "code",
   "source": [
    "import warnings\n",
    "warnings.filterwarnings('ignore')"
   ],
   "metadata": {
    "id": "xzfW0H1s1M3E"
   },
   "execution_count": 349,
   "outputs": []
  },
  {
   "cell_type": "markdown",
   "source": [
    "이제 캐글 데이터를 불러오구요.\n",
    "\n",
    "타겟 이름에 따라 데이터를 분할할거에요.\n",
    "- 피처와 타겟 데이터"
   ],
   "metadata": {
    "id": "Pxc3gs1NEpsS"
   }
  },
  {
   "cell_type": "code",
   "source": [
    "import numpy as np\n",
    "import pandas as pd\n",
    "pd.set_option('display.max_columns', 10)\n",
    "\n",
    "data = pd.read_csv(data_name)\n",
    "\n",
    "print(f'data shape = {data.shape}')\n",
    "data.head(2)"
   ],
   "metadata": {
    "colab": {
     "base_uri": "https://localhost:8080/",
     "height": 160
    },
    "id": "v956JM7L12Rk",
    "outputId": "06cc3c02-7a7d-4db8-9c1d-bcdbfd70671c"
   },
   "execution_count": 357,
   "outputs": [
    {
     "output_type": "stream",
     "name": "stdout",
     "text": [
      "data shape = (1460, 81)\n"
     ]
    },
    {
     "output_type": "execute_result",
     "data": {
      "text/plain": [
       "   Id  MSSubClass MSZoning  LotFrontage  LotArea  ... MoSold YrSold SaleType  \\\n",
       "0   1          60       RL         65.0     8450  ...      2   2008       WD   \n",
       "1   2          20       RL         80.0     9600  ...      5   2007       WD   \n",
       "\n",
       "  SaleCondition SalePrice  \n",
       "0        Normal    208500  \n",
       "1        Normal    181500  \n",
       "\n",
       "[2 rows x 81 columns]"
      ],
      "text/html": [
       "\n",
       "  <div id=\"df-87fdfd58-1db8-49ba-ad88-8fe1f1a08cc3\">\n",
       "    <div class=\"colab-df-container\">\n",
       "      <div>\n",
       "<style scoped>\n",
       "    .dataframe tbody tr th:only-of-type {\n",
       "        vertical-align: middle;\n",
       "    }\n",
       "\n",
       "    .dataframe tbody tr th {\n",
       "        vertical-align: top;\n",
       "    }\n",
       "\n",
       "    .dataframe thead th {\n",
       "        text-align: right;\n",
       "    }\n",
       "</style>\n",
       "<table border=\"1\" class=\"dataframe\">\n",
       "  <thead>\n",
       "    <tr style=\"text-align: right;\">\n",
       "      <th></th>\n",
       "      <th>Id</th>\n",
       "      <th>MSSubClass</th>\n",
       "      <th>MSZoning</th>\n",
       "      <th>LotFrontage</th>\n",
       "      <th>LotArea</th>\n",
       "      <th>...</th>\n",
       "      <th>MoSold</th>\n",
       "      <th>YrSold</th>\n",
       "      <th>SaleType</th>\n",
       "      <th>SaleCondition</th>\n",
       "      <th>SalePrice</th>\n",
       "    </tr>\n",
       "  </thead>\n",
       "  <tbody>\n",
       "    <tr>\n",
       "      <th>0</th>\n",
       "      <td>1</td>\n",
       "      <td>60</td>\n",
       "      <td>RL</td>\n",
       "      <td>65.0</td>\n",
       "      <td>8450</td>\n",
       "      <td>...</td>\n",
       "      <td>2</td>\n",
       "      <td>2008</td>\n",
       "      <td>WD</td>\n",
       "      <td>Normal</td>\n",
       "      <td>208500</td>\n",
       "    </tr>\n",
       "    <tr>\n",
       "      <th>1</th>\n",
       "      <td>2</td>\n",
       "      <td>20</td>\n",
       "      <td>RL</td>\n",
       "      <td>80.0</td>\n",
       "      <td>9600</td>\n",
       "      <td>...</td>\n",
       "      <td>5</td>\n",
       "      <td>2007</td>\n",
       "      <td>WD</td>\n",
       "      <td>Normal</td>\n",
       "      <td>181500</td>\n",
       "    </tr>\n",
       "  </tbody>\n",
       "</table>\n",
       "<p>2 rows × 81 columns</p>\n",
       "</div>\n",
       "      <button class=\"colab-df-convert\" onclick=\"convertToInteractive('df-87fdfd58-1db8-49ba-ad88-8fe1f1a08cc3')\"\n",
       "              title=\"Convert this dataframe to an interactive table.\"\n",
       "              style=\"display:none;\">\n",
       "        \n",
       "  <svg xmlns=\"http://www.w3.org/2000/svg\" height=\"24px\"viewBox=\"0 0 24 24\"\n",
       "       width=\"24px\">\n",
       "    <path d=\"M0 0h24v24H0V0z\" fill=\"none\"/>\n",
       "    <path d=\"M18.56 5.44l.94 2.06.94-2.06 2.06-.94-2.06-.94-.94-2.06-.94 2.06-2.06.94zm-11 1L8.5 8.5l.94-2.06 2.06-.94-2.06-.94L8.5 2.5l-.94 2.06-2.06.94zm10 10l.94 2.06.94-2.06 2.06-.94-2.06-.94-.94-2.06-.94 2.06-2.06.94z\"/><path d=\"M17.41 7.96l-1.37-1.37c-.4-.4-.92-.59-1.43-.59-.52 0-1.04.2-1.43.59L10.3 9.45l-7.72 7.72c-.78.78-.78 2.05 0 2.83L4 21.41c.39.39.9.59 1.41.59.51 0 1.02-.2 1.41-.59l7.78-7.78 2.81-2.81c.8-.78.8-2.07 0-2.86zM5.41 20L4 18.59l7.72-7.72 1.47 1.35L5.41 20z\"/>\n",
       "  </svg>\n",
       "      </button>\n",
       "      \n",
       "  <style>\n",
       "    .colab-df-container {\n",
       "      display:flex;\n",
       "      flex-wrap:wrap;\n",
       "      gap: 12px;\n",
       "    }\n",
       "\n",
       "    .colab-df-convert {\n",
       "      background-color: #E8F0FE;\n",
       "      border: none;\n",
       "      border-radius: 50%;\n",
       "      cursor: pointer;\n",
       "      display: none;\n",
       "      fill: #1967D2;\n",
       "      height: 32px;\n",
       "      padding: 0 0 0 0;\n",
       "      width: 32px;\n",
       "    }\n",
       "\n",
       "    .colab-df-convert:hover {\n",
       "      background-color: #E2EBFA;\n",
       "      box-shadow: 0px 1px 2px rgba(60, 64, 67, 0.3), 0px 1px 3px 1px rgba(60, 64, 67, 0.15);\n",
       "      fill: #174EA6;\n",
       "    }\n",
       "\n",
       "    [theme=dark] .colab-df-convert {\n",
       "      background-color: #3B4455;\n",
       "      fill: #D2E3FC;\n",
       "    }\n",
       "\n",
       "    [theme=dark] .colab-df-convert:hover {\n",
       "      background-color: #434B5C;\n",
       "      box-shadow: 0px 1px 3px 1px rgba(0, 0, 0, 0.15);\n",
       "      filter: drop-shadow(0px 1px 2px rgba(0, 0, 0, 0.3));\n",
       "      fill: #FFFFFF;\n",
       "    }\n",
       "  </style>\n",
       "\n",
       "      <script>\n",
       "        const buttonEl =\n",
       "          document.querySelector('#df-87fdfd58-1db8-49ba-ad88-8fe1f1a08cc3 button.colab-df-convert');\n",
       "        buttonEl.style.display =\n",
       "          google.colab.kernel.accessAllowed ? 'block' : 'none';\n",
       "\n",
       "        async function convertToInteractive(key) {\n",
       "          const element = document.querySelector('#df-87fdfd58-1db8-49ba-ad88-8fe1f1a08cc3');\n",
       "          const dataTable =\n",
       "            await google.colab.kernel.invokeFunction('convertToInteractive',\n",
       "                                                     [key], {});\n",
       "          if (!dataTable) return;\n",
       "\n",
       "          const docLinkHtml = 'Like what you see? Visit the ' +\n",
       "            '<a target=\"_blank\" href=https://colab.research.google.com/notebooks/data_table.ipynb>data table notebook</a>'\n",
       "            + ' to learn more about interactive tables.';\n",
       "          element.innerHTML = '';\n",
       "          dataTable['output_type'] = 'display_data';\n",
       "          await google.colab.output.renderOutput(dataTable, element);\n",
       "          const docLink = document.createElement('div');\n",
       "          docLink.innerHTML = docLinkHtml;\n",
       "          element.appendChild(docLink);\n",
       "        }\n",
       "      </script>\n",
       "    </div>\n",
       "  </div>\n",
       "  "
      ]
     },
     "metadata": {},
     "execution_count": 357
    }
   ]
  },
  {
   "cell_type": "markdown",
   "source": [
    "회귀 분석에서 타겟 분포는 매우 중요해요.\n",
    "\n",
    "정규성을 만족하는지 확인 필요할 것 같네요."
   ],
   "metadata": {
    "id": "MehWWRHc156s"
   }
  },
  {
   "cell_type": "code",
   "source": [
    "from scipy.stats import kstest\n",
    "\n",
    "statistics, pvalue = kstest(\n",
    "    data[target_name], 'norm',\n",
    "    args=(\n",
    "        data[target_name].mean(), \n",
    "        data[target_name].var() ** 0.5)\n",
    ")\n",
    "print(f'normal pvalue = {pvalue:.3f}')"
   ],
   "metadata": {
    "colab": {
     "base_uri": "https://localhost:8080/"
    },
    "id": "PWJWw_Rp2Rla",
    "outputId": "220a36bd-a955-465a-c105-6e1adb4054b4"
   },
   "execution_count": 359,
   "outputs": [
    {
     "output_type": "stream",
     "name": "stdout",
     "text": [
      "normal pvalue = 0.000\n"
     ]
    }
   ]
  },
  {
   "cell_type": "markdown",
   "source": [
    "매우 작은 값이 나왔는데요.\n",
    "\n",
    "이는 정규 분포와 다르다는 것을 의미해요.\n",
    "\n",
    "정규 분포를 따지는 두가지가 있는데 알고 계시나요?\n",
    "- 왜도가 절대값 10 이하\n",
    "- 첨도는 절대값 3 미만"
   ],
   "metadata": {
    "id": "wrlnBVWY50ab"
   }
  },
  {
   "cell_type": "markdown",
   "source": [
    "먼저 첨도를 확인해보면 위로 뾰족한 형태로 망했네요."
   ],
   "metadata": {
    "id": "CZqlRoZe9HC6"
   }
  },
  {
   "cell_type": "code",
   "source": [
    "from scipy.stats import kurtosis\n",
    "\n",
    "kurtosis_ = kurtosis(data[target_name], fisher=False)\n",
    "print(f'kurtosis = {kurtosis_: .3f}')"
   ],
   "metadata": {
    "colab": {
     "base_uri": "https://localhost:8080/"
    },
    "id": "8gq3fg6d9Key",
    "outputId": "b612b73b-298a-48e8-f9a0-25239cd2d988"
   },
   "execution_count": 360,
   "outputs": [
    {
     "output_type": "stream",
     "name": "stdout",
     "text": [
      "kurtosis =  9.510\n"
     ]
    }
   ]
  },
  {
   "cell_type": "markdown",
   "source": [
    "디행이도 왜도의 경우는 정규성 조건을 만족해요."
   ],
   "metadata": {
    "id": "2IhKoCLw9u7C"
   }
  },
  {
   "cell_type": "code",
   "source": [
    "from scipy.stats import skew\n",
    "\n",
    "skewness = skew(data[target_name])\n",
    "print(f'skewness = {skewness: .3f}')"
   ],
   "metadata": {
    "colab": {
     "base_uri": "https://localhost:8080/"
    },
    "id": "_SC1ivqg6v1O",
    "outputId": "23ee443f-2497-4db0-d85c-7187c68f2d0b"
   },
   "execution_count": 361,
   "outputs": [
    {
     "output_type": "stream",
     "name": "stdout",
     "text": [
      "skewness =  1.881\n"
     ]
    }
   ]
  },
  {
   "cell_type": "markdown",
   "source": [
    "하지만 걱정하지 마세요.\n",
    "\n",
    "데이터에 로그를 씌운다면 이를 해결할 수 있어요.\n",
    "\n",
    "아래와 같이 정규 분포와 거의 유사한 모습을 볼 수 있어요."
   ],
   "metadata": {
    "id": "g8dibO1094iy"
   }
  },
  {
   "cell_type": "code",
   "source": [
    "data[target_name] = data[target_name].apply(\n",
    "    lambda x: np.log1p(x)\n",
    ")\n",
    "\n",
    "kurtosis_ = kurtosis(data[target_name], fisher=False)\n",
    "\n",
    "skewness = skew(data[target_name])\n",
    "\n",
    "print(f'kurtosis = {kurtosis_: .3f} skewness = {skewness: .3f}')"
   ],
   "metadata": {
    "colab": {
     "base_uri": "https://localhost:8080/"
    },
    "id": "Zatw9qDi8ZmC",
    "outputId": "3e6622d5-8b00-4ce7-dbec-440a26add565"
   },
   "execution_count": 362,
   "outputs": [
    {
     "output_type": "stream",
     "name": "stdout",
     "text": [
      "kurtosis =  3.803 skewness =  0.121\n"
     ]
    }
   ]
  },
  {
   "cell_type": "markdown",
   "source": [
    "다음으로 중요한 피처가 어떠한 것들이 있는지 쓱 파악할거에요.\n",
    "\n",
    "그 방법으로 피처 선택 모델을 활용합니다.\n",
    "- 선택할 피처 개수는 50개"
   ],
   "metadata": {
    "id": "ATg_4PjXDNd6"
   }
  },
  {
   "cell_type": "code",
   "source": [
    "from sklearn.feature_selection import SelectKBest, f_regression\n",
    "\n",
    "feature_count = 50\n",
    "\n",
    "selector = SelectKBest(f_regression, k=feature_count)"
   ],
   "metadata": {
    "id": "5zcgx_GPEOVs"
   },
   "execution_count": 363,
   "outputs": []
  },
  {
   "cell_type": "markdown",
   "source": [
    "우리는 두가지 형태 피처를 가지고 있어요.\n",
    "- 연속적인 또는 이산적인 값\n",
    "\n",
    "따라서 원 핫 인코딩이 필요할거에요."
   ],
   "metadata": {
    "id": "YP76ezjbEQAj"
   }
  },
  {
   "cell_type": "code",
   "source": [
    "x_data = pd.get_dummies(\n",
    "    data, dummy_na=True\n",
    ").dropna(axis=0)\n",
    "\n",
    "y_data = x_data.pop(target_name)\n",
    "\n",
    "print(f'x data shape = {x_data.shape}')\n",
    "x_data.head(2)"
   ],
   "metadata": {
    "colab": {
     "base_uri": "https://localhost:8080/",
     "height": 224
    },
    "id": "RMk7vftBDLoa",
    "outputId": "e42ccfaf-6359-4c8c-bd03-7a7aacfb09ef"
   },
   "execution_count": 364,
   "outputs": [
    {
     "output_type": "stream",
     "name": "stdout",
     "text": [
      "x data shape = (1121, 332)\n"
     ]
    },
    {
     "output_type": "execute_result",
     "data": {
      "text/plain": [
       "   Id  MSSubClass  LotFrontage  LotArea  OverallQual  ...  \\\n",
       "0   1          60         65.0     8450            7  ...   \n",
       "1   2          20         80.0     9600            6  ...   \n",
       "\n",
       "   SaleCondition_Alloca  SaleCondition_Family  SaleCondition_Normal  \\\n",
       "0                     0                     0                     1   \n",
       "1                     0                     0                     1   \n",
       "\n",
       "   SaleCondition_Partial  SaleCondition_nan  \n",
       "0                      0                  0  \n",
       "1                      0                  0  \n",
       "\n",
       "[2 rows x 332 columns]"
      ],
      "text/html": [
       "\n",
       "  <div id=\"df-cf5ee15d-5322-4e4a-b25d-834a3aeb9c43\">\n",
       "    <div class=\"colab-df-container\">\n",
       "      <div>\n",
       "<style scoped>\n",
       "    .dataframe tbody tr th:only-of-type {\n",
       "        vertical-align: middle;\n",
       "    }\n",
       "\n",
       "    .dataframe tbody tr th {\n",
       "        vertical-align: top;\n",
       "    }\n",
       "\n",
       "    .dataframe thead th {\n",
       "        text-align: right;\n",
       "    }\n",
       "</style>\n",
       "<table border=\"1\" class=\"dataframe\">\n",
       "  <thead>\n",
       "    <tr style=\"text-align: right;\">\n",
       "      <th></th>\n",
       "      <th>Id</th>\n",
       "      <th>MSSubClass</th>\n",
       "      <th>LotFrontage</th>\n",
       "      <th>LotArea</th>\n",
       "      <th>OverallQual</th>\n",
       "      <th>...</th>\n",
       "      <th>SaleCondition_Alloca</th>\n",
       "      <th>SaleCondition_Family</th>\n",
       "      <th>SaleCondition_Normal</th>\n",
       "      <th>SaleCondition_Partial</th>\n",
       "      <th>SaleCondition_nan</th>\n",
       "    </tr>\n",
       "  </thead>\n",
       "  <tbody>\n",
       "    <tr>\n",
       "      <th>0</th>\n",
       "      <td>1</td>\n",
       "      <td>60</td>\n",
       "      <td>65.0</td>\n",
       "      <td>8450</td>\n",
       "      <td>7</td>\n",
       "      <td>...</td>\n",
       "      <td>0</td>\n",
       "      <td>0</td>\n",
       "      <td>1</td>\n",
       "      <td>0</td>\n",
       "      <td>0</td>\n",
       "    </tr>\n",
       "    <tr>\n",
       "      <th>1</th>\n",
       "      <td>2</td>\n",
       "      <td>20</td>\n",
       "      <td>80.0</td>\n",
       "      <td>9600</td>\n",
       "      <td>6</td>\n",
       "      <td>...</td>\n",
       "      <td>0</td>\n",
       "      <td>0</td>\n",
       "      <td>1</td>\n",
       "      <td>0</td>\n",
       "      <td>0</td>\n",
       "    </tr>\n",
       "  </tbody>\n",
       "</table>\n",
       "<p>2 rows × 332 columns</p>\n",
       "</div>\n",
       "      <button class=\"colab-df-convert\" onclick=\"convertToInteractive('df-cf5ee15d-5322-4e4a-b25d-834a3aeb9c43')\"\n",
       "              title=\"Convert this dataframe to an interactive table.\"\n",
       "              style=\"display:none;\">\n",
       "        \n",
       "  <svg xmlns=\"http://www.w3.org/2000/svg\" height=\"24px\"viewBox=\"0 0 24 24\"\n",
       "       width=\"24px\">\n",
       "    <path d=\"M0 0h24v24H0V0z\" fill=\"none\"/>\n",
       "    <path d=\"M18.56 5.44l.94 2.06.94-2.06 2.06-.94-2.06-.94-.94-2.06-.94 2.06-2.06.94zm-11 1L8.5 8.5l.94-2.06 2.06-.94-2.06-.94L8.5 2.5l-.94 2.06-2.06.94zm10 10l.94 2.06.94-2.06 2.06-.94-2.06-.94-.94-2.06-.94 2.06-2.06.94z\"/><path d=\"M17.41 7.96l-1.37-1.37c-.4-.4-.92-.59-1.43-.59-.52 0-1.04.2-1.43.59L10.3 9.45l-7.72 7.72c-.78.78-.78 2.05 0 2.83L4 21.41c.39.39.9.59 1.41.59.51 0 1.02-.2 1.41-.59l7.78-7.78 2.81-2.81c.8-.78.8-2.07 0-2.86zM5.41 20L4 18.59l7.72-7.72 1.47 1.35L5.41 20z\"/>\n",
       "  </svg>\n",
       "      </button>\n",
       "      \n",
       "  <style>\n",
       "    .colab-df-container {\n",
       "      display:flex;\n",
       "      flex-wrap:wrap;\n",
       "      gap: 12px;\n",
       "    }\n",
       "\n",
       "    .colab-df-convert {\n",
       "      background-color: #E8F0FE;\n",
       "      border: none;\n",
       "      border-radius: 50%;\n",
       "      cursor: pointer;\n",
       "      display: none;\n",
       "      fill: #1967D2;\n",
       "      height: 32px;\n",
       "      padding: 0 0 0 0;\n",
       "      width: 32px;\n",
       "    }\n",
       "\n",
       "    .colab-df-convert:hover {\n",
       "      background-color: #E2EBFA;\n",
       "      box-shadow: 0px 1px 2px rgba(60, 64, 67, 0.3), 0px 1px 3px 1px rgba(60, 64, 67, 0.15);\n",
       "      fill: #174EA6;\n",
       "    }\n",
       "\n",
       "    [theme=dark] .colab-df-convert {\n",
       "      background-color: #3B4455;\n",
       "      fill: #D2E3FC;\n",
       "    }\n",
       "\n",
       "    [theme=dark] .colab-df-convert:hover {\n",
       "      background-color: #434B5C;\n",
       "      box-shadow: 0px 1px 3px 1px rgba(0, 0, 0, 0.15);\n",
       "      filter: drop-shadow(0px 1px 2px rgba(0, 0, 0, 0.3));\n",
       "      fill: #FFFFFF;\n",
       "    }\n",
       "  </style>\n",
       "\n",
       "      <script>\n",
       "        const buttonEl =\n",
       "          document.querySelector('#df-cf5ee15d-5322-4e4a-b25d-834a3aeb9c43 button.colab-df-convert');\n",
       "        buttonEl.style.display =\n",
       "          google.colab.kernel.accessAllowed ? 'block' : 'none';\n",
       "\n",
       "        async function convertToInteractive(key) {\n",
       "          const element = document.querySelector('#df-cf5ee15d-5322-4e4a-b25d-834a3aeb9c43');\n",
       "          const dataTable =\n",
       "            await google.colab.kernel.invokeFunction('convertToInteractive',\n",
       "                                                     [key], {});\n",
       "          if (!dataTable) return;\n",
       "\n",
       "          const docLinkHtml = 'Like what you see? Visit the ' +\n",
       "            '<a target=\"_blank\" href=https://colab.research.google.com/notebooks/data_table.ipynb>data table notebook</a>'\n",
       "            + ' to learn more about interactive tables.';\n",
       "          element.innerHTML = '';\n",
       "          dataTable['output_type'] = 'display_data';\n",
       "          await google.colab.output.renderOutput(dataTable, element);\n",
       "          const docLink = document.createElement('div');\n",
       "          docLink.innerHTML = docLinkHtml;\n",
       "          element.appendChild(docLink);\n",
       "        }\n",
       "      </script>\n",
       "    </div>\n",
       "  </div>\n",
       "  "
      ]
     },
     "metadata": {},
     "execution_count": 364
    }
   ]
  },
  {
   "cell_type": "markdown",
   "source": [
    "이제 피팅을 시켜서 중요 피처를 확인해봅니다.\n",
    "\n",
    "50개 피처가 뽑혔고 이산 데이터의 경우\n",
    "\n",
    "언더바로 중요 변수까지 뽑힌걸 확인할 수 있을거에요."
   ],
   "metadata": {
    "id": "PEqQ1PzIF3fr"
   }
  },
  {
   "cell_type": "code",
   "source": [
    "%time selector.fit_transform(x_data, y_data)\n",
    "\n",
    "selected_mask = selector.get_support()\n",
    "all_feature = x_data.columns\n",
    "\n",
    "selected_feature = all_feature[selected_mask]"
   ],
   "metadata": {
    "colab": {
     "base_uri": "https://localhost:8080/"
    },
    "id": "wA3HY0uUF1LQ",
    "outputId": "b99ac216-2962-497d-d8f6-88b626b38263"
   },
   "execution_count": 365,
   "outputs": [
    {
     "output_type": "stream",
     "name": "stdout",
     "text": [
      "CPU times: user 15.8 ms, sys: 1.86 ms, total: 17.7 ms\n",
      "Wall time: 17.3 ms\n"
     ]
    }
   ]
  },
  {
   "cell_type": "markdown",
   "source": [
    "이 작업을 통해 우리는 피처 엔지니어링에서\n",
    "\n",
    "선택과 집중을 할 수 있을 것이라 믿어요.\n",
    "- 중요 피처 바탕의 탐색적 분석\n",
    "- 중요 피처 결측치 체크"
   ],
   "metadata": {
    "id": "q-xTzs9VG137"
   }
  },
  {
   "cell_type": "code",
   "source": [
    "feature = pd.DataFrame(\n",
    "    [f.split('_') for f in selected_feature],\n",
    "    columns=['FeatureName', 'FeatureValue']\n",
    ")\n",
    "selected_feature = list(set(feature.FeatureName))\n",
    "\n",
    "feature.T"
   ],
   "metadata": {
    "colab": {
     "base_uri": "https://localhost:8080/",
     "height": 205
    },
    "id": "w7g2yt4_EUbV",
    "outputId": "34258515-0ffb-4767-a037-a463ee830db2"
   },
   "execution_count": 366,
   "outputs": [
    {
     "output_type": "execute_result",
     "data": {
      "text/plain": [
       "                       0            1          2             3           4   \\\n",
       "FeatureName   LotFrontage  OverallQual  YearBuilt  YearRemodAdd  MasVnrArea   \n",
       "FeatureValue         None         None       None          None        None   \n",
       "\n",
       "              ...          45            46            47        48  \\\n",
       "FeatureName   ...  GarageType  GarageFinish  GarageFinish  SaleType   \n",
       "FeatureValue  ...      Detchd           Fin           Unf       New   \n",
       "\n",
       "                         49  \n",
       "FeatureName   SaleCondition  \n",
       "FeatureValue        Partial  \n",
       "\n",
       "[2 rows x 50 columns]"
      ],
      "text/html": [
       "\n",
       "  <div id=\"df-1f335bcb-87f5-418d-b561-263e5e431079\">\n",
       "    <div class=\"colab-df-container\">\n",
       "      <div>\n",
       "<style scoped>\n",
       "    .dataframe tbody tr th:only-of-type {\n",
       "        vertical-align: middle;\n",
       "    }\n",
       "\n",
       "    .dataframe tbody tr th {\n",
       "        vertical-align: top;\n",
       "    }\n",
       "\n",
       "    .dataframe thead th {\n",
       "        text-align: right;\n",
       "    }\n",
       "</style>\n",
       "<table border=\"1\" class=\"dataframe\">\n",
       "  <thead>\n",
       "    <tr style=\"text-align: right;\">\n",
       "      <th></th>\n",
       "      <th>0</th>\n",
       "      <th>1</th>\n",
       "      <th>2</th>\n",
       "      <th>3</th>\n",
       "      <th>4</th>\n",
       "      <th>...</th>\n",
       "      <th>45</th>\n",
       "      <th>46</th>\n",
       "      <th>47</th>\n",
       "      <th>48</th>\n",
       "      <th>49</th>\n",
       "    </tr>\n",
       "  </thead>\n",
       "  <tbody>\n",
       "    <tr>\n",
       "      <th>FeatureName</th>\n",
       "      <td>LotFrontage</td>\n",
       "      <td>OverallQual</td>\n",
       "      <td>YearBuilt</td>\n",
       "      <td>YearRemodAdd</td>\n",
       "      <td>MasVnrArea</td>\n",
       "      <td>...</td>\n",
       "      <td>GarageType</td>\n",
       "      <td>GarageFinish</td>\n",
       "      <td>GarageFinish</td>\n",
       "      <td>SaleType</td>\n",
       "      <td>SaleCondition</td>\n",
       "    </tr>\n",
       "    <tr>\n",
       "      <th>FeatureValue</th>\n",
       "      <td>None</td>\n",
       "      <td>None</td>\n",
       "      <td>None</td>\n",
       "      <td>None</td>\n",
       "      <td>None</td>\n",
       "      <td>...</td>\n",
       "      <td>Detchd</td>\n",
       "      <td>Fin</td>\n",
       "      <td>Unf</td>\n",
       "      <td>New</td>\n",
       "      <td>Partial</td>\n",
       "    </tr>\n",
       "  </tbody>\n",
       "</table>\n",
       "<p>2 rows × 50 columns</p>\n",
       "</div>\n",
       "      <button class=\"colab-df-convert\" onclick=\"convertToInteractive('df-1f335bcb-87f5-418d-b561-263e5e431079')\"\n",
       "              title=\"Convert this dataframe to an interactive table.\"\n",
       "              style=\"display:none;\">\n",
       "        \n",
       "  <svg xmlns=\"http://www.w3.org/2000/svg\" height=\"24px\"viewBox=\"0 0 24 24\"\n",
       "       width=\"24px\">\n",
       "    <path d=\"M0 0h24v24H0V0z\" fill=\"none\"/>\n",
       "    <path d=\"M18.56 5.44l.94 2.06.94-2.06 2.06-.94-2.06-.94-.94-2.06-.94 2.06-2.06.94zm-11 1L8.5 8.5l.94-2.06 2.06-.94-2.06-.94L8.5 2.5l-.94 2.06-2.06.94zm10 10l.94 2.06.94-2.06 2.06-.94-2.06-.94-.94-2.06-.94 2.06-2.06.94z\"/><path d=\"M17.41 7.96l-1.37-1.37c-.4-.4-.92-.59-1.43-.59-.52 0-1.04.2-1.43.59L10.3 9.45l-7.72 7.72c-.78.78-.78 2.05 0 2.83L4 21.41c.39.39.9.59 1.41.59.51 0 1.02-.2 1.41-.59l7.78-7.78 2.81-2.81c.8-.78.8-2.07 0-2.86zM5.41 20L4 18.59l7.72-7.72 1.47 1.35L5.41 20z\"/>\n",
       "  </svg>\n",
       "      </button>\n",
       "      \n",
       "  <style>\n",
       "    .colab-df-container {\n",
       "      display:flex;\n",
       "      flex-wrap:wrap;\n",
       "      gap: 12px;\n",
       "    }\n",
       "\n",
       "    .colab-df-convert {\n",
       "      background-color: #E8F0FE;\n",
       "      border: none;\n",
       "      border-radius: 50%;\n",
       "      cursor: pointer;\n",
       "      display: none;\n",
       "      fill: #1967D2;\n",
       "      height: 32px;\n",
       "      padding: 0 0 0 0;\n",
       "      width: 32px;\n",
       "    }\n",
       "\n",
       "    .colab-df-convert:hover {\n",
       "      background-color: #E2EBFA;\n",
       "      box-shadow: 0px 1px 2px rgba(60, 64, 67, 0.3), 0px 1px 3px 1px rgba(60, 64, 67, 0.15);\n",
       "      fill: #174EA6;\n",
       "    }\n",
       "\n",
       "    [theme=dark] .colab-df-convert {\n",
       "      background-color: #3B4455;\n",
       "      fill: #D2E3FC;\n",
       "    }\n",
       "\n",
       "    [theme=dark] .colab-df-convert:hover {\n",
       "      background-color: #434B5C;\n",
       "      box-shadow: 0px 1px 3px 1px rgba(0, 0, 0, 0.15);\n",
       "      filter: drop-shadow(0px 1px 2px rgba(0, 0, 0, 0.3));\n",
       "      fill: #FFFFFF;\n",
       "    }\n",
       "  </style>\n",
       "\n",
       "      <script>\n",
       "        const buttonEl =\n",
       "          document.querySelector('#df-1f335bcb-87f5-418d-b561-263e5e431079 button.colab-df-convert');\n",
       "        buttonEl.style.display =\n",
       "          google.colab.kernel.accessAllowed ? 'block' : 'none';\n",
       "\n",
       "        async function convertToInteractive(key) {\n",
       "          const element = document.querySelector('#df-1f335bcb-87f5-418d-b561-263e5e431079');\n",
       "          const dataTable =\n",
       "            await google.colab.kernel.invokeFunction('convertToInteractive',\n",
       "                                                     [key], {});\n",
       "          if (!dataTable) return;\n",
       "\n",
       "          const docLinkHtml = 'Like what you see? Visit the ' +\n",
       "            '<a target=\"_blank\" href=https://colab.research.google.com/notebooks/data_table.ipynb>data table notebook</a>'\n",
       "            + ' to learn more about interactive tables.';\n",
       "          element.innerHTML = '';\n",
       "          dataTable['output_type'] = 'display_data';\n",
       "          await google.colab.output.renderOutput(dataTable, element);\n",
       "          const docLink = document.createElement('div');\n",
       "          docLink.innerHTML = docLinkHtml;\n",
       "          element.appendChild(docLink);\n",
       "        }\n",
       "      </script>\n",
       "    </div>\n",
       "  </div>\n",
       "  "
      ]
     },
     "metadata": {},
     "execution_count": 366
    }
   ]
  },
  {
   "cell_type": "markdown",
   "source": [
    "이제 결측치가 얼마나 존재하는지 확인해야겠죠?\n",
    "- 푸른색은 불완전한 데이터"
   ],
   "metadata": {
    "id": "tKyWuSd4FBNh"
   }
  },
  {
   "cell_type": "code",
   "source": [
    "import missingno as msno\n",
    "import matplotlib.pyplot as plt\n",
    "plt.style.use('dark_background')\n",
    "\n",
    "missing_mask = (\n",
    "    data[selected_feature].isna().sum() != 0\n",
    ").values\n",
    "\n",
    "missing_feature = [f for (f, m) in zip(selected_feature, missing_mask) if m == True]\n",
    "\n",
    "missing_map = {\n",
    "    True: 'dodgerblue', \n",
    "    False: 'tan'\n",
    "}\n",
    "missing_mask = [missing_map[m] for m in missing_mask]\n",
    "\n",
    "msno.bar(\n",
    "    data[selected_feature],\n",
    "    figsize=(14, 4), fontsize=10, label_rotation=90,\n",
    "    color=missing_mask\n",
    ")\n",
    "plt.show()"
   ],
   "metadata": {
    "colab": {
     "base_uri": "https://localhost:8080/",
     "height": 363
    },
    "id": "8GCdKClWLpbT",
    "outputId": "058974df-b3cf-46dc-a1e0-cef8ca3b9a20"
   },
   "execution_count": 367,
   "outputs": [
    {
     "output_type": "display_data",
     "data": {
      "text/plain": [
       "<Figure size 1008x288 with 3 Axes>"
      ],
      "image/png": "[encoded data removed]"
     },
     "metadata": {}
    }
   ]
  },
  {
   "cell_type": "markdown",
   "source": [
    "이제 본격적으로 결측치 처리를 할건데요.\n",
    "\n",
    "결측치 처리에는 크게 세가지가 존재해요.\n",
    "\n",
    "이 장에서는 결측치 예측을 진행할 것이고\n",
    "\n",
    "먼저 연속형 피처를 처리하도록 하죠."
   ],
   "metadata": {
    "id": "qaqZG1_uO_Y9"
   }
  },
  {
   "cell_type": "code",
   "source": [
    "nummeric_feature = list()\n",
    "categoric_feature = list()\n",
    "\n",
    "for (f, m) in zip(selected_feature, missing_mask):\n",
    "    if m != 'dodgerblue':\n",
    "        continue\n",
    "        \n",
    "    if f in data.dtypes[data.dtypes != 'object'].index:\n",
    "        nummeric_feature.append(f)\n",
    "    else:\n",
    "        categoric_feature.append(f)\n",
    "\n",
    "missing_feature = nummeric_feature + categoric_feature\n",
    "\n",
    "print(f'nummerical feature count = {len(nummeric_feature)}')"
   ],
   "metadata": {
    "colab": {
     "base_uri": "https://localhost:8080/"
    },
    "id": "m2uYd3Ccxtth",
    "outputId": "0e2c0cab-1d03-4b03-d02b-b9e32d65c663"
   },
   "execution_count": 368,
   "outputs": [
    {
     "output_type": "stream",
     "name": "stdout",
     "text": [
      "nummerical feature count = 3\n"
     ]
    }
   ]
  },
  {
   "cell_type": "markdown",
   "source": [
    "그나저나 피처가 정말 잘 뽑힌게 맞나요?\n",
    "\n",
    "상관 관계로 이를 짐작해 볼 수 있지 않을까요?\n",
    "\n",
    "네. 확인해봅시다."
   ],
   "metadata": {
    "id": "0kZUBb4dT3Ie"
   }
  },
  {
   "cell_type": "code",
   "source": [
    "import numpy as np\n",
    "import seaborn as sns\n",
    "\n",
    "plt.subplots(figsize=(12, 10))\n",
    "\n",
    "correlated_feature = data.corr().SalePrice.sort_values()\n",
    "\n",
    "missing_mask_ = [1 if f in missing_feature else 2 for f in correlated_feature.index]\n",
    "selected_mask_ = [3 if f in selected_feature else 1 for f in correlated_feature.index]\n",
    "\n",
    "correlated_mask = np.multiply(\n",
    "    missing_mask_,\n",
    "    selected_mask_\n",
    ")\n",
    "\n",
    "correlated_map = {\n",
    "    1: 'gray',\n",
    "    2: 'gray',\n",
    "    3: 'dodgerblue',\n",
    "    6: 'tan'\n",
    "}\n",
    "correlated_mask = [correlated_map[f] for f in correlated_mask]\n",
    "\n",
    "sns.barplot(\n",
    "    x=correlated_feature.values,\n",
    "    y=correlated_feature.index,\n",
    "    orient='h',\n",
    "    palette=correlated_mask\n",
    ")\n",
    "plt.axvline(x=0.2, linewidth=1, linestyle='--')\n",
    "plt.show()"
   ],
   "metadata": {
    "colab": {
     "base_uri": "https://localhost:8080/",
     "height": 592
    },
    "id": "HeAMFFIaR-N6",
    "outputId": "725b2372-18a8-4edc-d593-503446946492"
   },
   "execution_count": 369,
   "outputs": [
    {
     "output_type": "display_data",
     "data": {
      "text/plain": [
       "<Figure size 864x720 with 1 Axes>"
      ],
      "image/png": "[encoded data removed]"
     },
     "metadata": {}
    }
   ]
  },
  {
   "cell_type": "markdown",
   "source": [
    "네. 결과를 보아하니 중요한 피처가 맞습니다.\n",
    "\n",
    "그럼 세가지 연속형 피처 결측을 예측해야겠죠?\n",
    "\n",
    "여러가지 방법이 있을텐데요.\n",
    "\n",
    "오늘은 상관 관계가 높은 피처로 이를 예측합니다."
   ],
   "metadata": {
    "id": "zgo5hh-xV1GV"
   }
  },
  {
   "cell_type": "code",
   "source": [
    "plt.subplots(figsize=(22, 4))\n",
    "\n",
    "sns.heatmap(\n",
    "    data.corr().filter(\n",
    "        nummeric_feature).T,\n",
    "    cbar=True, annot=True, square=True, fmt='.2f',\n",
    "    cmap='inferno', vmin=0.3, vmax=0.5\n",
    ")\n",
    "plt.show()"
   ],
   "metadata": {
    "colab": {
     "base_uri": "https://localhost:8080/",
     "height": 253
    },
    "id": "XhnN-FwcuCwk",
    "outputId": "4ec91846-7857-415b-a53d-f957d1fca300"
   },
   "execution_count": 370,
   "outputs": [
    {
     "output_type": "display_data",
     "data": {
      "text/plain": [
       "<Figure size 1584x288 with 2 Axes>"
      ],
      "image/png": "[encoded data removed]"
     },
     "metadata": {}
    }
   ]
  },
  {
   "cell_type": "markdown",
   "source": [
    "자 이제 관계가 높은 데이터를 바탕으로\n",
    "\n",
    "예측을 진행해주면 될 것 같습니다.\n",
    "\n",
    "결측치 대체는 하기 라이브러리를 사용합니다.\n",
    "\n",
    "```\n",
    "pip install autoimpute\n",
    "```"
   ],
   "metadata": {
    "id": "4hJlvTuiOWRN"
   }
  },
  {
   "cell_type": "code",
   "source": [
    "from autoimpute.imputations import SingleImputer\n",
    "\n",
    "seed = 27\n",
    "\n",
    "imputer = SingleImputer(\n",
    "    strategy={\n",
    "        'LotFrontage': 'pmm',\n",
    "        'MasVnrArea': 'pmm', \n",
    "        'GarageYrBlt': 'pmm'\n",
    "    },\n",
    "    predictors={\n",
    "        'LotFrontage': ['1stFlrSF', 'GrLivArea', 'LotArea'], \n",
    "        'MasVnrArea': ['OverallQual', 'GrLivArea', 'GarageArea'],\n",
    "        'GarageYrBlt': ['YearBuilt', 'YearRemodAdd'],\n",
    "    },\n",
    "    seed=seed\n",
    ")\n",
    "imputer.fit(data)\n",
    "\n",
    "%time data = imputer.transform(data)"
   ],
   "metadata": {
    "id": "PmsJ9fKwuG9j"
   },
   "execution_count": null,
   "outputs": []
  },
  {
   "cell_type": "markdown",
   "source": [
    "아래와 같이 세가지 연속형 피처의 빈값이\n",
    "\n",
    "예측된 것을 확인할 수 있습니다.\n",
    "- LotFrontage\n",
    "- MasVnrArea\n",
    "- GarageYrBlt"
   ],
   "metadata": {
    "id": "NncrtrgqOcJB"
   }
  },
  {
   "cell_type": "code",
   "source": [
    "msno.bar(\n",
    "    data[selected_feature],\n",
    "    figsize=(14, 4), fontsize=10, label_rotation=90,\n",
    "    color=missing_mask\n",
    ")\n",
    "plt.show()"
   ],
   "metadata": {
    "colab": {
     "base_uri": "https://localhost:8080/",
     "height": 363
    },
    "id": "tJhdS0eIuHCN",
    "outputId": "a643764f-84f6-4b78-a20c-dd780e0e86aa"
   },
   "execution_count": 372,
   "outputs": [
    {
     "output_type": "display_data",
     "data": {
      "text/plain": [
       "<Figure size 1008x288 with 3 Axes>"
      ],
      "image/png": "[encoded data removed]"
     },
     "metadata": {}
    }
   ]
  },
  {
   "cell_type": "markdown",
   "source": [
    "이제 이산형 변수를 예측할 건데요.\n",
    "\n",
    "이번에는 모든 변수를 활용해서 예측을 해보겠습니다.\n",
    "\n",
    "단 결측 개수가 너무 많은 변수는 \n",
    "\n",
    "추후 모델링 시에 고려 대상임이 분명해 보이네요.\n",
    "- FireplaceQu 컬럼은 고려 대상"
   ],
   "metadata": {
    "id": "cUNnbZUCPZLQ"
   }
  },
  {
   "cell_type": "code",
   "source": [
    "imputed_feature = (\n",
    "    data[categoric_feature].isna().sum()\n",
    ").to_frame('Isna')\n",
    "\n",
    "imputed_feature.T"
   ],
   "metadata": {
    "colab": {
     "base_uri": "https://localhost:8080/",
     "height": 81
    },
    "id": "ov03UggxPV1B",
    "outputId": "f0b98325-fc6d-4c70-ddcf-91109d139f5f"
   },
   "execution_count": 373,
   "outputs": [
    {
     "output_type": "execute_result",
     "data": {
      "text/plain": [
       "      MasVnrType  GarageFinish  GarageType  BsmtFinType1  FireplaceQu  \\\n",
       "Isna           8            81          81            37          690   \n",
       "\n",
       "      BsmtQual  \n",
       "Isna        37  "
      ],
      "text/html": [
       "\n",
       "  <div id=\"df-ecdecab5-447e-4e89-8aa4-341a03f0964a\">\n",
       "    <div class=\"colab-df-container\">\n",
       "      <div>\n",
       "<style scoped>\n",
       "    .dataframe tbody tr th:only-of-type {\n",
       "        vertical-align: middle;\n",
       "    }\n",
       "\n",
       "    .dataframe tbody tr th {\n",
       "        vertical-align: top;\n",
       "    }\n",
       "\n",
       "    .dataframe thead th {\n",
       "        text-align: right;\n",
       "    }\n",
       "</style>\n",
       "<table border=\"1\" class=\"dataframe\">\n",
       "  <thead>\n",
       "    <tr style=\"text-align: right;\">\n",
       "      <th></th>\n",
       "      <th>MasVnrType</th>\n",
       "      <th>GarageFinish</th>\n",
       "      <th>GarageType</th>\n",
       "      <th>BsmtFinType1</th>\n",
       "      <th>FireplaceQu</th>\n",
       "      <th>BsmtQual</th>\n",
       "    </tr>\n",
       "  </thead>\n",
       "  <tbody>\n",
       "    <tr>\n",
       "      <th>Isna</th>\n",
       "      <td>8</td>\n",
       "      <td>81</td>\n",
       "      <td>81</td>\n",
       "      <td>37</td>\n",
       "      <td>690</td>\n",
       "      <td>37</td>\n",
       "    </tr>\n",
       "  </tbody>\n",
       "</table>\n",
       "</div>\n",
       "      <button class=\"colab-df-convert\" onclick=\"convertToInteractive('df-ecdecab5-447e-4e89-8aa4-341a03f0964a')\"\n",
       "              title=\"Convert this dataframe to an interactive table.\"\n",
       "              style=\"display:none;\">\n",
       "        \n",
       "  <svg xmlns=\"http://www.w3.org/2000/svg\" height=\"24px\"viewBox=\"0 0 24 24\"\n",
       "       width=\"24px\">\n",
       "    <path d=\"M0 0h24v24H0V0z\" fill=\"none\"/>\n",
       "    <path d=\"M18.56 5.44l.94 2.06.94-2.06 2.06-.94-2.06-.94-.94-2.06-.94 2.06-2.06.94zm-11 1L8.5 8.5l.94-2.06 2.06-.94-2.06-.94L8.5 2.5l-.94 2.06-2.06.94zm10 10l.94 2.06.94-2.06 2.06-.94-2.06-.94-.94-2.06-.94 2.06-2.06.94z\"/><path d=\"M17.41 7.96l-1.37-1.37c-.4-.4-.92-.59-1.43-.59-.52 0-1.04.2-1.43.59L10.3 9.45l-7.72 7.72c-.78.78-.78 2.05 0 2.83L4 21.41c.39.39.9.59 1.41.59.51 0 1.02-.2 1.41-.59l7.78-7.78 2.81-2.81c.8-.78.8-2.07 0-2.86zM5.41 20L4 18.59l7.72-7.72 1.47 1.35L5.41 20z\"/>\n",
       "  </svg>\n",
       "      </button>\n",
       "      \n",
       "  <style>\n",
       "    .colab-df-container {\n",
       "      display:flex;\n",
       "      flex-wrap:wrap;\n",
       "      gap: 12px;\n",
       "    }\n",
       "\n",
       "    .colab-df-convert {\n",
       "      background-color: #E8F0FE;\n",
       "      border: none;\n",
       "      border-radius: 50%;\n",
       "      cursor: pointer;\n",
       "      display: none;\n",
       "      fill: #1967D2;\n",
       "      height: 32px;\n",
       "      padding: 0 0 0 0;\n",
       "      width: 32px;\n",
       "    }\n",
       "\n",
       "    .colab-df-convert:hover {\n",
       "      background-color: #E2EBFA;\n",
       "      box-shadow: 0px 1px 2px rgba(60, 64, 67, 0.3), 0px 1px 3px 1px rgba(60, 64, 67, 0.15);\n",
       "      fill: #174EA6;\n",
       "    }\n",
       "\n",
       "    [theme=dark] .colab-df-convert {\n",
       "      background-color: #3B4455;\n",
       "      fill: #D2E3FC;\n",
       "    }\n",
       "\n",
       "    [theme=dark] .colab-df-convert:hover {\n",
       "      background-color: #434B5C;\n",
       "      box-shadow: 0px 1px 3px 1px rgba(0, 0, 0, 0.15);\n",
       "      filter: drop-shadow(0px 1px 2px rgba(0, 0, 0, 0.3));\n",
       "      fill: #FFFFFF;\n",
       "    }\n",
       "  </style>\n",
       "\n",
       "      <script>\n",
       "        const buttonEl =\n",
       "          document.querySelector('#df-ecdecab5-447e-4e89-8aa4-341a03f0964a button.colab-df-convert');\n",
       "        buttonEl.style.display =\n",
       "          google.colab.kernel.accessAllowed ? 'block' : 'none';\n",
       "\n",
       "        async function convertToInteractive(key) {\n",
       "          const element = document.querySelector('#df-ecdecab5-447e-4e89-8aa4-341a03f0964a');\n",
       "          const dataTable =\n",
       "            await google.colab.kernel.invokeFunction('convertToInteractive',\n",
       "                                                     [key], {});\n",
       "          if (!dataTable) return;\n",
       "\n",
       "          const docLinkHtml = 'Like what you see? Visit the ' +\n",
       "            '<a target=\"_blank\" href=https://colab.research.google.com/notebooks/data_table.ipynb>data table notebook</a>'\n",
       "            + ' to learn more about interactive tables.';\n",
       "          element.innerHTML = '';\n",
       "          dataTable['output_type'] = 'display_data';\n",
       "          await google.colab.output.renderOutput(dataTable, element);\n",
       "          const docLink = document.createElement('div');\n",
       "          docLink.innerHTML = docLinkHtml;\n",
       "          element.appendChild(docLink);\n",
       "        }\n",
       "      </script>\n",
       "    </div>\n",
       "  </div>\n",
       "  "
      ]
     },
     "metadata": {},
     "execution_count": 373
    }
   ]
  },
  {
   "cell_type": "markdown",
   "source": [
    "이제 이산형 변수를 예측할 건데요.\n",
    "\n",
    "이번에는 모든 변수를 활용해서 예측을 해보겠습니다."
   ],
   "metadata": {
    "id": "-TSaQZPuPLvy"
   }
  },
  {
   "cell_type": "code",
   "source": [
    "imputer = SingleImputer(\n",
    "    strategy={f: 'categorical' for f in categoric_feature},\n",
    "    predictors={f: 'all' for f in categoric_feature},\n",
    "    seed=seed,\n",
    ")\n",
    "imputer.fit(data)\n",
    "data = imputer.transform(data)"
   ],
   "metadata": {
    "id": "-s7Gy3r6uHEm"
   },
   "execution_count": 374,
   "outputs": []
  },
  {
   "cell_type": "markdown",
   "source": [
    "마지막으로 결측 개수를 확인하면\n",
    "\n",
    "모두 잘 채워진 것을 확인할 수 있습니다."
   ],
   "metadata": {
    "id": "e1f1NLrlP7_6"
   }
  },
  {
   "cell_type": "code",
   "source": [
    "msno.bar(\n",
    "    data[selected_feature],\n",
    "    figsize=(14, 4), fontsize=10, label_rotation=90,\n",
    "    color=missing_mask\n",
    ")\n",
    "plt.show()"
   ],
   "metadata": {
    "colab": {
     "base_uri": "https://localhost:8080/",
     "height": 363
    },
    "id": "n-IvlHKuP49g",
    "outputId": "d5018606-d940-48fc-c808-931f025e9d63"
   },
   "execution_count": 375,
   "outputs": [
    {
     "output_type": "display_data",
     "data": {
      "text/plain": [
       "<Figure size 1008x288 with 3 Axes>"
      ],
      "image/png": "[encoded data removed]"
     },
     "metadata": {}
    }
   ]
  },
  {
   "cell_type": "markdown",
   "source": [
    "이제 모델링을 위해 훈련과 테스트셋을 분리합니다."
   ],
   "metadata": {
    "id": "7HmvISkglMBa"
   }
  },
  {
   "cell_type": "code",
   "source": [
    "from sklearn.model_selection import train_test_split\n",
    "\n",
    "x_data = data[selected_feature]\n",
    "y_data = data[target_name]\n",
    "\n",
    "x_train, x_test, y_train, y_test = train_test_split(\n",
    "    x_data, y_data, test_size=0.3, random_state=seed\n",
    ")\n",
    "\n",
    "print(f'train shape = {x_train.shape}, {y_train.shape}')\n",
    "x_train.head(2)"
   ],
   "metadata": {
    "colab": {
     "base_uri": "https://localhost:8080/",
     "height": 160
    },
    "id": "RPgNv8BjlMWZ",
    "outputId": "2279694e-67fa-489c-a81a-51a7bcb05556"
   },
   "execution_count": 376,
   "outputs": [
    {
     "output_type": "stream",
     "name": "stdout",
     "text": [
      "train shape = (1022, 36), (1022,)\n"
     ]
    },
    {
     "output_type": "execute_result",
     "data": {
      "text/plain": [
       "    SaleType  YearRemodAdd  WoodDeckSF KitchenQual  FullBath  ...  \\\n",
       "805      New          2008           0          Ex         2  ...   \n",
       "248       WD          2003         144          Gd         2  ...   \n",
       "\n",
       "    SaleCondition  LotShape  FireplaceQu YearBuilt  BsmtQual  \n",
       "805       Partial       IR1           Gd      2008        Gd  \n",
       "248        Normal       Reg           TA      2003        Gd  \n",
       "\n",
       "[2 rows x 36 columns]"
      ],
      "text/html": [
       "\n",
       "  <div id=\"df-09f7060a-ea8d-422b-a380-749a8e9a8440\">\n",
       "    <div class=\"colab-df-container\">\n",
       "      <div>\n",
       "<style scoped>\n",
       "    .dataframe tbody tr th:only-of-type {\n",
       "        vertical-align: middle;\n",
       "    }\n",
       "\n",
       "    .dataframe tbody tr th {\n",
       "        vertical-align: top;\n",
       "    }\n",
       "\n",
       "    .dataframe thead th {\n",
       "        text-align: right;\n",
       "    }\n",
       "</style>\n",
       "<table border=\"1\" class=\"dataframe\">\n",
       "  <thead>\n",
       "    <tr style=\"text-align: right;\">\n",
       "      <th></th>\n",
       "      <th>SaleType</th>\n",
       "      <th>YearRemodAdd</th>\n",
       "      <th>WoodDeckSF</th>\n",
       "      <th>KitchenQual</th>\n",
       "      <th>FullBath</th>\n",
       "      <th>...</th>\n",
       "      <th>SaleCondition</th>\n",
       "      <th>LotShape</th>\n",
       "      <th>FireplaceQu</th>\n",
       "      <th>YearBuilt</th>\n",
       "      <th>BsmtQual</th>\n",
       "    </tr>\n",
       "  </thead>\n",
       "  <tbody>\n",
       "    <tr>\n",
       "      <th>805</th>\n",
       "      <td>New</td>\n",
       "      <td>2008</td>\n",
       "      <td>0</td>\n",
       "      <td>Ex</td>\n",
       "      <td>2</td>\n",
       "      <td>...</td>\n",
       "      <td>Partial</td>\n",
       "      <td>IR1</td>\n",
       "      <td>Gd</td>\n",
       "      <td>2008</td>\n",
       "      <td>Gd</td>\n",
       "    </tr>\n",
       "    <tr>\n",
       "      <th>248</th>\n",
       "      <td>WD</td>\n",
       "      <td>2003</td>\n",
       "      <td>144</td>\n",
       "      <td>Gd</td>\n",
       "      <td>2</td>\n",
       "      <td>...</td>\n",
       "      <td>Normal</td>\n",
       "      <td>Reg</td>\n",
       "      <td>TA</td>\n",
       "      <td>2003</td>\n",
       "      <td>Gd</td>\n",
       "    </tr>\n",
       "  </tbody>\n",
       "</table>\n",
       "<p>2 rows × 36 columns</p>\n",
       "</div>\n",
       "      <button class=\"colab-df-convert\" onclick=\"convertToInteractive('df-09f7060a-ea8d-422b-a380-749a8e9a8440')\"\n",
       "              title=\"Convert this dataframe to an interactive table.\"\n",
       "              style=\"display:none;\">\n",
       "        \n",
       "  <svg xmlns=\"http://www.w3.org/2000/svg\" height=\"24px\"viewBox=\"0 0 24 24\"\n",
       "       width=\"24px\">\n",
       "    <path d=\"M0 0h24v24H0V0z\" fill=\"none\"/>\n",
       "    <path d=\"M18.56 5.44l.94 2.06.94-2.06 2.06-.94-2.06-.94-.94-2.06-.94 2.06-2.06.94zm-11 1L8.5 8.5l.94-2.06 2.06-.94-2.06-.94L8.5 2.5l-.94 2.06-2.06.94zm10 10l.94 2.06.94-2.06 2.06-.94-2.06-.94-.94-2.06-.94 2.06-2.06.94z\"/><path d=\"M17.41 7.96l-1.37-1.37c-.4-.4-.92-.59-1.43-.59-.52 0-1.04.2-1.43.59L10.3 9.45l-7.72 7.72c-.78.78-.78 2.05 0 2.83L4 21.41c.39.39.9.59 1.41.59.51 0 1.02-.2 1.41-.59l7.78-7.78 2.81-2.81c.8-.78.8-2.07 0-2.86zM5.41 20L4 18.59l7.72-7.72 1.47 1.35L5.41 20z\"/>\n",
       "  </svg>\n",
       "      </button>\n",
       "      \n",
       "  <style>\n",
       "    .colab-df-container {\n",
       "      display:flex;\n",
       "      flex-wrap:wrap;\n",
       "      gap: 12px;\n",
       "    }\n",
       "\n",
       "    .colab-df-convert {\n",
       "      background-color: #E8F0FE;\n",
       "      border: none;\n",
       "      border-radius: 50%;\n",
       "      cursor: pointer;\n",
       "      display: none;\n",
       "      fill: #1967D2;\n",
       "      height: 32px;\n",
       "      padding: 0 0 0 0;\n",
       "      width: 32px;\n",
       "    }\n",
       "\n",
       "    .colab-df-convert:hover {\n",
       "      background-color: #E2EBFA;\n",
       "      box-shadow: 0px 1px 2px rgba(60, 64, 67, 0.3), 0px 1px 3px 1px rgba(60, 64, 67, 0.15);\n",
       "      fill: #174EA6;\n",
       "    }\n",
       "\n",
       "    [theme=dark] .colab-df-convert {\n",
       "      background-color: #3B4455;\n",
       "      fill: #D2E3FC;\n",
       "    }\n",
       "\n",
       "    [theme=dark] .colab-df-convert:hover {\n",
       "      background-color: #434B5C;\n",
       "      box-shadow: 0px 1px 3px 1px rgba(0, 0, 0, 0.15);\n",
       "      filter: drop-shadow(0px 1px 2px rgba(0, 0, 0, 0.3));\n",
       "      fill: #FFFFFF;\n",
       "    }\n",
       "  </style>\n",
       "\n",
       "      <script>\n",
       "        const buttonEl =\n",
       "          document.querySelector('#df-09f7060a-ea8d-422b-a380-749a8e9a8440 button.colab-df-convert');\n",
       "        buttonEl.style.display =\n",
       "          google.colab.kernel.accessAllowed ? 'block' : 'none';\n",
       "\n",
       "        async function convertToInteractive(key) {\n",
       "          const element = document.querySelector('#df-09f7060a-ea8d-422b-a380-749a8e9a8440');\n",
       "          const dataTable =\n",
       "            await google.colab.kernel.invokeFunction('convertToInteractive',\n",
       "                                                     [key], {});\n",
       "          if (!dataTable) return;\n",
       "\n",
       "          const docLinkHtml = 'Like what you see? Visit the ' +\n",
       "            '<a target=\"_blank\" href=https://colab.research.google.com/notebooks/data_table.ipynb>data table notebook</a>'\n",
       "            + ' to learn more about interactive tables.';\n",
       "          element.innerHTML = '';\n",
       "          dataTable['output_type'] = 'display_data';\n",
       "          await google.colab.output.renderOutput(dataTable, element);\n",
       "          const docLink = document.createElement('div');\n",
       "          docLink.innerHTML = docLinkHtml;\n",
       "          element.appendChild(docLink);\n",
       "        }\n",
       "      </script>\n",
       "    </div>\n",
       "  </div>\n",
       "  "
      ]
     },
     "metadata": {},
     "execution_count": 376
    }
   ]
  },
  {
   "cell_type": "markdown",
   "source": [
    "베이스라인 모델링 마지막 부분입니다.\n",
    "\n",
    "피처 엔지니어링 전에 오토 사이킷런으로 예측 베이스라인을 잡을거에요.\n",
    "\n",
    "- 10분간 적합한 모델 탐색\n",
    "- 앙상블 크기는 5\n",
    "\n",
    "모델링에는 하기 라이브러리를 사용해요.\n",
    "\n",
    "```\n",
    "!pip install auto-sklearn\n",
    "```"
   ],
   "metadata": {
    "id": "q_spu1z8QbFK"
   }
  },
  {
   "cell_type": "code",
   "source": [
    "from autosklearn.regression import AutoSklearnRegressor\n",
    "from autosklearn.metrics import root_mean_squared_error\n",
    "\n",
    "minute = 10\n",
    "\n",
    "automl = AutoSklearnRegressor(\n",
    "    load_models=True,\n",
    "    time_left_for_this_task=60*minute,\n",
    "    resampling_strategy='cv',\n",
    "    metric=root_mean_squared_error,\n",
    "    ensemble_size=5,\n",
    "    memory_limit=10**4,\n",
    "    seed=seed,\n",
    ")\n",
    "automl.fit(x_train, y_train)"
   ],
   "metadata": {
    "id": "vVoimaEfolxS"
   },
   "execution_count": null,
   "outputs": []
  },
  {
   "cell_type": "markdown",
   "source": [
    "예측 결과와 앙상블에 활용된 모델을 표시합니다.\n",
    "\n",
    "베이스라인 결과를 바탕으로 개선을 실시할 수 있습니다."
   ],
   "metadata": {
    "id": "D7MLMQF8lraM"
   }
  },
  {
   "cell_type": "code",
   "source": [
    "y_pred = automl.predict(\n",
    "    x_test[selected_feature]\n",
    ")\n",
    "test_score = root_mean_squared_error(\n",
    "    y_test, y_pred\n",
    ")\n",
    "\n",
    "print(f'test score = {-test_score:.5f}')\n",
    "\n",
    "automl.leaderboard()"
   ],
   "metadata": {
    "colab": {
     "base_uri": "https://localhost:8080/",
     "height": 162
    },
    "id": "e1xaRPVqlpR0",
    "outputId": "e120f3c9-e309-47e9-ccb5-01e5efc37251"
   },
   "execution_count": 380,
   "outputs": [
    {
     "output_type": "stream",
     "name": "stdout",
     "text": [
      "test score = 0.14943\n"
     ]
    },
    {
     "output_type": "execute_result",
     "data": {
      "text/plain": [
       "          rank  ensemble_weight         type      cost   duration\n",
       "model_id                                                         \n",
       "18           1              0.8  extra_trees  0.142609  18.234271\n",
       "17           2              0.2  extra_trees  0.146299  15.660621"
      ],
      "text/html": [
       "\n",
       "  <div id=\"df-591978cf-c8ce-4303-9398-650beacf78d7\">\n",
       "    <div class=\"colab-df-container\">\n",
       "      <div>\n",
       "<style scoped>\n",
       "    .dataframe tbody tr th:only-of-type {\n",
       "        vertical-align: middle;\n",
       "    }\n",
       "\n",
       "    .dataframe tbody tr th {\n",
       "        vertical-align: top;\n",
       "    }\n",
       "\n",
       "    .dataframe thead th {\n",
       "        text-align: right;\n",
       "    }\n",
       "</style>\n",
       "<table border=\"1\" class=\"dataframe\">\n",
       "  <thead>\n",
       "    <tr style=\"text-align: right;\">\n",
       "      <th></th>\n",
       "      <th>rank</th>\n",
       "      <th>ensemble_weight</th>\n",
       "      <th>type</th>\n",
       "      <th>cost</th>\n",
       "      <th>duration</th>\n",
       "    </tr>\n",
       "    <tr>\n",
       "      <th>model_id</th>\n",
       "      <th></th>\n",
       "      <th></th>\n",
       "      <th></th>\n",
       "      <th></th>\n",
       "      <th></th>\n",
       "    </tr>\n",
       "  </thead>\n",
       "  <tbody>\n",
       "    <tr>\n",
       "      <th>18</th>\n",
       "      <td>1</td>\n",
       "      <td>0.8</td>\n",
       "      <td>extra_trees</td>\n",
       "      <td>0.142609</td>\n",
       "      <td>18.234271</td>\n",
       "    </tr>\n",
       "    <tr>\n",
       "      <th>17</th>\n",
       "      <td>2</td>\n",
       "      <td>0.2</td>\n",
       "      <td>extra_trees</td>\n",
       "      <td>0.146299</td>\n",
       "      <td>15.660621</td>\n",
       "    </tr>\n",
       "  </tbody>\n",
       "</table>\n",
       "</div>\n",
       "      <button class=\"colab-df-convert\" onclick=\"convertToInteractive('df-591978cf-c8ce-4303-9398-650beacf78d7')\"\n",
       "              title=\"Convert this dataframe to an interactive table.\"\n",
       "              style=\"display:none;\">\n",
       "        \n",
       "  <svg xmlns=\"http://www.w3.org/2000/svg\" height=\"24px\"viewBox=\"0 0 24 24\"\n",
       "       width=\"24px\">\n",
       "    <path d=\"M0 0h24v24H0V0z\" fill=\"none\"/>\n",
       "    <path d=\"M18.56 5.44l.94 2.06.94-2.06 2.06-.94-2.06-.94-.94-2.06-.94 2.06-2.06.94zm-11 1L8.5 8.5l.94-2.06 2.06-.94-2.06-.94L8.5 2.5l-.94 2.06-2.06.94zm10 10l.94 2.06.94-2.06 2.06-.94-2.06-.94-.94-2.06-.94 2.06-2.06.94z\"/><path d=\"M17.41 7.96l-1.37-1.37c-.4-.4-.92-.59-1.43-.59-.52 0-1.04.2-1.43.59L10.3 9.45l-7.72 7.72c-.78.78-.78 2.05 0 2.83L4 21.41c.39.39.9.59 1.41.59.51 0 1.02-.2 1.41-.59l7.78-7.78 2.81-2.81c.8-.78.8-2.07 0-2.86zM5.41 20L4 18.59l7.72-7.72 1.47 1.35L5.41 20z\"/>\n",
       "  </svg>\n",
       "      </button>\n",
       "      \n",
       "  <style>\n",
       "    .colab-df-container {\n",
       "      display:flex;\n",
       "      flex-wrap:wrap;\n",
       "      gap: 12px;\n",
       "    }\n",
       "\n",
       "    .colab-df-convert {\n",
       "      background-color: #E8F0FE;\n",
       "      border: none;\n",
       "      border-radius: 50%;\n",
       "      cursor: pointer;\n",
       "      display: none;\n",
       "      fill: #1967D2;\n",
       "      height: 32px;\n",
       "      padding: 0 0 0 0;\n",
       "      width: 32px;\n",
       "    }\n",
       "\n",
       "    .colab-df-convert:hover {\n",
       "      background-color: #E2EBFA;\n",
       "      box-shadow: 0px 1px 2px rgba(60, 64, 67, 0.3), 0px 1px 3px 1px rgba(60, 64, 67, 0.15);\n",
       "      fill: #174EA6;\n",
       "    }\n",
       "\n",
       "    [theme=dark] .colab-df-convert {\n",
       "      background-color: #3B4455;\n",
       "      fill: #D2E3FC;\n",
       "    }\n",
       "\n",
       "    [theme=dark] .colab-df-convert:hover {\n",
       "      background-color: #434B5C;\n",
       "      box-shadow: 0px 1px 3px 1px rgba(0, 0, 0, 0.15);\n",
       "      filter: drop-shadow(0px 1px 2px rgba(0, 0, 0, 0.3));\n",
       "      fill: #FFFFFF;\n",
       "    }\n",
       "  </style>\n",
       "\n",
       "      <script>\n",
       "        const buttonEl =\n",
       "          document.querySelector('#df-591978cf-c8ce-4303-9398-650beacf78d7 button.colab-df-convert');\n",
       "        buttonEl.style.display =\n",
       "          google.colab.kernel.accessAllowed ? 'block' : 'none';\n",
       "\n",
       "        async function convertToInteractive(key) {\n",
       "          const element = document.querySelector('#df-591978cf-c8ce-4303-9398-650beacf78d7');\n",
       "          const dataTable =\n",
       "            await google.colab.kernel.invokeFunction('convertToInteractive',\n",
       "                                                     [key], {});\n",
       "          if (!dataTable) return;\n",
       "\n",
       "          const docLinkHtml = 'Like what you see? Visit the ' +\n",
       "            '<a target=\"_blank\" href=https://colab.research.google.com/notebooks/data_table.ipynb>data table notebook</a>'\n",
       "            + ' to learn more about interactive tables.';\n",
       "          element.innerHTML = '';\n",
       "          dataTable['output_type'] = 'display_data';\n",
       "          await google.colab.output.renderOutput(dataTable, element);\n",
       "          const docLink = document.createElement('div');\n",
       "          docLink.innerHTML = docLinkHtml;\n",
       "          element.appendChild(docLink);\n",
       "        }\n",
       "      </script>\n",
       "    </div>\n",
       "  </div>\n",
       "  "
      ]
     },
     "metadata": {},
     "execution_count": 380
    }
   ]
  },
  {
   "cell_type": "markdown",
   "source": [
    "피처 엔지니어링에 사용할 데이터를 출력합니다."
   ],
   "metadata": {
    "id": "s3s70sVsnAuR"
   }
  },
  {
   "cell_type": "code",
   "source": [
    "prep_data = pd.concat(\n",
    "    [x_data, y_data], \n",
    "    axis=1\n",
    ")\n",
    "prep_data.to_csv('house_price_prepared.csv', header=True, index=False)\n",
    "\n",
    "print(f'prepared data shape = {prep_data.shape}')\n",
    "prep_data.head(2)"
   ],
   "metadata": {
    "colab": {
     "base_uri": "https://localhost:8080/",
     "height": 160
    },
    "id": "K7QZxIGzmYxB",
    "outputId": "d5302415-8573-4b9a-8f73-86af0c412f3c"
   },
   "execution_count": 382,
   "outputs": [
    {
     "output_type": "stream",
     "name": "stdout",
     "text": [
      "prepared data shape = (1460, 37)\n"
     ]
    },
    {
     "output_type": "execute_result",
     "data": {
      "text/plain": [
       "  SaleType  YearRemodAdd  WoodDeckSF KitchenQual  FullBath  ... LotShape  \\\n",
       "0       WD          2003           0          Gd         2  ...      Reg   \n",
       "1       WD          1976         298          TA         2  ...      Reg   \n",
       "\n",
       "   FireplaceQu  YearBuilt BsmtQual  SalePrice  \n",
       "0           Gd       2003       Gd  12.247699  \n",
       "1           TA       1976       Gd  12.109016  \n",
       "\n",
       "[2 rows x 37 columns]"
      ],
      "text/html": [
       "\n",
       "  <div id=\"df-5c572bad-053f-44a2-ae8c-4d9c5b77c00f\">\n",
       "    <div class=\"colab-df-container\">\n",
       "      <div>\n",
       "<style scoped>\n",
       "    .dataframe tbody tr th:only-of-type {\n",
       "        vertical-align: middle;\n",
       "    }\n",
       "\n",
       "    .dataframe tbody tr th {\n",
       "        vertical-align: top;\n",
       "    }\n",
       "\n",
       "    .dataframe thead th {\n",
       "        text-align: right;\n",
       "    }\n",
       "</style>\n",
       "<table border=\"1\" class=\"dataframe\">\n",
       "  <thead>\n",
       "    <tr style=\"text-align: right;\">\n",
       "      <th></th>\n",
       "      <th>SaleType</th>\n",
       "      <th>YearRemodAdd</th>\n",
       "      <th>WoodDeckSF</th>\n",
       "      <th>KitchenQual</th>\n",
       "      <th>FullBath</th>\n",
       "      <th>...</th>\n",
       "      <th>LotShape</th>\n",
       "      <th>FireplaceQu</th>\n",
       "      <th>YearBuilt</th>\n",
       "      <th>BsmtQual</th>\n",
       "      <th>SalePrice</th>\n",
       "    </tr>\n",
       "  </thead>\n",
       "  <tbody>\n",
       "    <tr>\n",
       "      <th>0</th>\n",
       "      <td>WD</td>\n",
       "      <td>2003</td>\n",
       "      <td>0</td>\n",
       "      <td>Gd</td>\n",
       "      <td>2</td>\n",
       "      <td>...</td>\n",
       "      <td>Reg</td>\n",
       "      <td>Gd</td>\n",
       "      <td>2003</td>\n",
       "      <td>Gd</td>\n",
       "      <td>12.247699</td>\n",
       "    </tr>\n",
       "    <tr>\n",
       "      <th>1</th>\n",
       "      <td>WD</td>\n",
       "      <td>1976</td>\n",
       "      <td>298</td>\n",
       "      <td>TA</td>\n",
       "      <td>2</td>\n",
       "      <td>...</td>\n",
       "      <td>Reg</td>\n",
       "      <td>TA</td>\n",
       "      <td>1976</td>\n",
       "      <td>Gd</td>\n",
       "      <td>12.109016</td>\n",
       "    </tr>\n",
       "  </tbody>\n",
       "</table>\n",
       "<p>2 rows × 37 columns</p>\n",
       "</div>\n",
       "      <button class=\"colab-df-convert\" onclick=\"convertToInteractive('df-5c572bad-053f-44a2-ae8c-4d9c5b77c00f')\"\n",
       "              title=\"Convert this dataframe to an interactive table.\"\n",
       "              style=\"display:none;\">\n",
       "        \n",
       "  <svg xmlns=\"http://www.w3.org/2000/svg\" height=\"24px\"viewBox=\"0 0 24 24\"\n",
       "       width=\"24px\">\n",
       "    <path d=\"M0 0h24v24H0V0z\" fill=\"none\"/>\n",
       "    <path d=\"M18.56 5.44l.94 2.06.94-2.06 2.06-.94-2.06-.94-.94-2.06-.94 2.06-2.06.94zm-11 1L8.5 8.5l.94-2.06 2.06-.94-2.06-.94L8.5 2.5l-.94 2.06-2.06.94zm10 10l.94 2.06.94-2.06 2.06-.94-2.06-.94-.94-2.06-.94 2.06-2.06.94z\"/><path d=\"M17.41 7.96l-1.37-1.37c-.4-.4-.92-.59-1.43-.59-.52 0-1.04.2-1.43.59L10.3 9.45l-7.72 7.72c-.78.78-.78 2.05 0 2.83L4 21.41c.39.39.9.59 1.41.59.51 0 1.02-.2 1.41-.59l7.78-7.78 2.81-2.81c.8-.78.8-2.07 0-2.86zM5.41 20L4 18.59l7.72-7.72 1.47 1.35L5.41 20z\"/>\n",
       "  </svg>\n",
       "      </button>\n",
       "      \n",
       "  <style>\n",
       "    .colab-df-container {\n",
       "      display:flex;\n",
       "      flex-wrap:wrap;\n",
       "      gap: 12px;\n",
       "    }\n",
       "\n",
       "    .colab-df-convert {\n",
       "      background-color: #E8F0FE;\n",
       "      border: none;\n",
       "      border-radius: 50%;\n",
       "      cursor: pointer;\n",
       "      display: none;\n",
       "      fill: #1967D2;\n",
       "      height: 32px;\n",
       "      padding: 0 0 0 0;\n",
       "      width: 32px;\n",
       "    }\n",
       "\n",
       "    .colab-df-convert:hover {\n",
       "      background-color: #E2EBFA;\n",
       "      box-shadow: 0px 1px 2px rgba(60, 64, 67, 0.3), 0px 1px 3px 1px rgba(60, 64, 67, 0.15);\n",
       "      fill: #174EA6;\n",
       "    }\n",
       "\n",
       "    [theme=dark] .colab-df-convert {\n",
       "      background-color: #3B4455;\n",
       "      fill: #D2E3FC;\n",
       "    }\n",
       "\n",
       "    [theme=dark] .colab-df-convert:hover {\n",
       "      background-color: #434B5C;\n",
       "      box-shadow: 0px 1px 3px 1px rgba(0, 0, 0, 0.15);\n",
       "      filter: drop-shadow(0px 1px 2px rgba(0, 0, 0, 0.3));\n",
       "      fill: #FFFFFF;\n",
       "    }\n",
       "  </style>\n",
       "\n",
       "      <script>\n",
       "        const buttonEl =\n",
       "          document.querySelector('#df-5c572bad-053f-44a2-ae8c-4d9c5b77c00f button.colab-df-convert');\n",
       "        buttonEl.style.display =\n",
       "          google.colab.kernel.accessAllowed ? 'block' : 'none';\n",
       "\n",
       "        async function convertToInteractive(key) {\n",
       "          const element = document.querySelector('#df-5c572bad-053f-44a2-ae8c-4d9c5b77c00f');\n",
       "          const dataTable =\n",
       "            await google.colab.kernel.invokeFunction('convertToInteractive',\n",
       "                                                     [key], {});\n",
       "          if (!dataTable) return;\n",
       "\n",
       "          const docLinkHtml = 'Like what you see? Visit the ' +\n",
       "            '<a target=\"_blank\" href=https://colab.research.google.com/notebooks/data_table.ipynb>data table notebook</a>'\n",
       "            + ' to learn more about interactive tables.';\n",
       "          element.innerHTML = '';\n",
       "          dataTable['output_type'] = 'display_data';\n",
       "          await google.colab.output.renderOutput(dataTable, element);\n",
       "          const docLink = document.createElement('div');\n",
       "          docLink.innerHTML = docLinkHtml;\n",
       "          element.appendChild(docLink);\n",
       "        }\n",
       "      </script>\n",
       "    </div>\n",
       "  </div>\n",
       "  "
      ]
     },
     "metadata": {},
     "execution_count": 382
    }
   ]
  }
 ]
}