{
  "nbformat": 4,
  "nbformat_minor": 0,
  "metadata": {
    "colab": {
      "provenance": [],
      "authorship_tag": "ABX9TyMxzIfvnuxI7XtqTTPn5HFn",
      "include_colab_link": true
    },
    "kernelspec": {
      "name": "python3",
      "display_name": "Python 3"
    },
    "language_info": {
      "name": "python"
    }
  },
  "cells": [
    {
      "cell_type": "markdown",
      "metadata": {
        "id": "view-in-github",
        "colab_type": "text"
      },
      "source": [
        "<a href=\"https://colab.research.google.com/github/space-data-robert/cosmos-python-machine/blob/master/regressor_baseline_with_house_price_.ipynb\" target=\"_parent\"><img src=\"https://colab.research.google.com/assets/colab-badge.svg\" alt=\"Open In Colab\"/></a>"
      ]
    },
    {
      "cell_type": "markdown",
      "source": [
        "오늘은 주택 가격 예측 모델의 베이스라인을 잡을거에요.\n",
        "\n",
        "주택 가격 데이터는 캐글에서 [다운로드](https://www.kaggle.com/competitions/house-prices-advanced-regression-techniques) 하시면 되구요."
      ],
      "metadata": {
        "id": "DZnAU-6J2ZKK"
      }
    },
    {
      "cell_type": "code",
      "source": [
        "data_name = 'house_price.csv'\n",
        "target_name = 'SalePrice'"
      ],
      "metadata": {
        "id": "8fiwzUPC2YGJ"
      },
      "execution_count": null,
      "outputs": []
    },
    {
      "cell_type": "markdown",
      "source": [
        "스크립트 실행 시에 경고를 제거할거에요.\n",
        "\n",
        "경고를 읽는 것은 좋지만 출력이 어지럽답니다."
      ],
      "metadata": {
        "id": "t44uXB6fzQYu"
      }
    },
    {
      "cell_type": "code",
      "source": [
        "import warnings\n",
        "warnings.filterwarnings('ignore')"
      ],
      "metadata": {
        "id": "xzfW0H1s1M3E"
      },
      "execution_count": null,
      "outputs": []
    },
    {
      "cell_type": "markdown",
      "source": [
        "이제 캐글 데이터를 불러오구요.\n",
        "\n",
        "타겟 이름에 따라 데이터를 분할할거에요.\n",
        "- 피처와 타겟 데이터"
      ],
      "metadata": {
        "id": "Pxc3gs1NEpsS"
      }
    },
    {
      "cell_type": "code",
      "source": [
        "import numpy as np\n",
        "import pandas as pd\n",
        "pd.set_option('display.max_columns', 10)\n",
        "\n",
        "data = pd.read_csv(data_name)\n",
        "\n",
        "y_data = data[target_name]\n",
        "\n",
        "print(f'data shape = {data.shape}')\n",
        "data.head(2)"
      ],
      "metadata": {
        "colab": {
          "base_uri": "https://localhost:8080/",
          "height": 160
        },
        "id": "v956JM7L12Rk",
        "outputId": "515ba1b8-21d8-4705-913d-8248b4d9cc20"
      },
      "execution_count": null,
      "outputs": [
        {
          "output_type": "stream",
          "name": "stdout",
          "text": [
            "data shape = (1460, 81)\n"
          ]
        },
        {
          "output_type": "execute_result",
          "data": {
            "text/plain": [
              "   Id  MSSubClass MSZoning  LotFrontage  LotArea  ... MoSold YrSold SaleType  \\\n",
              "0   1          60       RL         65.0     8450  ...      2   2008       WD   \n",
              "1   2          20       RL         80.0     9600  ...      5   2007       WD   \n",
              "\n",
              "  SaleCondition SalePrice  \n",
              "0        Normal    208500  \n",
              "1        Normal    181500  \n",
              "\n",
              "[2 rows x 81 columns]"
            ],
            "text/html": [
              "\n",
              "  <div id=\"df-e90efa4a-6dc6-4ca5-911a-b6b63fb27c9c\">\n",
              "    <div class=\"colab-df-container\">\n",
              "      <div>\n",
              "<style scoped>\n",
              "    .dataframe tbody tr th:only-of-type {\n",
              "        vertical-align: middle;\n",
              "    }\n",
              "\n",
              "    .dataframe tbody tr th {\n",
              "        vertical-align: top;\n",
              "    }\n",
              "\n",
              "    .dataframe thead th {\n",
              "        text-align: right;\n",
              "    }\n",
              "</style>\n",
              "<table border=\"1\" class=\"dataframe\">\n",
              "  <thead>\n",
              "    <tr style=\"text-align: right;\">\n",
              "      <th></th>\n",
              "      <th>Id</th>\n",
              "      <th>MSSubClass</th>\n",
              "      <th>MSZoning</th>\n",
              "      <th>LotFrontage</th>\n",
              "      <th>LotArea</th>\n",
              "      <th>...</th>\n",
              "      <th>MoSold</th>\n",
              "      <th>YrSold</th>\n",
              "      <th>SaleType</th>\n",
              "      <th>SaleCondition</th>\n",
              "      <th>SalePrice</th>\n",
              "    </tr>\n",
              "  </thead>\n",
              "  <tbody>\n",
              "    <tr>\n",
              "      <th>0</th>\n",
              "      <td>1</td>\n",
              "      <td>60</td>\n",
              "      <td>RL</td>\n",
              "      <td>65.0</td>\n",
              "      <td>8450</td>\n",
              "      <td>...</td>\n",
              "      <td>2</td>\n",
              "      <td>2008</td>\n",
              "      <td>WD</td>\n",
              "      <td>Normal</td>\n",
              "      <td>208500</td>\n",
              "    </tr>\n",
              "    <tr>\n",
              "      <th>1</th>\n",
              "      <td>2</td>\n",
              "      <td>20</td>\n",
              "      <td>RL</td>\n",
              "      <td>80.0</td>\n",
              "      <td>9600</td>\n",
              "      <td>...</td>\n",
              "      <td>5</td>\n",
              "      <td>2007</td>\n",
              "      <td>WD</td>\n",
              "      <td>Normal</td>\n",
              "      <td>181500</td>\n",
              "    </tr>\n",
              "  </tbody>\n",
              "</table>\n",
              "<p>2 rows × 81 columns</p>\n",
              "</div>\n",
              "      <button class=\"colab-df-convert\" onclick=\"convertToInteractive('df-e90efa4a-6dc6-4ca5-911a-b6b63fb27c9c')\"\n",
              "              title=\"Convert this dataframe to an interactive table.\"\n",
              "              style=\"display:none;\">\n",
              "        \n",
              "  <svg xmlns=\"http://www.w3.org/2000/svg\" height=\"24px\"viewBox=\"0 0 24 24\"\n",
              "       width=\"24px\">\n",
              "    <path d=\"M0 0h24v24H0V0z\" fill=\"none\"/>\n",
              "    <path d=\"M18.56 5.44l.94 2.06.94-2.06 2.06-.94-2.06-.94-.94-2.06-.94 2.06-2.06.94zm-11 1L8.5 8.5l.94-2.06 2.06-.94-2.06-.94L8.5 2.5l-.94 2.06-2.06.94zm10 10l.94 2.06.94-2.06 2.06-.94-2.06-.94-.94-2.06-.94 2.06-2.06.94z\"/><path d=\"M17.41 7.96l-1.37-1.37c-.4-.4-.92-.59-1.43-.59-.52 0-1.04.2-1.43.59L10.3 9.45l-7.72 7.72c-.78.78-.78 2.05 0 2.83L4 21.41c.39.39.9.59 1.41.59.51 0 1.02-.2 1.41-.59l7.78-7.78 2.81-2.81c.8-.78.8-2.07 0-2.86zM5.41 20L4 18.59l7.72-7.72 1.47 1.35L5.41 20z\"/>\n",
              "  </svg>\n",
              "      </button>\n",
              "      \n",
              "  <style>\n",
              "    .colab-df-container {\n",
              "      display:flex;\n",
              "      flex-wrap:wrap;\n",
              "      gap: 12px;\n",
              "    }\n",
              "\n",
              "    .colab-df-convert {\n",
              "      background-color: #E8F0FE;\n",
              "      border: none;\n",
              "      border-radius: 50%;\n",
              "      cursor: pointer;\n",
              "      display: none;\n",
              "      fill: #1967D2;\n",
              "      height: 32px;\n",
              "      padding: 0 0 0 0;\n",
              "      width: 32px;\n",
              "    }\n",
              "\n",
              "    .colab-df-convert:hover {\n",
              "      background-color: #E2EBFA;\n",
              "      box-shadow: 0px 1px 2px rgba(60, 64, 67, 0.3), 0px 1px 3px 1px rgba(60, 64, 67, 0.15);\n",
              "      fill: #174EA6;\n",
              "    }\n",
              "\n",
              "    [theme=dark] .colab-df-convert {\n",
              "      background-color: #3B4455;\n",
              "      fill: #D2E3FC;\n",
              "    }\n",
              "\n",
              "    [theme=dark] .colab-df-convert:hover {\n",
              "      background-color: #434B5C;\n",
              "      box-shadow: 0px 1px 3px 1px rgba(0, 0, 0, 0.15);\n",
              "      filter: drop-shadow(0px 1px 2px rgba(0, 0, 0, 0.3));\n",
              "      fill: #FFFFFF;\n",
              "    }\n",
              "  </style>\n",
              "\n",
              "      <script>\n",
              "        const buttonEl =\n",
              "          document.querySelector('#df-e90efa4a-6dc6-4ca5-911a-b6b63fb27c9c button.colab-df-convert');\n",
              "        buttonEl.style.display =\n",
              "          google.colab.kernel.accessAllowed ? 'block' : 'none';\n",
              "\n",
              "        async function convertToInteractive(key) {\n",
              "          const element = document.querySelector('#df-e90efa4a-6dc6-4ca5-911a-b6b63fb27c9c');\n",
              "          const dataTable =\n",
              "            await google.colab.kernel.invokeFunction('convertToInteractive',\n",
              "                                                     [key], {});\n",
              "          if (!dataTable) return;\n",
              "\n",
              "          const docLinkHtml = 'Like what you see? Visit the ' +\n",
              "            '<a target=\"_blank\" href=https://colab.research.google.com/notebooks/data_table.ipynb>data table notebook</a>'\n",
              "            + ' to learn more about interactive tables.';\n",
              "          element.innerHTML = '';\n",
              "          dataTable['output_type'] = 'display_data';\n",
              "          await google.colab.output.renderOutput(dataTable, element);\n",
              "          const docLink = document.createElement('div');\n",
              "          docLink.innerHTML = docLinkHtml;\n",
              "          element.appendChild(docLink);\n",
              "        }\n",
              "      </script>\n",
              "    </div>\n",
              "  </div>\n",
              "  "
            ]
          },
          "metadata": {},
          "execution_count": 88
        }
      ]
    },
    {
      "cell_type": "markdown",
      "source": [
        "회귀 분석에서 타겟 분포는 매우 중요해요.\n",
        "\n",
        "정규성을 만족하는지 확인 필요할 것 같네요.\n"
      ],
      "metadata": {
        "id": "MehWWRHc156s"
      }
    },
    {
      "cell_type": "code",
      "source": [
        "from scipy.stats import kstest\n",
        "\n",
        "statistics, pvalue = kstest(\n",
        "    y_data, 'norm',\n",
        "    args=(y_data.mean(), y_data.var() ** 0.5)\n",
        ")\n",
        "print(f'normal pvalue = {pvalue:.3f}')"
      ],
      "metadata": {
        "colab": {
          "base_uri": "https://localhost:8080/"
        },
        "id": "PWJWw_Rp2Rla",
        "outputId": "a0f6a16a-7acc-4a52-dbfb-4caf59b0d8aa"
      },
      "execution_count": null,
      "outputs": [
        {
          "output_type": "stream",
          "name": "stdout",
          "text": [
            "normal pvalue = 0.000\n"
          ]
        }
      ]
    },
    {
      "cell_type": "markdown",
      "source": [
        "매우 작은 값이 나왔는데요.\n",
        "\n",
        "이는 정규 분포와 다르다는 것을 의미해요.\n",
        "\n",
        "정규 분포를 따지는 두가지가 있는데 알고 계시나요?\n",
        "- 왜도가 절대값 10 이하\n",
        "- 첨도는 절대값 3 미만\n"
      ],
      "metadata": {
        "id": "wrlnBVWY50ab"
      }
    },
    {
      "cell_type": "markdown",
      "source": [
        "먼저 첨도를 확인해보면 위로 뾰족한 형태로 망했네요."
      ],
      "metadata": {
        "id": "CZqlRoZe9HC6"
      }
    },
    {
      "cell_type": "code",
      "source": [
        "from scipy.stats import kurtosis\n",
        "\n",
        "kurtosis_ = kurtosis(y_data, fisher=False)\n",
        "print(f'kurtosis = {kurtosis_: .3f}')"
      ],
      "metadata": {
        "colab": {
          "base_uri": "https://localhost:8080/"
        },
        "id": "8gq3fg6d9Key",
        "outputId": "13e70ec2-4eb0-45ff-d011-718491c16b19"
      },
      "execution_count": null,
      "outputs": [
        {
          "output_type": "stream",
          "name": "stdout",
          "text": [
            "kurtosis =  9.510\n"
          ]
        }
      ]
    },
    {
      "cell_type": "markdown",
      "source": [
        "디행이도 왜도의 경우는 정규성 조건을 만족해요."
      ],
      "metadata": {
        "id": "2IhKoCLw9u7C"
      }
    },
    {
      "cell_type": "code",
      "source": [
        "from scipy.stats import skew\n",
        "\n",
        "skewness = skew(y_data)\n",
        "print(f'skewness = {skewness: .3f}')"
      ],
      "metadata": {
        "colab": {
          "base_uri": "https://localhost:8080/"
        },
        "id": "_SC1ivqg6v1O",
        "outputId": "f55e060a-db93-4732-f180-bbf3b491d560"
      },
      "execution_count": null,
      "outputs": [
        {
          "output_type": "stream",
          "name": "stdout",
          "text": [
            "skewness =  1.881\n"
          ]
        }
      ]
    },
    {
      "cell_type": "markdown",
      "source": [
        "하지만 걱정하지 마세요.\n",
        "\n",
        "데이터에 로그를 씌운다면 이를 해결할 수 있어요.\n",
        "\n",
        "아래와 같이 정규 분포와 거의 유사한 모습을 볼 수 있어요."
      ],
      "metadata": {
        "id": "g8dibO1094iy"
      }
    },
    {
      "cell_type": "code",
      "source": [
        "y_data = y_data.apply(\n",
        "    lambda x: np.log1p(x)\n",
        ")\n",
        "\n",
        "kurtosis_ = kurtosis(y_data, fisher=False)\n",
        "skewness = skew(y_data)\n",
        "\n",
        "print(f'kurtosis = {kurtosis_: .3f} skewness = {skewness: .3f}')"
      ],
      "metadata": {
        "colab": {
          "base_uri": "https://localhost:8080/"
        },
        "id": "Zatw9qDi8ZmC",
        "outputId": "c50f7dc7-2bfe-4523-a815-57dbf81d8f5a"
      },
      "execution_count": null,
      "outputs": [
        {
          "output_type": "stream",
          "name": "stdout",
          "text": [
            "kurtosis =  3.803 skewness =  0.121\n"
          ]
        }
      ]
    },
    {
      "cell_type": "markdown",
      "source": [
        "다음으로 중요한 피처가 어떠한 것들이 있는지 쓱 파악할거에요.\n",
        "\n",
        "그 방법으로 피처 선택 모델을 활용합니다.\n",
        "- 선택할 피처 개수는 50개"
      ],
      "metadata": {
        "id": "ATg_4PjXDNd6"
      }
    },
    {
      "cell_type": "code",
      "source": [
        "from sklearn.feature_selection import SelectKBest, f_regression\n",
        "\n",
        "feature_count = 50\n",
        "\n",
        "selector = SelectKBest(f_regression, k=feature_count)"
      ],
      "metadata": {
        "id": "5zcgx_GPEOVs"
      },
      "execution_count": null,
      "outputs": []
    },
    {
      "cell_type": "markdown",
      "source": [
        "우리는 두가지 형태 피처를 가지고 있어요.\n",
        "- 연속적인 또는 이산적인 값\n",
        "\n",
        "따라서 원 핫 인코딩이 필요할거에요."
      ],
      "metadata": {
        "id": "YP76ezjbEQAj"
      }
    },
    {
      "cell_type": "code",
      "source": [
        "x_data = pd.get_dummies(\n",
        "    data, dummy_na=True\n",
        ").dropna(axis=0)\n",
        "\n",
        "y_data = x_data.pop(target_name)\n",
        "\n",
        "print(f'x data shape = {x_data.shape}')\n",
        "x_data.head(2)"
      ],
      "metadata": {
        "colab": {
          "base_uri": "https://localhost:8080/",
          "height": 160
        },
        "id": "RMk7vftBDLoa",
        "outputId": "bf33ab50-4fdb-4472-e693-1c6084608806"
      },
      "execution_count": null,
      "outputs": [
        {
          "output_type": "stream",
          "name": "stdout",
          "text": [
            "x data shape = (1121, 332)\n"
          ]
        },
        {
          "output_type": "execute_result",
          "data": {
            "text/plain": [
              "   Id  MSSubClass  LotFrontage  LotArea  OverallQual  ...  \\\n",
              "0   1          60         65.0     8450            7  ...   \n",
              "1   2          20         80.0     9600            6  ...   \n",
              "\n",
              "   SaleCondition_Alloca  SaleCondition_Family  SaleCondition_Normal  \\\n",
              "0                     0                     0                     1   \n",
              "1                     0                     0                     1   \n",
              "\n",
              "   SaleCondition_Partial  SaleCondition_nan  \n",
              "0                      0                  0  \n",
              "1                      0                  0  \n",
              "\n",
              "[2 rows x 332 columns]"
            ],
            "text/html": [
              "\n",
              "  <div id=\"df-2b5e4552-fc4f-47e9-8f59-14ebace9ff00\">\n",
              "    <div class=\"colab-df-container\">\n",
              "      <div>\n",
              "<style scoped>\n",
              "    .dataframe tbody tr th:only-of-type {\n",
              "        vertical-align: middle;\n",
              "    }\n",
              "\n",
              "    .dataframe tbody tr th {\n",
              "        vertical-align: top;\n",
              "    }\n",
              "\n",
              "    .dataframe thead th {\n",
              "        text-align: right;\n",
              "    }\n",
              "</style>\n",
              "<table border=\"1\" class=\"dataframe\">\n",
              "  <thead>\n",
              "    <tr style=\"text-align: right;\">\n",
              "      <th></th>\n",
              "      <th>Id</th>\n",
              "      <th>MSSubClass</th>\n",
              "      <th>LotFrontage</th>\n",
              "      <th>LotArea</th>\n",
              "      <th>OverallQual</th>\n",
              "      <th>...</th>\n",
              "      <th>SaleCondition_Alloca</th>\n",
              "      <th>SaleCondition_Family</th>\n",
              "      <th>SaleCondition_Normal</th>\n",
              "      <th>SaleCondition_Partial</th>\n",
              "      <th>SaleCondition_nan</th>\n",
              "    </tr>\n",
              "  </thead>\n",
              "  <tbody>\n",
              "    <tr>\n",
              "      <th>0</th>\n",
              "      <td>1</td>\n",
              "      <td>60</td>\n",
              "      <td>65.0</td>\n",
              "      <td>8450</td>\n",
              "      <td>7</td>\n",
              "      <td>...</td>\n",
              "      <td>0</td>\n",
              "      <td>0</td>\n",
              "      <td>1</td>\n",
              "      <td>0</td>\n",
              "      <td>0</td>\n",
              "    </tr>\n",
              "    <tr>\n",
              "      <th>1</th>\n",
              "      <td>2</td>\n",
              "      <td>20</td>\n",
              "      <td>80.0</td>\n",
              "      <td>9600</td>\n",
              "      <td>6</td>\n",
              "      <td>...</td>\n",
              "      <td>0</td>\n",
              "      <td>0</td>\n",
              "      <td>1</td>\n",
              "      <td>0</td>\n",
              "      <td>0</td>\n",
              "    </tr>\n",
              "  </tbody>\n",
              "</table>\n",
              "<p>2 rows × 332 columns</p>\n",
              "</div>\n",
              "      <button class=\"colab-df-convert\" onclick=\"convertToInteractive('df-2b5e4552-fc4f-47e9-8f59-14ebace9ff00')\"\n",
              "              title=\"Convert this dataframe to an interactive table.\"\n",
              "              style=\"display:none;\">\n",
              "        \n",
              "  <svg xmlns=\"http://www.w3.org/2000/svg\" height=\"24px\"viewBox=\"0 0 24 24\"\n",
              "       width=\"24px\">\n",
              "    <path d=\"M0 0h24v24H0V0z\" fill=\"none\"/>\n",
              "    <path d=\"M18.56 5.44l.94 2.06.94-2.06 2.06-.94-2.06-.94-.94-2.06-.94 2.06-2.06.94zm-11 1L8.5 8.5l.94-2.06 2.06-.94-2.06-.94L8.5 2.5l-.94 2.06-2.06.94zm10 10l.94 2.06.94-2.06 2.06-.94-2.06-.94-.94-2.06-.94 2.06-2.06.94z\"/><path d=\"M17.41 7.96l-1.37-1.37c-.4-.4-.92-.59-1.43-.59-.52 0-1.04.2-1.43.59L10.3 9.45l-7.72 7.72c-.78.78-.78 2.05 0 2.83L4 21.41c.39.39.9.59 1.41.59.51 0 1.02-.2 1.41-.59l7.78-7.78 2.81-2.81c.8-.78.8-2.07 0-2.86zM5.41 20L4 18.59l7.72-7.72 1.47 1.35L5.41 20z\"/>\n",
              "  </svg>\n",
              "      </button>\n",
              "      \n",
              "  <style>\n",
              "    .colab-df-container {\n",
              "      display:flex;\n",
              "      flex-wrap:wrap;\n",
              "      gap: 12px;\n",
              "    }\n",
              "\n",
              "    .colab-df-convert {\n",
              "      background-color: #E8F0FE;\n",
              "      border: none;\n",
              "      border-radius: 50%;\n",
              "      cursor: pointer;\n",
              "      display: none;\n",
              "      fill: #1967D2;\n",
              "      height: 32px;\n",
              "      padding: 0 0 0 0;\n",
              "      width: 32px;\n",
              "    }\n",
              "\n",
              "    .colab-df-convert:hover {\n",
              "      background-color: #E2EBFA;\n",
              "      box-shadow: 0px 1px 2px rgba(60, 64, 67, 0.3), 0px 1px 3px 1px rgba(60, 64, 67, 0.15);\n",
              "      fill: #174EA6;\n",
              "    }\n",
              "\n",
              "    [theme=dark] .colab-df-convert {\n",
              "      background-color: #3B4455;\n",
              "      fill: #D2E3FC;\n",
              "    }\n",
              "\n",
              "    [theme=dark] .colab-df-convert:hover {\n",
              "      background-color: #434B5C;\n",
              "      box-shadow: 0px 1px 3px 1px rgba(0, 0, 0, 0.15);\n",
              "      filter: drop-shadow(0px 1px 2px rgba(0, 0, 0, 0.3));\n",
              "      fill: #FFFFFF;\n",
              "    }\n",
              "  </style>\n",
              "\n",
              "      <script>\n",
              "        const buttonEl =\n",
              "          document.querySelector('#df-2b5e4552-fc4f-47e9-8f59-14ebace9ff00 button.colab-df-convert');\n",
              "        buttonEl.style.display =\n",
              "          google.colab.kernel.accessAllowed ? 'block' : 'none';\n",
              "\n",
              "        async function convertToInteractive(key) {\n",
              "          const element = document.querySelector('#df-2b5e4552-fc4f-47e9-8f59-14ebace9ff00');\n",
              "          const dataTable =\n",
              "            await google.colab.kernel.invokeFunction('convertToInteractive',\n",
              "                                                     [key], {});\n",
              "          if (!dataTable) return;\n",
              "\n",
              "          const docLinkHtml = 'Like what you see? Visit the ' +\n",
              "            '<a target=\"_blank\" href=https://colab.research.google.com/notebooks/data_table.ipynb>data table notebook</a>'\n",
              "            + ' to learn more about interactive tables.';\n",
              "          element.innerHTML = '';\n",
              "          dataTable['output_type'] = 'display_data';\n",
              "          await google.colab.output.renderOutput(dataTable, element);\n",
              "          const docLink = document.createElement('div');\n",
              "          docLink.innerHTML = docLinkHtml;\n",
              "          element.appendChild(docLink);\n",
              "        }\n",
              "      </script>\n",
              "    </div>\n",
              "  </div>\n",
              "  "
            ]
          },
          "metadata": {},
          "execution_count": 94
        }
      ]
    },
    {
      "cell_type": "markdown",
      "source": [
        "이제 피팅을 시켜서 중요 피처를 확인해봅니다.\n",
        "\n",
        "50개 피처가 뽑혔고 이산 데이터의 경우\n",
        "\n",
        "언더바로 중요값까지 뽑힌걸 확인할 수 있을거에요."
      ],
      "metadata": {
        "id": "PEqQ1PzIF3fr"
      }
    },
    {
      "cell_type": "code",
      "source": [
        "%time selector.fit_transform(x_data, y_data)\n",
        "\n",
        "selected_mask = selector.get_support()\n",
        "all_feature = x_data.columns\n",
        "\n",
        "selected_feature = all_feature[selected_mask]"
      ],
      "metadata": {
        "colab": {
          "base_uri": "https://localhost:8080/"
        },
        "id": "wA3HY0uUF1LQ",
        "outputId": "d1e5723a-c452-47fb-dfee-ebdff904a022"
      },
      "execution_count": null,
      "outputs": [
        {
          "output_type": "stream",
          "name": "stdout",
          "text": [
            "CPU times: user 16.8 ms, sys: 8.99 ms, total: 25.7 ms\n",
            "Wall time: 18.7 ms\n"
          ]
        }
      ]
    },
    {
      "cell_type": "markdown",
      "source": [
        "이 작업을 통해 우리는 피처 엔지니어링에서\n",
        "\n",
        "선택과 집중을 할 수 있을 것이라 믿어요.\n",
        "- 중요 피처 기준 탐색적 분석을 실시\n",
        "- 중요 피처 결측치 체크\n"
      ],
      "metadata": {
        "id": "q-xTzs9VG137"
      }
    },
    {
      "cell_type": "markdown",
      "source": [
        "마지막으로 중복되는 피처 이름을 제거하고\n",
        "\n",
        "리스트에 담아놓습니다."
      ],
      "metadata": {
        "id": "FmzT1ZBVTO8j"
      }
    },
    {
      "cell_type": "code",
      "source": [
        "feature = pd.DataFrame(\n",
        "    [f.split('_') for f in selected_feature],\n",
        "    columns=['FeatureName', 'FeatureValue']\n",
        ")\n",
        "selected_feature = list(set(feature.FeatureName))\n",
        "\n",
        "feature.T"
      ],
      "metadata": {
        "colab": {
          "base_uri": "https://localhost:8080/",
          "height": 141
        },
        "id": "7j_5Nh5yJkes",
        "outputId": "300aff13-c4af-42d0-9c8c-80c15d3d9889"
      },
      "execution_count": null,
      "outputs": [
        {
          "output_type": "execute_result",
          "data": {
            "text/plain": [
              "                       0        1            2          3             4   ...  \\\n",
              "FeatureName   LotFrontage  LotArea  OverallQual  YearBuilt  YearRemodAdd  ...   \n",
              "FeatureValue         None     None         None       None          None  ...   \n",
              "\n",
              "                      45            46            47        48             49  \n",
              "FeatureName   GarageType  GarageFinish  GarageFinish  SaleType  SaleCondition  \n",
              "FeatureValue      Detchd           Fin           Unf       New        Partial  \n",
              "\n",
              "[2 rows x 50 columns]"
            ],
            "text/html": [
              "\n",
              "  <div id=\"df-b56311a1-3a8b-403e-bf91-34d2a33cba98\">\n",
              "    <div class=\"colab-df-container\">\n",
              "      <div>\n",
              "<style scoped>\n",
              "    .dataframe tbody tr th:only-of-type {\n",
              "        vertical-align: middle;\n",
              "    }\n",
              "\n",
              "    .dataframe tbody tr th {\n",
              "        vertical-align: top;\n",
              "    }\n",
              "\n",
              "    .dataframe thead th {\n",
              "        text-align: right;\n",
              "    }\n",
              "</style>\n",
              "<table border=\"1\" class=\"dataframe\">\n",
              "  <thead>\n",
              "    <tr style=\"text-align: right;\">\n",
              "      <th></th>\n",
              "      <th>0</th>\n",
              "      <th>1</th>\n",
              "      <th>2</th>\n",
              "      <th>3</th>\n",
              "      <th>4</th>\n",
              "      <th>...</th>\n",
              "      <th>45</th>\n",
              "      <th>46</th>\n",
              "      <th>47</th>\n",
              "      <th>48</th>\n",
              "      <th>49</th>\n",
              "    </tr>\n",
              "  </thead>\n",
              "  <tbody>\n",
              "    <tr>\n",
              "      <th>FeatureName</th>\n",
              "      <td>LotFrontage</td>\n",
              "      <td>LotArea</td>\n",
              "      <td>OverallQual</td>\n",
              "      <td>YearBuilt</td>\n",
              "      <td>YearRemodAdd</td>\n",
              "      <td>...</td>\n",
              "      <td>GarageType</td>\n",
              "      <td>GarageFinish</td>\n",
              "      <td>GarageFinish</td>\n",
              "      <td>SaleType</td>\n",
              "      <td>SaleCondition</td>\n",
              "    </tr>\n",
              "    <tr>\n",
              "      <th>FeatureValue</th>\n",
              "      <td>None</td>\n",
              "      <td>None</td>\n",
              "      <td>None</td>\n",
              "      <td>None</td>\n",
              "      <td>None</td>\n",
              "      <td>...</td>\n",
              "      <td>Detchd</td>\n",
              "      <td>Fin</td>\n",
              "      <td>Unf</td>\n",
              "      <td>New</td>\n",
              "      <td>Partial</td>\n",
              "    </tr>\n",
              "  </tbody>\n",
              "</table>\n",
              "<p>2 rows × 50 columns</p>\n",
              "</div>\n",
              "      <button class=\"colab-df-convert\" onclick=\"convertToInteractive('df-b56311a1-3a8b-403e-bf91-34d2a33cba98')\"\n",
              "              title=\"Convert this dataframe to an interactive table.\"\n",
              "              style=\"display:none;\">\n",
              "        \n",
              "  <svg xmlns=\"http://www.w3.org/2000/svg\" height=\"24px\"viewBox=\"0 0 24 24\"\n",
              "       width=\"24px\">\n",
              "    <path d=\"M0 0h24v24H0V0z\" fill=\"none\"/>\n",
              "    <path d=\"M18.56 5.44l.94 2.06.94-2.06 2.06-.94-2.06-.94-.94-2.06-.94 2.06-2.06.94zm-11 1L8.5 8.5l.94-2.06 2.06-.94-2.06-.94L8.5 2.5l-.94 2.06-2.06.94zm10 10l.94 2.06.94-2.06 2.06-.94-2.06-.94-.94-2.06-.94 2.06-2.06.94z\"/><path d=\"M17.41 7.96l-1.37-1.37c-.4-.4-.92-.59-1.43-.59-.52 0-1.04.2-1.43.59L10.3 9.45l-7.72 7.72c-.78.78-.78 2.05 0 2.83L4 21.41c.39.39.9.59 1.41.59.51 0 1.02-.2 1.41-.59l7.78-7.78 2.81-2.81c.8-.78.8-2.07 0-2.86zM5.41 20L4 18.59l7.72-7.72 1.47 1.35L5.41 20z\"/>\n",
              "  </svg>\n",
              "      </button>\n",
              "      \n",
              "  <style>\n",
              "    .colab-df-container {\n",
              "      display:flex;\n",
              "      flex-wrap:wrap;\n",
              "      gap: 12px;\n",
              "    }\n",
              "\n",
              "    .colab-df-convert {\n",
              "      background-color: #E8F0FE;\n",
              "      border: none;\n",
              "      border-radius: 50%;\n",
              "      cursor: pointer;\n",
              "      display: none;\n",
              "      fill: #1967D2;\n",
              "      height: 32px;\n",
              "      padding: 0 0 0 0;\n",
              "      width: 32px;\n",
              "    }\n",
              "\n",
              "    .colab-df-convert:hover {\n",
              "      background-color: #E2EBFA;\n",
              "      box-shadow: 0px 1px 2px rgba(60, 64, 67, 0.3), 0px 1px 3px 1px rgba(60, 64, 67, 0.15);\n",
              "      fill: #174EA6;\n",
              "    }\n",
              "\n",
              "    [theme=dark] .colab-df-convert {\n",
              "      background-color: #3B4455;\n",
              "      fill: #D2E3FC;\n",
              "    }\n",
              "\n",
              "    [theme=dark] .colab-df-convert:hover {\n",
              "      background-color: #434B5C;\n",
              "      box-shadow: 0px 1px 3px 1px rgba(0, 0, 0, 0.15);\n",
              "      filter: drop-shadow(0px 1px 2px rgba(0, 0, 0, 0.3));\n",
              "      fill: #FFFFFF;\n",
              "    }\n",
              "  </style>\n",
              "\n",
              "      <script>\n",
              "        const buttonEl =\n",
              "          document.querySelector('#df-b56311a1-3a8b-403e-bf91-34d2a33cba98 button.colab-df-convert');\n",
              "        buttonEl.style.display =\n",
              "          google.colab.kernel.accessAllowed ? 'block' : 'none';\n",
              "\n",
              "        async function convertToInteractive(key) {\n",
              "          const element = document.querySelector('#df-b56311a1-3a8b-403e-bf91-34d2a33cba98');\n",
              "          const dataTable =\n",
              "            await google.colab.kernel.invokeFunction('convertToInteractive',\n",
              "                                                     [key], {});\n",
              "          if (!dataTable) return;\n",
              "\n",
              "          const docLinkHtml = 'Like what you see? Visit the ' +\n",
              "            '<a target=\"_blank\" href=https://colab.research.google.com/notebooks/data_table.ipynb>data table notebook</a>'\n",
              "            + ' to learn more about interactive tables.';\n",
              "          element.innerHTML = '';\n",
              "          dataTable['output_type'] = 'display_data';\n",
              "          await google.colab.output.renderOutput(dataTable, element);\n",
              "          const docLink = document.createElement('div');\n",
              "          docLink.innerHTML = docLinkHtml;\n",
              "          element.appendChild(docLink);\n",
              "        }\n",
              "      </script>\n",
              "    </div>\n",
              "  </div>\n",
              "  "
            ]
          },
          "metadata": {},
          "execution_count": 180
        }
      ]
    },
    {
      "cell_type": "markdown",
      "source": [
        "이제 결측치를 처리해볼게요.\n",
        "\n",
        "그렇다면 결측치가 얼마나 존재하는지 확인해야겠죠?\n",
        "- 푸른색은 불완전한 데이터"
      ],
      "metadata": {
        "id": "SYD0CbmvNtYF"
      }
    },
    {
      "cell_type": "code",
      "source": [
        "import missingno as msno\n",
        "import matplotlib.pyplot as plt\n",
        "plt.style.use('dark_background')\n",
        "\n",
        "missing_mask = (\n",
        "    data[selected_feature].isna().sum() != 0\n",
        ").values\n",
        "\n",
        "missing_map = {\n",
        "    True: 'dodgerblue', \n",
        "    False: 'tan'\n",
        "}\n",
        "missing_mask = [missing_map[m] for m in missing_mask]\n",
        "\n",
        "msno.bar(\n",
        "    data[selected_feature],\n",
        "    figsize=(14, 4), fontsize=10, label_rotation=90,\n",
        "    color=missing_mask\n",
        ")\n",
        "plt.show()"
      ],
      "metadata": {
        "colab": {
          "base_uri": "https://localhost:8080/",
          "height": 363
        },
        "id": "8GCdKClWLpbT",
        "outputId": "e2409381-309f-4780-88e3-93cda12e3f84"
      },
      "execution_count": null,
      "outputs": [
        {
          "output_type": "display_data",
          "data": {
            "text/plain": [
              "<Figure size 1008x288 with 3 Axes>"
            ],
            "image/png": "[encoded data removed]"
          },
          "metadata": {}
        }
      ]
    },
    {
      "cell_type": "markdown",
      "source": [
        "이제 본격적으로 결측치 처리를 할건데요.\n",
        "\n",
        "결측치 처리에는 크게 세가지가 존재해요.\n",
        "\n",
        "이 장에서는 결측치 예측을 진행할 것이고\n",
        "\n",
        "먼저 연속형 피처를 처리하도록 하죠."
      ],
      "metadata": {
        "id": "qaqZG1_uO_Y9"
      }
    },
    {
      "cell_type": "code",
      "source": [
        "nummeric_feature = list()\n",
        "categoric_feature = list()\n",
        "\n",
        "for (f, m) in zip(selected_feature, missing_mask):\n",
        "    if m != 'dodgerblue':\n",
        "        continue\n",
        "        \n",
        "    if f in data.dtypes[data.dtypes != 'object'].index:\n",
        "        nummeric_feature.append(f)\n",
        "    else:\n",
        "        categoric_feature.append(f)\n",
        "\n",
        "missing_feature = nummeric_feature + categoric_feature\n",
        "\n",
        "print(f'nummeric count = {len(nummeric_feature)}')"
      ],
      "metadata": {
        "colab": {
          "base_uri": "https://localhost:8080/"
        },
        "id": "I4tv9vYNO7ON",
        "outputId": "ed6cb748-5941-44ee-fd58-0e1767017916"
      },
      "execution_count": null,
      "outputs": [
        {
          "output_type": "stream",
          "name": "stdout",
          "text": [
            "nummeric count = 3\n"
          ]
        }
      ]
    },
    {
      "cell_type": "markdown",
      "source": [
        "그나저나 피처가 정말 잘 뽑힌게 맞나요?\n",
        "\n",
        "상관 관계로 이를 짐작해 볼 수 있지 않을까요? (자문자답)\n",
        "\n",
        "네. 확인해봅시다."
      ],
      "metadata": {
        "id": "0kZUBb4dT3Ie"
      }
    },
    {
      "cell_type": "code",
      "source": [
        "import numpy as np\n",
        "import seaborn as sns\n",
        "\n",
        "plt.subplots(figsize=(12, 10))\n",
        "\n",
        "correlated_feature = data.corr().SalePrice.sort_values()\n",
        "\n",
        "missing_mask_ = [1 if f in missing_feature else 2 for f in correlated_feature.index]\n",
        "selected_mask_ = [3 if f in selected_feature else 1 for f in correlated_feature.index]\n",
        "\n",
        "correlated_mask = np.multiply(\n",
        "    missing_mask_,\n",
        "    selected_mask_\n",
        ")\n",
        "\n",
        "correlated_map = {\n",
        "    1: 'gray',\n",
        "    2: 'gray',\n",
        "    3: 'dodgerblue',\n",
        "    6: 'tan'\n",
        "}\n",
        "correlated_mask = [correlated_map[f] for f in correlated_mask]\n",
        "\n",
        "sns.barplot(\n",
        "    x=correlated_feature.values,\n",
        "    y=correlated_feature.index,\n",
        "    orient='h',\n",
        "    palette=correlated_mask\n",
        ")\n",
        "plt.axvline(x=0.2, linewidth=1, linestyle='--')\n",
        "plt.show()"
      ],
      "metadata": {
        "colab": {
          "base_uri": "https://localhost:8080/",
          "height": 592
        },
        "id": "HeAMFFIaR-N6",
        "outputId": "b3bd9708-7908-421f-ad6d-a9c4e9bef82b"
      },
      "execution_count": null,
      "outputs": [
        {
          "output_type": "display_data",
          "data": {
            "text/plain": [
              "<Figure size 864x720 with 1 Axes>"
            ],
            "image/png": "[encoded data removed]"
          },
          "metadata": {}
        }
      ]
    },
    {
      "cell_type": "markdown",
      "source": [
        "네. 결과를 보아하니 중요한 피처가 맞습니다.\n",
        "\n",
        "그럼 세가지 연속형 피처 결측을 예측해야겠죠?\n",
        "\n",
        "여러가지 방법이 있을텐데요.\n",
        "\n",
        "오늘은 상관 관계가 높은 피처로 이를 예측해 보려해요."
      ],
      "metadata": {
        "id": "zgo5hh-xV1GV"
      }
    },
    {
      "cell_type": "markdown",
      "source": [
        "잠깐만요. 그거 아시나요?\n",
        "\n",
        "결측치를 대체하거나 예측하려 할 때\n",
        "\n",
        "너무 많은 양의 빈값이 있다면\n",
        "\n",
        "우리는 해당 피처를 사용할 수 없어요.\n",
        "\n",
        "따라서 빈값이 30% 이상인 경우 확인할거에요.\n",
        "- 30% 이상인 경우 피처 활용을 고민"
      ],
      "metadata": {
        "id": "MFRk5EUzWz3X"
      }
    },
    {
      "cell_type": "code",
      "source": [
        "imputed_feature = (\n",
        "    data[nummeric_feature].isna().sum()\n",
        ").to_frame('Isna')\n",
        "\n",
        "imputed_feature.T"
      ],
      "metadata": {
        "colab": {
          "base_uri": "https://localhost:8080/",
          "height": 81
        },
        "id": "xX99KVyYcBId",
        "outputId": "1f804099-8f12-424b-cc13-b1ded6f7f84f"
      },
      "execution_count": null,
      "outputs": [
        {
          "output_type": "execute_result",
          "data": {
            "text/plain": [
              "      GarageYrBlt  LotFrontage  MasVnrArea\n",
              "Isna           81          259           8"
            ],
            "text/html": [
              "\n",
              "  <div id=\"df-2e404ec7-948c-49d1-b0f3-f7847897d688\">\n",
              "    <div class=\"colab-df-container\">\n",
              "      <div>\n",
              "<style scoped>\n",
              "    .dataframe tbody tr th:only-of-type {\n",
              "        vertical-align: middle;\n",
              "    }\n",
              "\n",
              "    .dataframe tbody tr th {\n",
              "        vertical-align: top;\n",
              "    }\n",
              "\n",
              "    .dataframe thead th {\n",
              "        text-align: right;\n",
              "    }\n",
              "</style>\n",
              "<table border=\"1\" class=\"dataframe\">\n",
              "  <thead>\n",
              "    <tr style=\"text-align: right;\">\n",
              "      <th></th>\n",
              "      <th>GarageYrBlt</th>\n",
              "      <th>LotFrontage</th>\n",
              "      <th>MasVnrArea</th>\n",
              "    </tr>\n",
              "  </thead>\n",
              "  <tbody>\n",
              "    <tr>\n",
              "      <th>Isna</th>\n",
              "      <td>81</td>\n",
              "      <td>259</td>\n",
              "      <td>8</td>\n",
              "    </tr>\n",
              "  </tbody>\n",
              "</table>\n",
              "</div>\n",
              "      <button class=\"colab-df-convert\" onclick=\"convertToInteractive('df-2e404ec7-948c-49d1-b0f3-f7847897d688')\"\n",
              "              title=\"Convert this dataframe to an interactive table.\"\n",
              "              style=\"display:none;\">\n",
              "        \n",
              "  <svg xmlns=\"http://www.w3.org/2000/svg\" height=\"24px\"viewBox=\"0 0 24 24\"\n",
              "       width=\"24px\">\n",
              "    <path d=\"M0 0h24v24H0V0z\" fill=\"none\"/>\n",
              "    <path d=\"M18.56 5.44l.94 2.06.94-2.06 2.06-.94-2.06-.94-.94-2.06-.94 2.06-2.06.94zm-11 1L8.5 8.5l.94-2.06 2.06-.94-2.06-.94L8.5 2.5l-.94 2.06-2.06.94zm10 10l.94 2.06.94-2.06 2.06-.94-2.06-.94-.94-2.06-.94 2.06-2.06.94z\"/><path d=\"M17.41 7.96l-1.37-1.37c-.4-.4-.92-.59-1.43-.59-.52 0-1.04.2-1.43.59L10.3 9.45l-7.72 7.72c-.78.78-.78 2.05 0 2.83L4 21.41c.39.39.9.59 1.41.59.51 0 1.02-.2 1.41-.59l7.78-7.78 2.81-2.81c.8-.78.8-2.07 0-2.86zM5.41 20L4 18.59l7.72-7.72 1.47 1.35L5.41 20z\"/>\n",
              "  </svg>\n",
              "      </button>\n",
              "      \n",
              "  <style>\n",
              "    .colab-df-container {\n",
              "      display:flex;\n",
              "      flex-wrap:wrap;\n",
              "      gap: 12px;\n",
              "    }\n",
              "\n",
              "    .colab-df-convert {\n",
              "      background-color: #E8F0FE;\n",
              "      border: none;\n",
              "      border-radius: 50%;\n",
              "      cursor: pointer;\n",
              "      display: none;\n",
              "      fill: #1967D2;\n",
              "      height: 32px;\n",
              "      padding: 0 0 0 0;\n",
              "      width: 32px;\n",
              "    }\n",
              "\n",
              "    .colab-df-convert:hover {\n",
              "      background-color: #E2EBFA;\n",
              "      box-shadow: 0px 1px 2px rgba(60, 64, 67, 0.3), 0px 1px 3px 1px rgba(60, 64, 67, 0.15);\n",
              "      fill: #174EA6;\n",
              "    }\n",
              "\n",
              "    [theme=dark] .colab-df-convert {\n",
              "      background-color: #3B4455;\n",
              "      fill: #D2E3FC;\n",
              "    }\n",
              "\n",
              "    [theme=dark] .colab-df-convert:hover {\n",
              "      background-color: #434B5C;\n",
              "      box-shadow: 0px 1px 3px 1px rgba(0, 0, 0, 0.15);\n",
              "      filter: drop-shadow(0px 1px 2px rgba(0, 0, 0, 0.3));\n",
              "      fill: #FFFFFF;\n",
              "    }\n",
              "  </style>\n",
              "\n",
              "      <script>\n",
              "        const buttonEl =\n",
              "          document.querySelector('#df-2e404ec7-948c-49d1-b0f3-f7847897d688 button.colab-df-convert');\n",
              "        buttonEl.style.display =\n",
              "          google.colab.kernel.accessAllowed ? 'block' : 'none';\n",
              "\n",
              "        async function convertToInteractive(key) {\n",
              "          const element = document.querySelector('#df-2e404ec7-948c-49d1-b0f3-f7847897d688');\n",
              "          const dataTable =\n",
              "            await google.colab.kernel.invokeFunction('convertToInteractive',\n",
              "                                                     [key], {});\n",
              "          if (!dataTable) return;\n",
              "\n",
              "          const docLinkHtml = 'Like what you see? Visit the ' +\n",
              "            '<a target=\"_blank\" href=https://colab.research.google.com/notebooks/data_table.ipynb>data table notebook</a>'\n",
              "            + ' to learn more about interactive tables.';\n",
              "          element.innerHTML = '';\n",
              "          dataTable['output_type'] = 'display_data';\n",
              "          await google.colab.output.renderOutput(dataTable, element);\n",
              "          const docLink = document.createElement('div');\n",
              "          docLink.innerHTML = docLinkHtml;\n",
              "          element.appendChild(docLink);\n",
              "        }\n",
              "      </script>\n",
              "    </div>\n",
              "  </div>\n",
              "  "
            ]
          },
          "metadata": {},
          "execution_count": 268
        }
      ]
    },
    {
      "cell_type": "markdown",
      "source": [
        "이제 상관 관계를 시각화 해볼게요.\n",
        "\n",
        "만약 상관 관계가 존재한다면 해당 변수로\n",
        "\n",
        "우리 결측치를 채울 수 있어요."
      ],
      "metadata": {
        "id": "rssfxJRjcCxa"
      }
    },
    {
      "cell_type": "code",
      "source": [
        "plt.subplots(figsize=(22, 4))\n",
        "\n",
        "sns.heatmap(\n",
        "    data.corr().filter(\n",
        "        imputed_feature.index).T,\n",
        "    cbar=True, annot=True, square=True, fmt='.2f',\n",
        "    cmap='inferno', vmin=0.3, vmax=0.5\n",
        ")\n",
        "plt.show()"
      ],
      "metadata": {
        "colab": {
          "base_uri": "https://localhost:8080/",
          "height": 265
        },
        "id": "hJu73h20V0vN",
        "outputId": "c7e660da-7a0c-4836-bec2-c92e1ac77250"
      },
      "execution_count": null,
      "outputs": [
        {
          "output_type": "display_data",
          "data": {
            "text/plain": [
              "<Figure size 1584x288 with 2 Axes>"
            ],
            "image/png": "[encoded data removed]"
          },
          "metadata": {}
        }
      ]
    },
    {
      "cell_type": "markdown",
      "source": [
        "자 이제 관계가 높은 데이터를 바탕으로\n",
        "\n",
        "예측을 진행해주면 되는데요.\n",
        "\n",
        "오토 임퓨트 모델을 사용해보도록 할게요."
      ],
      "metadata": {
        "id": "Qg9HSI_CcShQ"
      }
    },
    {
      "cell_type": "code",
      "source": [
        "from autoimpute.imputations import SingleImputer\n",
        "\n",
        "seed = 27\n",
        "\n",
        "imputer = SingleImputer(\n",
        "    strategy={\n",
        "        'LotFrontage': 'pmm',\n",
        "        'MasVnrArea': 'pmm', \n",
        "        'GarageYrBlt': 'pmm'\n",
        "    },\n",
        "    predictors={\n",
        "        'LotFrontage': ['1stFlrSF', 'GrLivArea', 'LotArea'], \n",
        "        'MasVnrArea': ['OverallQual', 'GrLivArea', 'GarageArea'],\n",
        "        'GarageYrBlt': ['YearBuilt', 'YearRemodAdd'],\n",
        "        \n",
        "        \n",
        "    },\n",
        "    seed=seed\n",
        ")\n",
        "imputer.fit(data)\n",
        "\n",
        "%time data = imputer.transform(data)"
      ],
      "metadata": {
        "id": "azuMNp63dDk_"
      },
      "execution_count": null,
      "outputs": []
    },
    {
      "cell_type": "code",
      "source": [
        "# data.to_csv('house_price_prepared_1.csv', header=True, index=False)"
      ],
      "metadata": {
        "id": "VcsR_PUsgYKY"
      },
      "execution_count": null,
      "outputs": []
    },
    {
      "cell_type": "markdown",
      "source": [
        "아래와 같이 세가지 연속형 피처의 빈값이\n",
        "\n",
        "예측된 것을 확인할 수 있습니다.\n",
        "- LotFrontage\n",
        "- MasVnrArea\n",
        "- GarageYrBlt"
      ],
      "metadata": {
        "id": "6rMXEoIpfQ4W"
      }
    },
    {
      "cell_type": "code",
      "source": [
        "msno.bar(\n",
        "    data[selected_feature],\n",
        "    figsize=(14, 4), fontsize=10, label_rotation=90,\n",
        "    color=missing_mask\n",
        ")\n",
        "plt.show()"
      ],
      "metadata": {
        "colab": {
          "base_uri": "https://localhost:8080/",
          "height": 363
        },
        "id": "v6y8HNeefDms",
        "outputId": "2bc9bcc3-ba77-4044-bf2e-f98f8c1f181e"
      },
      "execution_count": null,
      "outputs": [
        {
          "output_type": "display_data",
          "data": {
            "text/plain": [
              "<Figure size 1008x288 with 3 Axes>"
            ],
            "image/png": "[encoded data removed]"
          },
          "metadata": {}
        }
      ]
    },
    {
      "cell_type": "markdown",
      "source": [
        "다시 이산형 결측 개수를 확인할 것이구요."
      ],
      "metadata": {
        "id": "2W7WqHRvgx4o"
      }
    },
    {
      "cell_type": "code",
      "source": [
        "imputed_feature = (\n",
        "    data[categoric_feature].isna().sum()\n",
        ").to_frame('Isna')\n",
        "\n",
        "imputed_feature.T"
      ],
      "metadata": {
        "colab": {
          "base_uri": "https://localhost:8080/",
          "height": 81
        },
        "id": "0ZL_0L8Sh5em",
        "outputId": "e9231990-e24d-4dfd-b6a6-91305dfd076f"
      },
      "execution_count": null,
      "outputs": [
        {
          "output_type": "execute_result",
          "data": {
            "text/plain": [
              "      BsmtQual  BsmtExposure  BsmtFinType1  GarageFinish  MasVnrType  \\\n",
              "Isna        37            38            37            81           8   \n",
              "\n",
              "      FireplaceQu  GarageType  \n",
              "Isna          690          81  "
            ],
            "text/html": [
              "\n",
              "  <div id=\"df-47ed158f-ac19-4d92-a30b-e4a7d027c3a0\">\n",
              "    <div class=\"colab-df-container\">\n",
              "      <div>\n",
              "<style scoped>\n",
              "    .dataframe tbody tr th:only-of-type {\n",
              "        vertical-align: middle;\n",
              "    }\n",
              "\n",
              "    .dataframe tbody tr th {\n",
              "        vertical-align: top;\n",
              "    }\n",
              "\n",
              "    .dataframe thead th {\n",
              "        text-align: right;\n",
              "    }\n",
              "</style>\n",
              "<table border=\"1\" class=\"dataframe\">\n",
              "  <thead>\n",
              "    <tr style=\"text-align: right;\">\n",
              "      <th></th>\n",
              "      <th>BsmtQual</th>\n",
              "      <th>BsmtExposure</th>\n",
              "      <th>BsmtFinType1</th>\n",
              "      <th>GarageFinish</th>\n",
              "      <th>MasVnrType</th>\n",
              "      <th>FireplaceQu</th>\n",
              "      <th>GarageType</th>\n",
              "    </tr>\n",
              "  </thead>\n",
              "  <tbody>\n",
              "    <tr>\n",
              "      <th>Isna</th>\n",
              "      <td>37</td>\n",
              "      <td>38</td>\n",
              "      <td>37</td>\n",
              "      <td>81</td>\n",
              "      <td>8</td>\n",
              "      <td>690</td>\n",
              "      <td>81</td>\n",
              "    </tr>\n",
              "  </tbody>\n",
              "</table>\n",
              "</div>\n",
              "      <button class=\"colab-df-convert\" onclick=\"convertToInteractive('df-47ed158f-ac19-4d92-a30b-e4a7d027c3a0')\"\n",
              "              title=\"Convert this dataframe to an interactive table.\"\n",
              "              style=\"display:none;\">\n",
              "        \n",
              "  <svg xmlns=\"http://www.w3.org/2000/svg\" height=\"24px\"viewBox=\"0 0 24 24\"\n",
              "       width=\"24px\">\n",
              "    <path d=\"M0 0h24v24H0V0z\" fill=\"none\"/>\n",
              "    <path d=\"M18.56 5.44l.94 2.06.94-2.06 2.06-.94-2.06-.94-.94-2.06-.94 2.06-2.06.94zm-11 1L8.5 8.5l.94-2.06 2.06-.94-2.06-.94L8.5 2.5l-.94 2.06-2.06.94zm10 10l.94 2.06.94-2.06 2.06-.94-2.06-.94-.94-2.06-.94 2.06-2.06.94z\"/><path d=\"M17.41 7.96l-1.37-1.37c-.4-.4-.92-.59-1.43-.59-.52 0-1.04.2-1.43.59L10.3 9.45l-7.72 7.72c-.78.78-.78 2.05 0 2.83L4 21.41c.39.39.9.59 1.41.59.51 0 1.02-.2 1.41-.59l7.78-7.78 2.81-2.81c.8-.78.8-2.07 0-2.86zM5.41 20L4 18.59l7.72-7.72 1.47 1.35L5.41 20z\"/>\n",
              "  </svg>\n",
              "      </button>\n",
              "      \n",
              "  <style>\n",
              "    .colab-df-container {\n",
              "      display:flex;\n",
              "      flex-wrap:wrap;\n",
              "      gap: 12px;\n",
              "    }\n",
              "\n",
              "    .colab-df-convert {\n",
              "      background-color: #E8F0FE;\n",
              "      border: none;\n",
              "      border-radius: 50%;\n",
              "      cursor: pointer;\n",
              "      display: none;\n",
              "      fill: #1967D2;\n",
              "      height: 32px;\n",
              "      padding: 0 0 0 0;\n",
              "      width: 32px;\n",
              "    }\n",
              "\n",
              "    .colab-df-convert:hover {\n",
              "      background-color: #E2EBFA;\n",
              "      box-shadow: 0px 1px 2px rgba(60, 64, 67, 0.3), 0px 1px 3px 1px rgba(60, 64, 67, 0.15);\n",
              "      fill: #174EA6;\n",
              "    }\n",
              "\n",
              "    [theme=dark] .colab-df-convert {\n",
              "      background-color: #3B4455;\n",
              "      fill: #D2E3FC;\n",
              "    }\n",
              "\n",
              "    [theme=dark] .colab-df-convert:hover {\n",
              "      background-color: #434B5C;\n",
              "      box-shadow: 0px 1px 3px 1px rgba(0, 0, 0, 0.15);\n",
              "      filter: drop-shadow(0px 1px 2px rgba(0, 0, 0, 0.3));\n",
              "      fill: #FFFFFF;\n",
              "    }\n",
              "  </style>\n",
              "\n",
              "      <script>\n",
              "        const buttonEl =\n",
              "          document.querySelector('#df-47ed158f-ac19-4d92-a30b-e4a7d027c3a0 button.colab-df-convert');\n",
              "        buttonEl.style.display =\n",
              "          google.colab.kernel.accessAllowed ? 'block' : 'none';\n",
              "\n",
              "        async function convertToInteractive(key) {\n",
              "          const element = document.querySelector('#df-47ed158f-ac19-4d92-a30b-e4a7d027c3a0');\n",
              "          const dataTable =\n",
              "            await google.colab.kernel.invokeFunction('convertToInteractive',\n",
              "                                                     [key], {});\n",
              "          if (!dataTable) return;\n",
              "\n",
              "          const docLinkHtml = 'Like what you see? Visit the ' +\n",
              "            '<a target=\"_blank\" href=https://colab.research.google.com/notebooks/data_table.ipynb>data table notebook</a>'\n",
              "            + ' to learn more about interactive tables.';\n",
              "          element.innerHTML = '';\n",
              "          dataTable['output_type'] = 'display_data';\n",
              "          await google.colab.output.renderOutput(dataTable, element);\n",
              "          const docLink = document.createElement('div');\n",
              "          docLink.innerHTML = docLinkHtml;\n",
              "          element.appendChild(docLink);\n",
              "        }\n",
              "      </script>\n",
              "    </div>\n",
              "  </div>\n",
              "  "
            ]
          },
          "metadata": {},
          "execution_count": 310
        }
      ]
    },
    {
      "cell_type": "markdown",
      "source": [
        "이제 이산형 변수를 예측할 건데요.\n",
        "\n",
        "이번에는 모든 변수를 활용해서 예측을 해보겠습니다.\n",
        "\n",
        "- FireplaceQu 변수는 피처 엔지니어링에서 제외 고려"
      ],
      "metadata": {
        "id": "CdwqUSQcm3rO"
      }
    },
    {
      "cell_type": "code",
      "source": [
        "imputer = SingleImputer(\n",
        "    strategy={f: 'categorical' for f in categoric_feature},\n",
        "    predictors={f: 'all' for f in categoric_feature},\n",
        "    seed=seed,\n",
        ")\n",
        "imputer.fit(data)\n",
        "data = imputer.transform(data)"
      ],
      "metadata": {
        "id": "omv9tGkvjccm"
      },
      "execution_count": null,
      "outputs": []
    },
    {
      "cell_type": "markdown",
      "source": [
        "모든 결측치를 채웠으므로\n",
        "\n",
        "베이스라인 모델 성능 평가를 실시합니다."
      ],
      "metadata": {
        "id": "fQzOUDajnOVQ"
      }
    },
    {
      "cell_type": "code",
      "source": [],
      "metadata": {
        "id": "mEJE16EEhBRQ"
      },
      "execution_count": null,
      "outputs": []
    },
    {
      "cell_type": "code",
      "source": [],
      "metadata": {
        "id": "wTmaoDGlhBTD"
      },
      "execution_count": null,
      "outputs": []
    },
    {
      "cell_type": "code",
      "source": [],
      "metadata": {
        "id": "zsq4jgDUbMdH"
      },
      "execution_count": null,
      "outputs": []
    },
    {
      "cell_type": "code",
      "source": [],
      "metadata": {
        "id": "Ns2McyUDWyKT"
      },
      "execution_count": null,
      "outputs": []
    },
    {
      "cell_type": "code",
      "source": [],
      "metadata": {
        "id": "zEb5S1XlO7VO"
      },
      "execution_count": null,
      "outputs": []
    },
    {
      "cell_type": "code",
      "source": [],
      "metadata": {
        "id": "cVT4ebMPO7Yu"
      },
      "execution_count": null,
      "outputs": []
    },
    {
      "cell_type": "code",
      "source": [],
      "metadata": {
        "id": "o_scnKavO7cE"
      },
      "execution_count": null,
      "outputs": []
    },
    {
      "cell_type": "code",
      "source": [],
      "metadata": {
        "id": "SHFTLWGADL2x"
      },
      "execution_count": null,
      "outputs": []
    },
    {
      "cell_type": "markdown",
      "source": [
        "다음으로 중요한 피처를 찾기 위한 목적으로\n",
        "\n",
        "훈련과 테스트 데이터로 분할합니다."
      ],
      "metadata": {
        "id": "GFnKAljV73xL"
      }
    },
    {
      "cell_type": "code",
      "execution_count": null,
      "metadata": {
        "colab": {
          "base_uri": "https://localhost:8080/",
          "height": 160
        },
        "id": "Z4m_u3ytaC0s",
        "outputId": "a9238622-ea6f-49ae-d9c5-2bb816443b8f"
      },
      "outputs": [
        {
          "output_type": "stream",
          "name": "stdout",
          "text": [
            "data shape = (1460, 81)\n"
          ]
        },
        {
          "output_type": "execute_result",
          "data": {
            "text/plain": [
              "   Id  MSSubClass MSZoning  LotFrontage  LotArea  ... MoSold YrSold SaleType  \\\n",
              "0   1          60       RL         65.0     8450  ...      2   2008       WD   \n",
              "1   2          20       RL         80.0     9600  ...      5   2007       WD   \n",
              "\n",
              "  SaleCondition SalePrice  \n",
              "0        Normal    208500  \n",
              "1        Normal    181500  \n",
              "\n",
              "[2 rows x 81 columns]"
            ],
            "text/html": [
              "\n",
              "  <div id=\"df-7c66c564-60f2-4a14-9e3e-55d313ec76fa\">\n",
              "    <div class=\"colab-df-container\">\n",
              "      <div>\n",
              "<style scoped>\n",
              "    .dataframe tbody tr th:only-of-type {\n",
              "        vertical-align: middle;\n",
              "    }\n",
              "\n",
              "    .dataframe tbody tr th {\n",
              "        vertical-align: top;\n",
              "    }\n",
              "\n",
              "    .dataframe thead th {\n",
              "        text-align: right;\n",
              "    }\n",
              "</style>\n",
              "<table border=\"1\" class=\"dataframe\">\n",
              "  <thead>\n",
              "    <tr style=\"text-align: right;\">\n",
              "      <th></th>\n",
              "      <th>Id</th>\n",
              "      <th>MSSubClass</th>\n",
              "      <th>MSZoning</th>\n",
              "      <th>LotFrontage</th>\n",
              "      <th>LotArea</th>\n",
              "      <th>...</th>\n",
              "      <th>MoSold</th>\n",
              "      <th>YrSold</th>\n",
              "      <th>SaleType</th>\n",
              "      <th>SaleCondition</th>\n",
              "      <th>SalePrice</th>\n",
              "    </tr>\n",
              "  </thead>\n",
              "  <tbody>\n",
              "    <tr>\n",
              "      <th>0</th>\n",
              "      <td>1</td>\n",
              "      <td>60</td>\n",
              "      <td>RL</td>\n",
              "      <td>65.0</td>\n",
              "      <td>8450</td>\n",
              "      <td>...</td>\n",
              "      <td>2</td>\n",
              "      <td>2008</td>\n",
              "      <td>WD</td>\n",
              "      <td>Normal</td>\n",
              "      <td>208500</td>\n",
              "    </tr>\n",
              "    <tr>\n",
              "      <th>1</th>\n",
              "      <td>2</td>\n",
              "      <td>20</td>\n",
              "      <td>RL</td>\n",
              "      <td>80.0</td>\n",
              "      <td>9600</td>\n",
              "      <td>...</td>\n",
              "      <td>5</td>\n",
              "      <td>2007</td>\n",
              "      <td>WD</td>\n",
              "      <td>Normal</td>\n",
              "      <td>181500</td>\n",
              "    </tr>\n",
              "  </tbody>\n",
              "</table>\n",
              "<p>2 rows × 81 columns</p>\n",
              "</div>\n",
              "      <button class=\"colab-df-convert\" onclick=\"convertToInteractive('df-7c66c564-60f2-4a14-9e3e-55d313ec76fa')\"\n",
              "              title=\"Convert this dataframe to an interactive table.\"\n",
              "              style=\"display:none;\">\n",
              "        \n",
              "  <svg xmlns=\"http://www.w3.org/2000/svg\" height=\"24px\"viewBox=\"0 0 24 24\"\n",
              "       width=\"24px\">\n",
              "    <path d=\"M0 0h24v24H0V0z\" fill=\"none\"/>\n",
              "    <path d=\"M18.56 5.44l.94 2.06.94-2.06 2.06-.94-2.06-.94-.94-2.06-.94 2.06-2.06.94zm-11 1L8.5 8.5l.94-2.06 2.06-.94-2.06-.94L8.5 2.5l-.94 2.06-2.06.94zm10 10l.94 2.06.94-2.06 2.06-.94-2.06-.94-.94-2.06-.94 2.06-2.06.94z\"/><path d=\"M17.41 7.96l-1.37-1.37c-.4-.4-.92-.59-1.43-.59-.52 0-1.04.2-1.43.59L10.3 9.45l-7.72 7.72c-.78.78-.78 2.05 0 2.83L4 21.41c.39.39.9.59 1.41.59.51 0 1.02-.2 1.41-.59l7.78-7.78 2.81-2.81c.8-.78.8-2.07 0-2.86zM5.41 20L4 18.59l7.72-7.72 1.47 1.35L5.41 20z\"/>\n",
              "  </svg>\n",
              "      </button>\n",
              "      \n",
              "  <style>\n",
              "    .colab-df-container {\n",
              "      display:flex;\n",
              "      flex-wrap:wrap;\n",
              "      gap: 12px;\n",
              "    }\n",
              "\n",
              "    .colab-df-convert {\n",
              "      background-color: #E8F0FE;\n",
              "      border: none;\n",
              "      border-radius: 50%;\n",
              "      cursor: pointer;\n",
              "      display: none;\n",
              "      fill: #1967D2;\n",
              "      height: 32px;\n",
              "      padding: 0 0 0 0;\n",
              "      width: 32px;\n",
              "    }\n",
              "\n",
              "    .colab-df-convert:hover {\n",
              "      background-color: #E2EBFA;\n",
              "      box-shadow: 0px 1px 2px rgba(60, 64, 67, 0.3), 0px 1px 3px 1px rgba(60, 64, 67, 0.15);\n",
              "      fill: #174EA6;\n",
              "    }\n",
              "\n",
              "    [theme=dark] .colab-df-convert {\n",
              "      background-color: #3B4455;\n",
              "      fill: #D2E3FC;\n",
              "    }\n",
              "\n",
              "    [theme=dark] .colab-df-convert:hover {\n",
              "      background-color: #434B5C;\n",
              "      box-shadow: 0px 1px 3px 1px rgba(0, 0, 0, 0.15);\n",
              "      filter: drop-shadow(0px 1px 2px rgba(0, 0, 0, 0.3));\n",
              "      fill: #FFFFFF;\n",
              "    }\n",
              "  </style>\n",
              "\n",
              "      <script>\n",
              "        const buttonEl =\n",
              "          document.querySelector('#df-7c66c564-60f2-4a14-9e3e-55d313ec76fa button.colab-df-convert');\n",
              "        buttonEl.style.display =\n",
              "          google.colab.kernel.accessAllowed ? 'block' : 'none';\n",
              "\n",
              "        async function convertToInteractive(key) {\n",
              "          const element = document.querySelector('#df-7c66c564-60f2-4a14-9e3e-55d313ec76fa');\n",
              "          const dataTable =\n",
              "            await google.colab.kernel.invokeFunction('convertToInteractive',\n",
              "                                                     [key], {});\n",
              "          if (!dataTable) return;\n",
              "\n",
              "          const docLinkHtml = 'Like what you see? Visit the ' +\n",
              "            '<a target=\"_blank\" href=https://colab.research.google.com/notebooks/data_table.ipynb>data table notebook</a>'\n",
              "            + ' to learn more about interactive tables.';\n",
              "          element.innerHTML = '';\n",
              "          dataTable['output_type'] = 'display_data';\n",
              "          await google.colab.output.renderOutput(dataTable, element);\n",
              "          const docLink = document.createElement('div');\n",
              "          docLink.innerHTML = docLinkHtml;\n",
              "          element.appendChild(docLink);\n",
              "        }\n",
              "      </script>\n",
              "    </div>\n",
              "  </div>\n",
              "  "
            ]
          },
          "metadata": {},
          "execution_count": 13
        }
      ],
      "source": [
        "from sklearn.model_selection import train_test_split\n",
        "\n",
        "x_train, x_test, y_train, y_test = train_test_split(\n",
        "    x_data, y_data, test_size=0.3, random_state=random_state\n",
        ")\n",
        "print(f'train shape = {x_train.shape}, {y_train.shape}')"
      ]
    },
    {
      "cell_type": "markdown",
      "source": [
        "훈련과 테스트 타겟 분포 일치 여부를 확인해요.\n",
        "\n",
        "먼저 훈련과 테스트로 데이터를 분리하구요.\n",
        "\n"
      ],
      "metadata": {
        "id": "phFYKonUzPI6"
      }
    },
    {
      "cell_type": "code",
      "source": [
        "import scipy.stats as stats\n",
        "\n",
        "from sklearn.model_selection import train_test_split\n",
        "\n",
        "x_train, x_test, y_train, y_test = train_test_split(\n",
        "    x_data, y_data, test_size=0.3, random_state=random_state\n",
        ")\n",
        "\n",
        "pvalue = stats.ks_2samp(\n",
        "    y_train, y_test\n",
        ").pvalue\n",
        "\n",
        "print(f'pvalue = {pvalue:.3f}')"
      ],
      "metadata": {
        "colab": {
          "base_uri": "https://localhost:8080/"
        },
        "id": "HvPjJppPyhrD",
        "outputId": "e2d91709-f8e2-47b7-a6cd-2a360319107a"
      },
      "execution_count": null,
      "outputs": [
        {
          "output_type": "stream",
          "name": "stdout",
          "text": [
            "pvalue = 0.255\n"
          ]
        }
      ]
    },
    {
      "cell_type": "markdown",
      "source": [
        "베이스라인과 같은 방식으로 중요도 기반 피처를 선택합니다."
      ],
      "metadata": {
        "id": "9UJK5JA2FGSy"
      }
    },
    {
      "cell_type": "markdown",
      "source": [
        "중요도가 높은 피처 중에서 결측 빈도를 체크합니다.\n",
        "- 파랑색은 중요한 피처를 의미하고 회색은 그렇지 않은 경우"
      ],
      "metadata": {
        "id": "aF32UfN8FNbM"
      }
    },
    {
      "cell_type": "markdown",
      "source": [
        "결측값은 모델링에 방해 요소입니다.\n",
        "\n",
        "따라서 결측치를 제거하거나 대체 또는 예측할 수 있습니다.\n",
        "\n",
        "이번 스크립트에서 결측치 예측을 진행할 예정이며\n",
        "\n",
        "먼저 연속형 변수에 대해 다루고 이후 카테고리 변수를 예측합니다.\n",
        "\n",
        "연속형 변수 중에서 파랑색은 예측이 필요한 변수입니다.\n",
        "- 노랑색은 결측치가 없으며 중요한 변수"
      ],
      "metadata": {
        "id": "Uc5mCBxMFfsj"
      }
    },
    {
      "cell_type": "code",
      "source": [
        "import numpy as np\n",
        "\n",
        "plt.subplots(figsize=(10, 9))\n",
        "\n",
        "correlated_feature = data.corr().SalePrice.sort_values()\n",
        "\n",
        "correlated_missing_mask = [1 if f in missing_feature else 2 for f in correlated_feature.index]\n",
        "correlated_importance_mask = [3 if f in importance_feature else 1 for f in correlated_feature.index]\n",
        "\n",
        "correlated_mask = np.multiply(\n",
        "    correlated_missing_mask,\n",
        "    correlated_importance_mask\n",
        ")\n",
        "\n",
        "correlated_map = {\n",
        "    1: 'gray',          # this low importance.\n",
        "    2: 'gray',          #      missing value.\n",
        "    3: 'dodgerblue',    #      high importance and missing value.\n",
        "    6: 'tan'            #      high importance and nice.\n",
        "}\n",
        "correlated_mask = [correlated_map[f] for f in correlated_mask]\n",
        "\n",
        "sns.barplot(\n",
        "    x=correlated_feature.values,\n",
        "    y=correlated_feature.index,\n",
        "    orient='h',\n",
        "    palette=correlated_mask\n",
        ")\n",
        "plt.axvline(x=0.2, linewidth=1, linestyle='--')\n",
        "plt.show()"
      ],
      "metadata": {
        "colab": {
          "base_uri": "https://localhost:8080/",
          "height": 537
        },
        "id": "6Voxjo4zvaHt",
        "outputId": "7461390d-ff92-45a0-92ee-206ce0483c29"
      },
      "execution_count": null,
      "outputs": [
        {
          "output_type": "display_data",
          "data": {
            "text/plain": [
              "<Figure size 720x648 with 1 Axes>"
            ],
            "image/png": "[encoded data removed]"
          },
          "metadata": {}
        }
      ]
    },
    {
      "cell_type": "markdown",
      "source": [
        "또한 연속형 변수의 분포를 체크합니다.\n",
        "\n",
        "회귀 분석 성능을 높이기 위해 독립 또한 정규 분포에 근사시킬 수 있습니다.\n",
        "\n",
        "정규 분포 근사에는 여러가지 방법이 존재하나 이번 장에서는 박스콬스 변환을 실시합니다."
      ],
      "metadata": {
        "id": "ftZtcKSBGJJy"
      }
    },
    {
      "cell_type": "code",
      "source": [
        "from scipy.stats import skew\n",
        "\n",
        "nummeric_feature = data.dtypes[data.dtypes != 'object'].index\n",
        "\n",
        "def skewness_info(feature):\n",
        "    skewed_feature = data[feature].apply(\n",
        "        lambda x: skew(x.dropna())\n",
        "    ).sort_values(ascending=False)\n",
        "\n",
        "    skewness = skewed_feature.to_frame('Skew')\n",
        "    return skewness\n",
        "\n",
        "skewness = skewness_info(nummeric_feature)\n",
        "\n",
        "print(f'skewness = {skewness.shape}')\n",
        "skewness.T"
      ],
      "metadata": {
        "colab": {
          "base_uri": "https://localhost:8080/",
          "height": 129
        },
        "id": "Q2E1tYY8Uq-5",
        "outputId": "8f02fb48-077d-4431-cd56-74cad1361810"
      },
      "execution_count": null,
      "outputs": [
        {
          "output_type": "stream",
          "name": "stdout",
          "text": [
            "skewness = (37, 1)\n"
          ]
        },
        {
          "output_type": "execute_result",
          "data": {
            "text/plain": [
              "       MiscVal   PoolArea    LotArea  3SsnPorch  LowQualFinSF  ...  FullBath  \\\n",
              "Skew  24.45164  14.813135  12.195142  10.293752       9.00208  ...  0.036524   \n",
              "\n",
              "      GarageCars  YearRemodAdd  YearBuilt  GarageYrBlt  \n",
              "Skew   -0.342197     -0.503044  -0.612831    -0.648708  \n",
              "\n",
              "[1 rows x 37 columns]"
            ],
            "text/html": [
              "\n",
              "  <div id=\"df-5fcc927e-2553-41bf-bfa0-5ec944425100\">\n",
              "    <div class=\"colab-df-container\">\n",
              "      <div>\n",
              "<style scoped>\n",
              "    .dataframe tbody tr th:only-of-type {\n",
              "        vertical-align: middle;\n",
              "    }\n",
              "\n",
              "    .dataframe tbody tr th {\n",
              "        vertical-align: top;\n",
              "    }\n",
              "\n",
              "    .dataframe thead th {\n",
              "        text-align: right;\n",
              "    }\n",
              "</style>\n",
              "<table border=\"1\" class=\"dataframe\">\n",
              "  <thead>\n",
              "    <tr style=\"text-align: right;\">\n",
              "      <th></th>\n",
              "      <th>MiscVal</th>\n",
              "      <th>PoolArea</th>\n",
              "      <th>LotArea</th>\n",
              "      <th>3SsnPorch</th>\n",
              "      <th>LowQualFinSF</th>\n",
              "      <th>...</th>\n",
              "      <th>FullBath</th>\n",
              "      <th>GarageCars</th>\n",
              "      <th>YearRemodAdd</th>\n",
              "      <th>YearBuilt</th>\n",
              "      <th>GarageYrBlt</th>\n",
              "    </tr>\n",
              "  </thead>\n",
              "  <tbody>\n",
              "    <tr>\n",
              "      <th>Skew</th>\n",
              "      <td>24.45164</td>\n",
              "      <td>14.813135</td>\n",
              "      <td>12.195142</td>\n",
              "      <td>10.293752</td>\n",
              "      <td>9.00208</td>\n",
              "      <td>...</td>\n",
              "      <td>0.036524</td>\n",
              "      <td>-0.342197</td>\n",
              "      <td>-0.503044</td>\n",
              "      <td>-0.612831</td>\n",
              "      <td>-0.648708</td>\n",
              "    </tr>\n",
              "  </tbody>\n",
              "</table>\n",
              "<p>1 rows × 37 columns</p>\n",
              "</div>\n",
              "      <button class=\"colab-df-convert\" onclick=\"convertToInteractive('df-5fcc927e-2553-41bf-bfa0-5ec944425100')\"\n",
              "              title=\"Convert this dataframe to an interactive table.\"\n",
              "              style=\"display:none;\">\n",
              "        \n",
              "  <svg xmlns=\"http://www.w3.org/2000/svg\" height=\"24px\"viewBox=\"0 0 24 24\"\n",
              "       width=\"24px\">\n",
              "    <path d=\"M0 0h24v24H0V0z\" fill=\"none\"/>\n",
              "    <path d=\"M18.56 5.44l.94 2.06.94-2.06 2.06-.94-2.06-.94-.94-2.06-.94 2.06-2.06.94zm-11 1L8.5 8.5l.94-2.06 2.06-.94-2.06-.94L8.5 2.5l-.94 2.06-2.06.94zm10 10l.94 2.06.94-2.06 2.06-.94-2.06-.94-.94-2.06-.94 2.06-2.06.94z\"/><path d=\"M17.41 7.96l-1.37-1.37c-.4-.4-.92-.59-1.43-.59-.52 0-1.04.2-1.43.59L10.3 9.45l-7.72 7.72c-.78.78-.78 2.05 0 2.83L4 21.41c.39.39.9.59 1.41.59.51 0 1.02-.2 1.41-.59l7.78-7.78 2.81-2.81c.8-.78.8-2.07 0-2.86zM5.41 20L4 18.59l7.72-7.72 1.47 1.35L5.41 20z\"/>\n",
              "  </svg>\n",
              "      </button>\n",
              "      \n",
              "  <style>\n",
              "    .colab-df-container {\n",
              "      display:flex;\n",
              "      flex-wrap:wrap;\n",
              "      gap: 12px;\n",
              "    }\n",
              "\n",
              "    .colab-df-convert {\n",
              "      background-color: #E8F0FE;\n",
              "      border: none;\n",
              "      border-radius: 50%;\n",
              "      cursor: pointer;\n",
              "      display: none;\n",
              "      fill: #1967D2;\n",
              "      height: 32px;\n",
              "      padding: 0 0 0 0;\n",
              "      width: 32px;\n",
              "    }\n",
              "\n",
              "    .colab-df-convert:hover {\n",
              "      background-color: #E2EBFA;\n",
              "      box-shadow: 0px 1px 2px rgba(60, 64, 67, 0.3), 0px 1px 3px 1px rgba(60, 64, 67, 0.15);\n",
              "      fill: #174EA6;\n",
              "    }\n",
              "\n",
              "    [theme=dark] .colab-df-convert {\n",
              "      background-color: #3B4455;\n",
              "      fill: #D2E3FC;\n",
              "    }\n",
              "\n",
              "    [theme=dark] .colab-df-convert:hover {\n",
              "      background-color: #434B5C;\n",
              "      box-shadow: 0px 1px 3px 1px rgba(0, 0, 0, 0.15);\n",
              "      filter: drop-shadow(0px 1px 2px rgba(0, 0, 0, 0.3));\n",
              "      fill: #FFFFFF;\n",
              "    }\n",
              "  </style>\n",
              "\n",
              "      <script>\n",
              "        const buttonEl =\n",
              "          document.querySelector('#df-5fcc927e-2553-41bf-bfa0-5ec944425100 button.colab-df-convert');\n",
              "        buttonEl.style.display =\n",
              "          google.colab.kernel.accessAllowed ? 'block' : 'none';\n",
              "\n",
              "        async function convertToInteractive(key) {\n",
              "          const element = document.querySelector('#df-5fcc927e-2553-41bf-bfa0-5ec944425100');\n",
              "          const dataTable =\n",
              "            await google.colab.kernel.invokeFunction('convertToInteractive',\n",
              "                                                     [key], {});\n",
              "          if (!dataTable) return;\n",
              "\n",
              "          const docLinkHtml = 'Like what you see? Visit the ' +\n",
              "            '<a target=\"_blank\" href=https://colab.research.google.com/notebooks/data_table.ipynb>data table notebook</a>'\n",
              "            + ' to learn more about interactive tables.';\n",
              "          element.innerHTML = '';\n",
              "          dataTable['output_type'] = 'display_data';\n",
              "          await google.colab.output.renderOutput(dataTable, element);\n",
              "          const docLink = document.createElement('div');\n",
              "          docLink.innerHTML = docLinkHtml;\n",
              "          element.appendChild(docLink);\n",
              "        }\n",
              "      </script>\n",
              "    </div>\n",
              "  </div>\n",
              "  "
            ]
          },
          "metadata": {},
          "execution_count": 85
        }
      ]
    },
    {
      "cell_type": "markdown",
      "source": [
        "정규 분포 판별에는 왜도와 첨도가 존재합니다.\n",
        "\n",
        "이에 우리는 왜도를 변경합니다.\n",
        "\n",
        "왜도(Skew)는 데이터가 한쪽으로 치우친 정도를 나타냅나다.\n",
        "\n",
        "박스콕스 변환에는 람다 변수가 필요합니다.\n",
        "- 람다는 로그, 제곱근 등의 멱함수 파라미터\n",
        "\n",
        "따라서 박스콕스 함수로 람다를 먼저 찾습니다."
      ],
      "metadata": {
        "id": "ogRYEGAlGgvy"
      }
    },
    {
      "cell_type": "code",
      "source": [
        "from scipy.stats import boxcox\n",
        "\n",
        "# this function is make a pipeline 1.1.\n",
        "\n",
        "skewness = skewness[abs(skewness.Skew) >= 0.75]\n",
        "skewed_feature = skewness.index\n",
        "print(f'skwness count = {len(skewed_feature)}')\n",
        "\n",
        "skewed_lambda = {\n",
        "    f: [boxcox(\n",
        "        data[data[f] > 0][f])[1]\n",
        "    ] for f in skewed_feature\n",
        "}\n",
        "pd.DataFrame(skewed_lambda)"
      ],
      "metadata": {
        "colab": {
          "base_uri": "https://localhost:8080/",
          "height": 129
        },
        "id": "69fT-6ep--HV",
        "outputId": "7a85a52a-a29b-410e-f93d-e404b0a4cbc0"
      },
      "execution_count": null,
      "outputs": [
        {
          "output_type": "stream",
          "name": "stdout",
          "text": [
            "skwness count = 21\n"
          ]
        },
        {
          "output_type": "execute_result",
          "data": {
            "text/plain": [
              "    MiscVal  PoolArea   LotArea  3SsnPorch  LowQualFinSF  ...  MSSubClass  \\\n",
              "0 -0.200839 -2.890429  0.030946    0.51317      0.956013  ...   -0.210841   \n",
              "\n",
              "   1stFlrSF  GrLivArea  BsmtUnfSF  2ndFlrSF  \n",
              "0 -0.078832   0.006305   0.342103  0.525671  \n",
              "\n",
              "[1 rows x 21 columns]"
            ],
            "text/html": [
              "\n",
              "  <div id=\"df-ced22f4d-00e5-4f71-9404-0cc927551c6a\">\n",
              "    <div class=\"colab-df-container\">\n",
              "      <div>\n",
              "<style scoped>\n",
              "    .dataframe tbody tr th:only-of-type {\n",
              "        vertical-align: middle;\n",
              "    }\n",
              "\n",
              "    .dataframe tbody tr th {\n",
              "        vertical-align: top;\n",
              "    }\n",
              "\n",
              "    .dataframe thead th {\n",
              "        text-align: right;\n",
              "    }\n",
              "</style>\n",
              "<table border=\"1\" class=\"dataframe\">\n",
              "  <thead>\n",
              "    <tr style=\"text-align: right;\">\n",
              "      <th></th>\n",
              "      <th>MiscVal</th>\n",
              "      <th>PoolArea</th>\n",
              "      <th>LotArea</th>\n",
              "      <th>3SsnPorch</th>\n",
              "      <th>LowQualFinSF</th>\n",
              "      <th>...</th>\n",
              "      <th>MSSubClass</th>\n",
              "      <th>1stFlrSF</th>\n",
              "      <th>GrLivArea</th>\n",
              "      <th>BsmtUnfSF</th>\n",
              "      <th>2ndFlrSF</th>\n",
              "    </tr>\n",
              "  </thead>\n",
              "  <tbody>\n",
              "    <tr>\n",
              "      <th>0</th>\n",
              "      <td>-0.200839</td>\n",
              "      <td>-2.890429</td>\n",
              "      <td>0.030946</td>\n",
              "      <td>0.51317</td>\n",
              "      <td>0.956013</td>\n",
              "      <td>...</td>\n",
              "      <td>-0.210841</td>\n",
              "      <td>-0.078832</td>\n",
              "      <td>0.006305</td>\n",
              "      <td>0.342103</td>\n",
              "      <td>0.525671</td>\n",
              "    </tr>\n",
              "  </tbody>\n",
              "</table>\n",
              "<p>1 rows × 21 columns</p>\n",
              "</div>\n",
              "      <button class=\"colab-df-convert\" onclick=\"convertToInteractive('df-ced22f4d-00e5-4f71-9404-0cc927551c6a')\"\n",
              "              title=\"Convert this dataframe to an interactive table.\"\n",
              "              style=\"display:none;\">\n",
              "        \n",
              "  <svg xmlns=\"http://www.w3.org/2000/svg\" height=\"24px\"viewBox=\"0 0 24 24\"\n",
              "       width=\"24px\">\n",
              "    <path d=\"M0 0h24v24H0V0z\" fill=\"none\"/>\n",
              "    <path d=\"M18.56 5.44l.94 2.06.94-2.06 2.06-.94-2.06-.94-.94-2.06-.94 2.06-2.06.94zm-11 1L8.5 8.5l.94-2.06 2.06-.94-2.06-.94L8.5 2.5l-.94 2.06-2.06.94zm10 10l.94 2.06.94-2.06 2.06-.94-2.06-.94-.94-2.06-.94 2.06-2.06.94z\"/><path d=\"M17.41 7.96l-1.37-1.37c-.4-.4-.92-.59-1.43-.59-.52 0-1.04.2-1.43.59L10.3 9.45l-7.72 7.72c-.78.78-.78 2.05 0 2.83L4 21.41c.39.39.9.59 1.41.59.51 0 1.02-.2 1.41-.59l7.78-7.78 2.81-2.81c.8-.78.8-2.07 0-2.86zM5.41 20L4 18.59l7.72-7.72 1.47 1.35L5.41 20z\"/>\n",
              "  </svg>\n",
              "      </button>\n",
              "      \n",
              "  <style>\n",
              "    .colab-df-container {\n",
              "      display:flex;\n",
              "      flex-wrap:wrap;\n",
              "      gap: 12px;\n",
              "    }\n",
              "\n",
              "    .colab-df-convert {\n",
              "      background-color: #E8F0FE;\n",
              "      border: none;\n",
              "      border-radius: 50%;\n",
              "      cursor: pointer;\n",
              "      display: none;\n",
              "      fill: #1967D2;\n",
              "      height: 32px;\n",
              "      padding: 0 0 0 0;\n",
              "      width: 32px;\n",
              "    }\n",
              "\n",
              "    .colab-df-convert:hover {\n",
              "      background-color: #E2EBFA;\n",
              "      box-shadow: 0px 1px 2px rgba(60, 64, 67, 0.3), 0px 1px 3px 1px rgba(60, 64, 67, 0.15);\n",
              "      fill: #174EA6;\n",
              "    }\n",
              "\n",
              "    [theme=dark] .colab-df-convert {\n",
              "      background-color: #3B4455;\n",
              "      fill: #D2E3FC;\n",
              "    }\n",
              "\n",
              "    [theme=dark] .colab-df-convert:hover {\n",
              "      background-color: #434B5C;\n",
              "      box-shadow: 0px 1px 3px 1px rgba(0, 0, 0, 0.15);\n",
              "      filter: drop-shadow(0px 1px 2px rgba(0, 0, 0, 0.3));\n",
              "      fill: #FFFFFF;\n",
              "    }\n",
              "  </style>\n",
              "\n",
              "      <script>\n",
              "        const buttonEl =\n",
              "          document.querySelector('#df-ced22f4d-00e5-4f71-9404-0cc927551c6a button.colab-df-convert');\n",
              "        buttonEl.style.display =\n",
              "          google.colab.kernel.accessAllowed ? 'block' : 'none';\n",
              "\n",
              "        async function convertToInteractive(key) {\n",
              "          const element = document.querySelector('#df-ced22f4d-00e5-4f71-9404-0cc927551c6a');\n",
              "          const dataTable =\n",
              "            await google.colab.kernel.invokeFunction('convertToInteractive',\n",
              "                                                     [key], {});\n",
              "          if (!dataTable) return;\n",
              "\n",
              "          const docLinkHtml = 'Like what you see? Visit the ' +\n",
              "            '<a target=\"_blank\" href=https://colab.research.google.com/notebooks/data_table.ipynb>data table notebook</a>'\n",
              "            + ' to learn more about interactive tables.';\n",
              "          element.innerHTML = '';\n",
              "          dataTable['output_type'] = 'display_data';\n",
              "          await google.colab.output.renderOutput(dataTable, element);\n",
              "          const docLink = document.createElement('div');\n",
              "          docLink.innerHTML = docLinkHtml;\n",
              "          element.appendChild(docLink);\n",
              "        }\n",
              "      </script>\n",
              "    </div>\n",
              "  </div>\n",
              "  "
            ]
          },
          "metadata": {},
          "execution_count": 86
        }
      ]
    },
    {
      "cell_type": "markdown",
      "source": [
        "이제 실질적인 박스콕스 변환을 실시합니다.\n",
        "\n",
        "변환된 데이터의 분포를 다시 확인하면 왜도가 줄어들었음을 확인할 수 있습니다."
      ],
      "metadata": {
        "id": "ZMiMQlTaHJWq"
      }
    },
    {
      "cell_type": "code",
      "source": [
        "from scipy.special import boxcox1p\n",
        "\n",
        "# this function is make a pipeline 1.2.  * lam = 0.15\n",
        "\n",
        "for n, f in enumerate(skewed_feature):\n",
        "    data[f] = boxcox1p(data[f], skewed_lambda[f])\n",
        "    \n",
        "print(f'boxcox transformed count = {n}')\n",
        "\n",
        "skewness = skewness_info(nummeric_feature)\n",
        "skewness.T"
      ],
      "metadata": {
        "colab": {
          "base_uri": "https://localhost:8080/",
          "height": 129
        },
        "id": "ccsP1QXKgR4Z",
        "outputId": "48b50c2e-755a-4e40-ea54-acf82695de85"
      },
      "execution_count": null,
      "outputs": [
        {
          "output_type": "stream",
          "name": "stdout",
          "text": [
            "boxcox transformed count = 20\n"
          ]
        },
        {
          "output_type": "execute_result",
          "data": {
            "text/plain": [
              "      PoolArea  LowQualFinSF  3SsnPorch   MiscVal  BsmtHalfBath  ...  \\\n",
              "Skew  14.33793      8.929936   8.386848  5.041714      3.855436  ...   \n",
              "\n",
              "      YearBuilt  GarageYrBlt  BsmtUnfSF  TotalBsmtSF  KitchenAbvGr  \n",
              "Skew  -0.612831    -0.648708  -0.732488    -4.079598    -38.170678  \n",
              "\n",
              "[1 rows x 37 columns]"
            ],
            "text/html": [
              "\n",
              "  <div id=\"df-3d905fea-9b2a-4e7d-b89f-1629ec90e416\">\n",
              "    <div class=\"colab-df-container\">\n",
              "      <div>\n",
              "<style scoped>\n",
              "    .dataframe tbody tr th:only-of-type {\n",
              "        vertical-align: middle;\n",
              "    }\n",
              "\n",
              "    .dataframe tbody tr th {\n",
              "        vertical-align: top;\n",
              "    }\n",
              "\n",
              "    .dataframe thead th {\n",
              "        text-align: right;\n",
              "    }\n",
              "</style>\n",
              "<table border=\"1\" class=\"dataframe\">\n",
              "  <thead>\n",
              "    <tr style=\"text-align: right;\">\n",
              "      <th></th>\n",
              "      <th>PoolArea</th>\n",
              "      <th>LowQualFinSF</th>\n",
              "      <th>3SsnPorch</th>\n",
              "      <th>MiscVal</th>\n",
              "      <th>BsmtHalfBath</th>\n",
              "      <th>...</th>\n",
              "      <th>YearBuilt</th>\n",
              "      <th>GarageYrBlt</th>\n",
              "      <th>BsmtUnfSF</th>\n",
              "      <th>TotalBsmtSF</th>\n",
              "      <th>KitchenAbvGr</th>\n",
              "    </tr>\n",
              "  </thead>\n",
              "  <tbody>\n",
              "    <tr>\n",
              "      <th>Skew</th>\n",
              "      <td>14.33793</td>\n",
              "      <td>8.929936</td>\n",
              "      <td>8.386848</td>\n",
              "      <td>5.041714</td>\n",
              "      <td>3.855436</td>\n",
              "      <td>...</td>\n",
              "      <td>-0.612831</td>\n",
              "      <td>-0.648708</td>\n",
              "      <td>-0.732488</td>\n",
              "      <td>-4.079598</td>\n",
              "      <td>-38.170678</td>\n",
              "    </tr>\n",
              "  </tbody>\n",
              "</table>\n",
              "<p>1 rows × 37 columns</p>\n",
              "</div>\n",
              "      <button class=\"colab-df-convert\" onclick=\"convertToInteractive('df-3d905fea-9b2a-4e7d-b89f-1629ec90e416')\"\n",
              "              title=\"Convert this dataframe to an interactive table.\"\n",
              "              style=\"display:none;\">\n",
              "        \n",
              "  <svg xmlns=\"http://www.w3.org/2000/svg\" height=\"24px\"viewBox=\"0 0 24 24\"\n",
              "       width=\"24px\">\n",
              "    <path d=\"M0 0h24v24H0V0z\" fill=\"none\"/>\n",
              "    <path d=\"M18.56 5.44l.94 2.06.94-2.06 2.06-.94-2.06-.94-.94-2.06-.94 2.06-2.06.94zm-11 1L8.5 8.5l.94-2.06 2.06-.94-2.06-.94L8.5 2.5l-.94 2.06-2.06.94zm10 10l.94 2.06.94-2.06 2.06-.94-2.06-.94-.94-2.06-.94 2.06-2.06.94z\"/><path d=\"M17.41 7.96l-1.37-1.37c-.4-.4-.92-.59-1.43-.59-.52 0-1.04.2-1.43.59L10.3 9.45l-7.72 7.72c-.78.78-.78 2.05 0 2.83L4 21.41c.39.39.9.59 1.41.59.51 0 1.02-.2 1.41-.59l7.78-7.78 2.81-2.81c.8-.78.8-2.07 0-2.86zM5.41 20L4 18.59l7.72-7.72 1.47 1.35L5.41 20z\"/>\n",
              "  </svg>\n",
              "      </button>\n",
              "      \n",
              "  <style>\n",
              "    .colab-df-container {\n",
              "      display:flex;\n",
              "      flex-wrap:wrap;\n",
              "      gap: 12px;\n",
              "    }\n",
              "\n",
              "    .colab-df-convert {\n",
              "      background-color: #E8F0FE;\n",
              "      border: none;\n",
              "      border-radius: 50%;\n",
              "      cursor: pointer;\n",
              "      display: none;\n",
              "      fill: #1967D2;\n",
              "      height: 32px;\n",
              "      padding: 0 0 0 0;\n",
              "      width: 32px;\n",
              "    }\n",
              "\n",
              "    .colab-df-convert:hover {\n",
              "      background-color: #E2EBFA;\n",
              "      box-shadow: 0px 1px 2px rgba(60, 64, 67, 0.3), 0px 1px 3px 1px rgba(60, 64, 67, 0.15);\n",
              "      fill: #174EA6;\n",
              "    }\n",
              "\n",
              "    [theme=dark] .colab-df-convert {\n",
              "      background-color: #3B4455;\n",
              "      fill: #D2E3FC;\n",
              "    }\n",
              "\n",
              "    [theme=dark] .colab-df-convert:hover {\n",
              "      background-color: #434B5C;\n",
              "      box-shadow: 0px 1px 3px 1px rgba(0, 0, 0, 0.15);\n",
              "      filter: drop-shadow(0px 1px 2px rgba(0, 0, 0, 0.3));\n",
              "      fill: #FFFFFF;\n",
              "    }\n",
              "  </style>\n",
              "\n",
              "      <script>\n",
              "        const buttonEl =\n",
              "          document.querySelector('#df-3d905fea-9b2a-4e7d-b89f-1629ec90e416 button.colab-df-convert');\n",
              "        buttonEl.style.display =\n",
              "          google.colab.kernel.accessAllowed ? 'block' : 'none';\n",
              "\n",
              "        async function convertToInteractive(key) {\n",
              "          const element = document.querySelector('#df-3d905fea-9b2a-4e7d-b89f-1629ec90e416');\n",
              "          const dataTable =\n",
              "            await google.colab.kernel.invokeFunction('convertToInteractive',\n",
              "                                                     [key], {});\n",
              "          if (!dataTable) return;\n",
              "\n",
              "          const docLinkHtml = 'Like what you see? Visit the ' +\n",
              "            '<a target=\"_blank\" href=https://colab.research.google.com/notebooks/data_table.ipynb>data table notebook</a>'\n",
              "            + ' to learn more about interactive tables.';\n",
              "          element.innerHTML = '';\n",
              "          dataTable['output_type'] = 'display_data';\n",
              "          await google.colab.output.renderOutput(dataTable, element);\n",
              "          const docLink = document.createElement('div');\n",
              "          docLink.innerHTML = docLinkHtml;\n",
              "          element.appendChild(docLink);\n",
              "        }\n",
              "      </script>\n",
              "    </div>\n",
              "  </div>\n",
              "  "
            ]
          },
          "metadata": {},
          "execution_count": 87
        }
      ]
    },
    {
      "cell_type": "markdown",
      "source": [
        "위에서 중요한 피처 중에서 결측이 존재하는 세가지가 있었습니다.\n",
        "\n",
        "즉 해당 변수의 결측을 처리하기 위해서는 관련이 높은 변수를 택할 필요가 있습니다.\n",
        "\n",
        "우리는 어떤 변수가 상관 관계가 있는지 확인합니다."
      ],
      "metadata": {
        "id": "qJ6X0oPBHUva"
      }
    },
    {
      "cell_type": "code",
      "source": [
        "plt.subplots(figsize=(23, 4))\n",
        "\n",
        "threshold = len(data) * 0.7\n",
        "\n",
        "imputed_feature = (\n",
        "    data[missing_feature].isna().sum()\n",
        ").to_frame('Isna')\n",
        "\n",
        "imputed_feature = (\n",
        "    imputed_feature[imputed_feature.Isna <= threshold]\n",
        ").index\n",
        "\n",
        "correlation = data.corr()\n",
        "\n",
        "sns.heatmap(\n",
        "    correlation.filter(imputed_feature).T,\n",
        "    cbar=True, annot=True, square=True, fmt='.2f',\n",
        "    cmap='inferno_r', vmin=0.1, vmax=0.5\n",
        ")\n",
        "plt.show()"
      ],
      "metadata": {
        "colab": {
          "base_uri": "https://localhost:8080/",
          "height": 246
        },
        "id": "SQDs8VHy3eG9",
        "outputId": "6511455d-65aa-4705-9357-d560b4894c48"
      },
      "execution_count": null,
      "outputs": [
        {
          "output_type": "display_data",
          "data": {
            "text/plain": [
              "<Figure size 1656x288 with 2 Axes>"
            ],
            "image/png": "[encoded data removed]"
          },
          "metadata": {}
        }
      ]
    },
    {
      "cell_type": "markdown",
      "source": [
        "관계가 있는 변수를 바탕으로 결측치 예측을 진행합니다.\n",
        "\n",
        "해당 라이브러리를 사용하면 예측이 필요한 변수마다 \n",
        "\n",
        "서로 다른 독립 변수를 활용할 수 있습니다.\n"
      ],
      "metadata": {
        "id": "IEuOM5lZHzfT"
      }
    },
    {
      "cell_type": "code",
      "source": [
        "!pip install autoimpute"
      ],
      "metadata": {
        "id": "C3tM8MD8YQ0G",
        "colab": {
          "base_uri": "https://localhost:8080/"
        },
        "outputId": "d8d557df-d852-405f-d1e7-7f5768ea4b38"
      },
      "execution_count": null,
      "outputs": [
        {
          "output_type": "stream",
          "name": "stdout",
          "text": [
            "Looking in indexes: https://pypi.org/simple, https://us-python.pkg.dev/colab-wheels/public/simple/\n",
            "Collecting autoimpute\n",
            "  Downloading autoimpute-0.13.0-py3-none-any.whl (97 kB)\n",
            "\u001b[K     |████████████████████████████████| 97 kB 3.5 MB/s \n",
            "\u001b[?25hRequirement already satisfied: statsmodels in /usr/local/lib/python3.8/dist-packages (from autoimpute) (0.12.2)\n",
            "Requirement already satisfied: scikit-learn in /usr/local/lib/python3.8/dist-packages (from autoimpute) (1.0.2)\n",
            "Requirement already satisfied: pymc in /usr/local/lib/python3.8/dist-packages (from autoimpute) (4.1.4)\n",
            "Requirement already satisfied: missingno in /usr/local/lib/python3.8/dist-packages (from autoimpute) (0.5.1)\n",
            "Requirement already satisfied: pandas in /usr/local/lib/python3.8/dist-packages (from autoimpute) (1.3.5)\n",
            "Requirement already satisfied: xgboost in /usr/local/lib/python3.8/dist-packages (from autoimpute) (0.90)\n",
            "Requirement already satisfied: seaborn in /usr/local/lib/python3.8/dist-packages (from autoimpute) (0.11.2)\n",
            "Requirement already satisfied: numpy in /usr/local/lib/python3.8/dist-packages (from autoimpute) (1.21.6)\n",
            "Requirement already satisfied: scipy in /usr/local/lib/python3.8/dist-packages (from autoimpute) (1.7.3)\n",
            "Requirement already satisfied: matplotlib in /usr/local/lib/python3.8/dist-packages (from missingno->autoimpute) (3.2.2)\n",
            "Requirement already satisfied: python-dateutil>=2.1 in /usr/local/lib/python3.8/dist-packages (from matplotlib->missingno->autoimpute) (2.8.2)\n",
            "Requirement already satisfied: cycler>=0.10 in /usr/local/lib/python3.8/dist-packages (from matplotlib->missingno->autoimpute) (0.11.0)\n",
            "Requirement already satisfied: pyparsing!=2.0.4,!=2.1.2,!=2.1.6,>=2.0.1 in /usr/local/lib/python3.8/dist-packages (from matplotlib->missingno->autoimpute) (3.0.9)\n",
            "Requirement already satisfied: kiwisolver>=1.0.1 in /usr/local/lib/python3.8/dist-packages (from matplotlib->missingno->autoimpute) (1.4.4)\n",
            "Requirement already satisfied: six>=1.5 in /usr/local/lib/python3.8/dist-packages (from python-dateutil>=2.1->matplotlib->missingno->autoimpute) (1.15.0)\n",
            "Requirement already satisfied: pytz>=2017.3 in /usr/local/lib/python3.8/dist-packages (from pandas->autoimpute) (2022.6)\n",
            "Requirement already satisfied: aeppl==0.0.33 in /usr/local/lib/python3.8/dist-packages (from pymc->autoimpute) (0.0.33)\n",
            "Requirement already satisfied: aesara==2.7.9 in /usr/local/lib/python3.8/dist-packages (from pymc->autoimpute) (2.7.9)\n",
            "Requirement already satisfied: fastprogress>=0.2.0 in /usr/local/lib/python3.8/dist-packages (from pymc->autoimpute) (1.0.3)\n",
            "Requirement already satisfied: typing-extensions>=3.7.4 in /usr/local/lib/python3.8/dist-packages (from pymc->autoimpute) (4.1.1)\n",
            "Requirement already satisfied: arviz>=0.12.0 in /usr/local/lib/python3.8/dist-packages (from pymc->autoimpute) (0.12.1)\n",
            "Requirement already satisfied: cloudpickle in /usr/local/lib/python3.8/dist-packages (from pymc->autoimpute) (1.5.0)\n",
            "Requirement already satisfied: cachetools>=4.2.1 in /usr/local/lib/python3.8/dist-packages (from pymc->autoimpute) (5.2.0)\n",
            "Requirement already satisfied: etuples in /usr/local/lib/python3.8/dist-packages (from aesara==2.7.9->pymc->autoimpute) (0.3.8)\n",
            "Requirement already satisfied: miniKanren in /usr/local/lib/python3.8/dist-packages (from aesara==2.7.9->pymc->autoimpute) (1.0.3)\n",
            "Requirement already satisfied: cons in /usr/local/lib/python3.8/dist-packages (from aesara==2.7.9->pymc->autoimpute) (0.4.5)\n",
            "Requirement already satisfied: logical-unification in /usr/local/lib/python3.8/dist-packages (from aesara==2.7.9->pymc->autoimpute) (0.4.5)\n",
            "Requirement already satisfied: setuptools>=45.0.0 in /usr/local/lib/python3.8/dist-packages (from aesara==2.7.9->pymc->autoimpute) (57.4.0)\n",
            "Requirement already satisfied: filelock in /usr/local/lib/python3.8/dist-packages (from aesara==2.7.9->pymc->autoimpute) (3.8.0)\n",
            "Requirement already satisfied: xarray>=0.16.1 in /usr/local/lib/python3.8/dist-packages (from arviz>=0.12.0->pymc->autoimpute) (0.20.2)\n",
            "Requirement already satisfied: packaging in /usr/local/lib/python3.8/dist-packages (from arviz>=0.12.0->pymc->autoimpute) (21.3)\n",
            "Requirement already satisfied: xarray-einstats>=0.2 in /usr/local/lib/python3.8/dist-packages (from arviz>=0.12.0->pymc->autoimpute) (0.2.2)\n",
            "Requirement already satisfied: netcdf4 in /usr/local/lib/python3.8/dist-packages (from arviz>=0.12.0->pymc->autoimpute) (1.6.2)\n",
            "Requirement already satisfied: multipledispatch in /usr/local/lib/python3.8/dist-packages (from logical-unification->aesara==2.7.9->pymc->autoimpute) (0.6.0)\n",
            "Requirement already satisfied: toolz in /usr/local/lib/python3.8/dist-packages (from logical-unification->aesara==2.7.9->pymc->autoimpute) (0.12.0)\n",
            "Requirement already satisfied: cftime in /usr/local/lib/python3.8/dist-packages (from netcdf4->arviz>=0.12.0->pymc->autoimpute) (1.6.2)\n",
            "Requirement already satisfied: joblib>=0.11 in /usr/local/lib/python3.8/dist-packages (from scikit-learn->autoimpute) (1.2.0)\n",
            "Requirement already satisfied: threadpoolctl>=2.0.0 in /usr/local/lib/python3.8/dist-packages (from scikit-learn->autoimpute) (3.1.0)\n",
            "Requirement already satisfied: patsy>=0.5 in /usr/local/lib/python3.8/dist-packages (from statsmodels->autoimpute) (0.5.3)\n",
            "Installing collected packages: autoimpute\n",
            "Successfully installed autoimpute-0.13.0\n"
          ]
        }
      ]
    },
    {
      "cell_type": "code",
      "source": [
        "from autoimpute.imputations import SingleImputer\n",
        "\n",
        "prep_data = data.copy()\n",
        "\n",
        "# this function is make a pipeline.\n",
        "\n",
        "imputer = SingleImputer(\n",
        "    strategy={\n",
        "        'LotFrontage': 'pmm',\n",
        "        'MasVnrArea': 'pmm', \n",
        "        'GarageYrBlt': 'pmm'\n",
        "    },\n",
        "    predictors={\n",
        "        'LotFrontage': ['1stFlrSF', 'GrLivArea', 'LotArea'], \n",
        "        'MasVnrArea': ['OverallQual', 'GrLivArea', 'GarageArea'],\n",
        "        'GarageYrBlt': ['YearBuilt', 'YearRemodAdd'],\n",
        "        \n",
        "    },\n",
        "    seed=27\n",
        ")\n",
        "imputer.fit(data)\n",
        "\n",
        "%time pred_data = imputer.transform(data)"
      ],
      "metadata": {
        "id": "5cRD7BUnEQPQ",
        "colab": {
          "base_uri": "https://localhost:8080/",
          "height": 181
        },
        "outputId": "2bb0fcf6-e712-42a7-9b7b-f727e087b635"
      },
      "execution_count": null,
      "outputs": [
        {
          "output_type": "display_data",
          "data": {
            "text/plain": [
              "<IPython.core.display.HTML object>"
            ],
            "text/html": [
              "\n",
              "<style>\n",
              "    /* Turns off some styling */\n",
              "    progress {\n",
              "        /* gets rid of default border in Firefox and Opera. */\n",
              "        border: none;\n",
              "        /* Needs to be in here for Safari polyfill so background images work as expected. */\n",
              "        background-size: auto;\n",
              "    }\n",
              "    progress:not([value]), progress:not([value])::-webkit-progress-bar {\n",
              "        background: repeating-linear-gradient(45deg, #7e7e7e, #7e7e7e 10px, #5c5c5c 10px, #5c5c5c 20px);\n",
              "    }\n",
              "    .progress-bar-interrupted, .progress-bar-interrupted::-webkit-progress-bar {\n",
              "        background: #F44336;\n",
              "    }\n",
              "</style>\n"
            ]
          },
          "metadata": {}
        },
        {
          "output_type": "display_data",
          "data": {
            "text/plain": [
              "<IPython.core.display.HTML object>"
            ],
            "text/html": [
              "\n",
              "    <div>\n",
              "      <progress value='2000' class='' max='2000' style='width:300px; height:20px; vertical-align: middle;'></progress>\n",
              "      100.00% [2000/2000 00:50&lt;00:00 Sampling chain 0, 0 divergences]\n",
              "    </div>\n",
              "    "
            ]
          },
          "metadata": {}
        },
        {
          "output_type": "display_data",
          "data": {
            "text/plain": [
              "<IPython.core.display.HTML object>"
            ],
            "text/html": [
              "\n",
              "<style>\n",
              "    /* Turns off some styling */\n",
              "    progress {\n",
              "        /* gets rid of default border in Firefox and Opera. */\n",
              "        border: none;\n",
              "        /* Needs to be in here for Safari polyfill so background images work as expected. */\n",
              "        background-size: auto;\n",
              "    }\n",
              "    progress:not([value]), progress:not([value])::-webkit-progress-bar {\n",
              "        background: repeating-linear-gradient(45deg, #7e7e7e, #7e7e7e 10px, #5c5c5c 10px, #5c5c5c 20px);\n",
              "    }\n",
              "    .progress-bar-interrupted, .progress-bar-interrupted::-webkit-progress-bar {\n",
              "        background: #F44336;\n",
              "    }\n",
              "</style>\n"
            ]
          },
          "metadata": {}
        },
        {
          "output_type": "display_data",
          "data": {
            "text/plain": [
              "<IPython.core.display.HTML object>"
            ],
            "text/html": [
              "\n",
              "    <div>\n",
              "      <progress value='2000' class='' max='2000' style='width:300px; height:20px; vertical-align: middle;'></progress>\n",
              "      100.00% [2000/2000 00:51&lt;00:00 Sampling chain 1, 0 divergences]\n",
              "    </div>\n",
              "    "
            ]
          },
          "metadata": {}
        },
        {
          "output_type": "display_data",
          "data": {
            "text/plain": [
              "<IPython.core.display.HTML object>"
            ],
            "text/html": [
              "\n",
              "<style>\n",
              "    /* Turns off some styling */\n",
              "    progress {\n",
              "        /* gets rid of default border in Firefox and Opera. */\n",
              "        border: none;\n",
              "        /* Needs to be in here for Safari polyfill so background images work as expected. */\n",
              "        background-size: auto;\n",
              "    }\n",
              "    progress:not([value]), progress:not([value])::-webkit-progress-bar {\n",
              "        background: repeating-linear-gradient(45deg, #7e7e7e, #7e7e7e 10px, #5c5c5c 10px, #5c5c5c 20px);\n",
              "    }\n",
              "    .progress-bar-interrupted, .progress-bar-interrupted::-webkit-progress-bar {\n",
              "        background: #F44336;\n",
              "    }\n",
              "</style>\n"
            ]
          },
          "metadata": {}
        },
        {
          "output_type": "display_data",
          "data": {
            "text/plain": [
              "<IPython.core.display.HTML object>"
            ],
            "text/html": [
              "\n",
              "    <div>\n",
              "      <progress value='2000' class='' max='2000' style='width:300px; height:20px; vertical-align: middle;'></progress>\n",
              "      100.00% [2000/2000 00:32&lt;00:00 Sampling chain 0, 0 divergences]\n",
              "    </div>\n",
              "    "
            ]
          },
          "metadata": {}
        },
        {
          "output_type": "display_data",
          "data": {
            "text/plain": [
              "<IPython.core.display.HTML object>"
            ],
            "text/html": [
              "\n",
              "<style>\n",
              "    /* Turns off some styling */\n",
              "    progress {\n",
              "        /* gets rid of default border in Firefox and Opera. */\n",
              "        border: none;\n",
              "        /* Needs to be in here for Safari polyfill so background images work as expected. */\n",
              "        background-size: auto;\n",
              "    }\n",
              "    progress:not([value]), progress:not([value])::-webkit-progress-bar {\n",
              "        background: repeating-linear-gradient(45deg, #7e7e7e, #7e7e7e 10px, #5c5c5c 10px, #5c5c5c 20px);\n",
              "    }\n",
              "    .progress-bar-interrupted, .progress-bar-interrupted::-webkit-progress-bar {\n",
              "        background: #F44336;\n",
              "    }\n",
              "</style>\n"
            ]
          },
          "metadata": {}
        },
        {
          "output_type": "display_data",
          "data": {
            "text/plain": [
              "<IPython.core.display.HTML object>"
            ],
            "text/html": [
              "\n",
              "    <div>\n",
              "      <progress value='2000' class='' max='2000' style='width:300px; height:20px; vertical-align: middle;'></progress>\n",
              "      100.00% [2000/2000 00:33&lt;00:00 Sampling chain 1, 0 divergences]\n",
              "    </div>\n",
              "    "
            ]
          },
          "metadata": {}
        },
        {
          "output_type": "display_data",
          "data": {
            "text/plain": [
              "<IPython.core.display.HTML object>"
            ],
            "text/html": [
              "\n",
              "<style>\n",
              "    /* Turns off some styling */\n",
              "    progress {\n",
              "        /* gets rid of default border in Firefox and Opera. */\n",
              "        border: none;\n",
              "        /* Needs to be in here for Safari polyfill so background images work as expected. */\n",
              "        background-size: auto;\n",
              "    }\n",
              "    progress:not([value]), progress:not([value])::-webkit-progress-bar {\n",
              "        background: repeating-linear-gradient(45deg, #7e7e7e, #7e7e7e 10px, #5c5c5c 10px, #5c5c5c 20px);\n",
              "    }\n",
              "    .progress-bar-interrupted, .progress-bar-interrupted::-webkit-progress-bar {\n",
              "        background: #F44336;\n",
              "    }\n",
              "</style>\n"
            ]
          },
          "metadata": {}
        },
        {
          "output_type": "display_data",
          "data": {
            "text/plain": [
              "<IPython.core.display.HTML object>"
            ],
            "text/html": [
              "\n",
              "    <div>\n",
              "      <progress value='2000' class='' max='2000' style='width:300px; height:20px; vertical-align: middle;'></progress>\n",
              "      100.00% [2000/2000 01:44&lt;00:00 Sampling chain 0, 0 divergences]\n",
              "    </div>\n",
              "    "
            ]
          },
          "metadata": {}
        },
        {
          "output_type": "display_data",
          "data": {
            "text/plain": [
              "<IPython.core.display.HTML object>"
            ],
            "text/html": [
              "\n",
              "<style>\n",
              "    /* Turns off some styling */\n",
              "    progress {\n",
              "        /* gets rid of default border in Firefox and Opera. */\n",
              "        border: none;\n",
              "        /* Needs to be in here for Safari polyfill so background images work as expected. */\n",
              "        background-size: auto;\n",
              "    }\n",
              "    progress:not([value]), progress:not([value])::-webkit-progress-bar {\n",
              "        background: repeating-linear-gradient(45deg, #7e7e7e, #7e7e7e 10px, #5c5c5c 10px, #5c5c5c 20px);\n",
              "    }\n",
              "    .progress-bar-interrupted, .progress-bar-interrupted::-webkit-progress-bar {\n",
              "        background: #F44336;\n",
              "    }\n",
              "</style>\n"
            ]
          },
          "metadata": {}
        },
        {
          "output_type": "display_data",
          "data": {
            "text/plain": [
              "<IPython.core.display.HTML object>"
            ],
            "text/html": [
              "\n",
              "    <div>\n",
              "      <progress value='2000' class='' max='2000' style='width:300px; height:20px; vertical-align: middle;'></progress>\n",
              "      100.00% [2000/2000 01:49&lt;00:00 Sampling chain 1, 0 divergences]\n",
              "    </div>\n",
              "    "
            ]
          },
          "metadata": {}
        },
        {
          "output_type": "stream",
          "name": "stdout",
          "text": [
            "CPU times: user 6min 26s, sys: 4.06 s, total: 6min 30s\n",
            "Wall time: 6min 31s\n"
          ]
        }
      ]
    },
    {
      "cell_type": "code",
      "source": [
        "_prep_data = prep_data.copy()"
      ],
      "metadata": {
        "id": "_y1WGiKHiYd1"
      },
      "execution_count": null,
      "outputs": []
    },
    {
      "cell_type": "code",
      "source": [
        "_selected_feature = selected_feature.copy()"
      ],
      "metadata": {
        "id": "aD3WsTGIhYXG"
      },
      "execution_count": null,
      "outputs": []
    },
    {
      "cell_type": "markdown",
      "source": [
        "이제 연속형 피처가 잘 채워진 것을 확인할 수 있습니다."
      ],
      "metadata": {
        "id": "QTasKeGjIWX1"
      }
    },
    {
      "cell_type": "code",
      "source": [
        "all_feature"
      ],
      "metadata": {
        "colab": {
          "base_uri": "https://localhost:8080/"
        },
        "id": "YSureAlRinHX",
        "outputId": "732079bb-4e75-4fe6-cdcb-e4d044f285c5"
      },
      "execution_count": null,
      "outputs": [
        {
          "output_type": "execute_result",
          "data": {
            "text/plain": [
              "{'1stFlrSF',\n",
              " '2ndFlrSF',\n",
              " 'BsmtFinSF1',\n",
              " 'BsmtFinType1',\n",
              " 'BsmtQual',\n",
              " 'CentralAir',\n",
              " 'ExterQual',\n",
              " 'Exterior1st',\n",
              " 'Exterior2nd',\n",
              " 'FireplaceQu',\n",
              " 'Fireplaces',\n",
              " 'Foundation',\n",
              " 'FullBath',\n",
              " 'GarageArea',\n",
              " 'GarageCars',\n",
              " 'GarageFinish',\n",
              " 'GarageType',\n",
              " 'GarageYrBlt',\n",
              " 'GrLivArea',\n",
              " 'HeatingQC',\n",
              " 'KitchenQual',\n",
              " 'LotFrontage',\n",
              " 'LotShape',\n",
              " 'MSZoning',\n",
              " 'MasVnrArea',\n",
              " 'MasVnrType',\n",
              " 'Neighborhood',\n",
              " 'OpenPorchSF',\n",
              " 'OverallQual',\n",
              " 'SaleCondition',\n",
              " 'SaleType',\n",
              " 'TotRmsAbvGrd',\n",
              " 'TotalBsmtSF',\n",
              " 'WoodDeckSF',\n",
              " 'YearBuilt',\n",
              " 'YearRemodAdd'}"
            ]
          },
          "metadata": {},
          "execution_count": 97
        }
      ]
    },
    {
      "cell_type": "code",
      "source": [],
      "metadata": {
        "id": "EsNGRFpXiqQU"
      },
      "execution_count": null,
      "outputs": []
    },
    {
      "cell_type": "code",
      "source": [
        "# selected_feature = _selected_feature.copy()\n",
        "\n",
        "all_feature = set([f.split('_')[0] for f in _selected_feature])\n",
        "\n",
        "_prep_data = _prep_data[all_feature]\n",
        "\n",
        "missing_mask = (\n",
        "    _prep_data.isna().sum() != 0\n",
        ").values\n",
        "\n",
        "missing_mask = ['dodgerblue' if m == True else 'tan' for m in missing_mask]"
      ],
      "metadata": {
        "id": "7rMtgr4Kcaen"
      },
      "execution_count": null,
      "outputs": []
    },
    {
      "cell_type": "code",
      "source": [
        "msno.bar(\n",
        "    _prep_data,\n",
        "    figsize=(13, 4), fontsize=10, label_rotation=90,\n",
        "    color=missing_mask\n",
        ")\n",
        "plt.show()"
      ],
      "metadata": {
        "colab": {
          "base_uri": "https://localhost:8080/",
          "height": 363
        },
        "id": "p_51qZohYuvu",
        "outputId": "346bdc89-140a-416d-e3d9-959bdb2ad0b8"
      },
      "execution_count": null,
      "outputs": [
        {
          "output_type": "display_data",
          "data": {
            "text/plain": [
              "<Figure size 936x288 with 3 Axes>"
            ],
            "image/png": "[encoded data removed]"
          },
          "metadata": {}
        }
      ]
    },
    {
      "cell_type": "code",
      "source": [
        "_nummeric_feature = [f for f in all_feature if f in nummeric_feature]\n",
        "_nummeric_feature"
      ],
      "metadata": {
        "colab": {
          "base_uri": "https://localhost:8080/",
          "height": 194
        },
        "id": "zXWFg3TJkZ-5",
        "outputId": "6103c9be-aa5b-49a7-9fcb-018d7956ad2d"
      },
      "execution_count": null,
      "outputs": [
        {
          "output_type": "error",
          "ename": "NameError",
          "evalue": "ignored",
          "traceback": [
            "\u001b[0;31m---------------------------------------------------------------------------\u001b[0m",
            "\u001b[0;31mNameError\u001b[0m                                 Traceback (most recent call last)",
            "\u001b[0;32m<ipython-input-115-aec0ac1cfe7d>\u001b[0m in \u001b[0;36m<module>\u001b[0;34m\u001b[0m\n\u001b[1;32m      1\u001b[0m \u001b[0m_nummeric_feature\u001b[0m \u001b[0;34m=\u001b[0m \u001b[0;34m[\u001b[0m\u001b[0mf\u001b[0m \u001b[0;32mfor\u001b[0m \u001b[0mf\u001b[0m \u001b[0;32min\u001b[0m \u001b[0mall_feature\u001b[0m \u001b[0;32mif\u001b[0m \u001b[0mf\u001b[0m \u001b[0;32min\u001b[0m \u001b[0mnummeric_feature\u001b[0m\u001b[0;34m]\u001b[0m\u001b[0;34m\u001b[0m\u001b[0;34m\u001b[0m\u001b[0m\n\u001b[0;32m----> 2\u001b[0;31m \u001b[0m_nummeric_feature\u001b[0m \u001b[0;34m+\u001b[0m \u001b[0mx\u001b[0m\u001b[0;34m\u001b[0m\u001b[0;34m\u001b[0m\u001b[0m\n\u001b[0m",
            "\u001b[0;31mNameError\u001b[0m: name 'x' is not defined"
          ]
        }
      ]
    },
    {
      "cell_type": "code",
      "source": [
        "missing_feature = [f for f, m in zip(all_feature, missing_mask) if m == 'dodgerblue'] \n",
        "\n",
        "x = missing_feature[0]"
      ],
      "metadata": {
        "colab": {
          "base_uri": "https://localhost:8080/"
        },
        "id": "ZHEgyZRcjBzY",
        "outputId": "b7688b1a-d2eb-444a-cd8e-f6b2715e78b8"
      },
      "execution_count": null,
      "outputs": [
        {
          "output_type": "execute_result",
          "data": {
            "text/plain": [
              "['GarageType',\n",
              " 'BsmtQual',\n",
              " 'MasVnrType',\n",
              " 'BsmtFinType1',\n",
              " 'GarageYrBlt',\n",
              " 'FireplaceQu',\n",
              " 'LotFrontage',\n",
              " 'MasVnrArea',\n",
              " 'GarageFinish']"
            ]
          },
          "metadata": {},
          "execution_count": 103
        }
      ]
    },
    {
      "cell_type": "code",
      "source": [
        "nume"
      ],
      "metadata": {
        "id": "WUzmJz4FkDpw"
      },
      "execution_count": null,
      "outputs": []
    },
    {
      "cell_type": "code",
      "source": [
        "x = missing_feature[0]\n",
        "\n",
        "plt.figure(figsize=(12 ,5))\n",
        "sns.countplot(data=_prep_data, x=, hue=x)"
      ],
      "metadata": {
        "id": "VPQ4OdHgjdtd"
      },
      "execution_count": null,
      "outputs": []
    },
    {
      "cell_type": "code",
      "source": [
        "# nummerical_selected_feature = selected_feature & nummerical_feature\n",
        "\n",
        "# msno.bar(\n",
        "#     pd.get_dummies(\n",
        "#         prep_data, dummy_na=True\n",
        "#     ).filter(selected_feature),\n",
        "#     figsize=(13, 4), fontsize=10, label_rotation=90,\n",
        "#     color=importance_mask\n",
        "# )\n",
        "# plt.show()"
      ],
      "metadata": {
        "colab": {
          "base_uri": "https://localhost:8080/",
          "height": 401
        },
        "id": "8SkcS_vRGo00",
        "outputId": "dc7627ee-8360-406f-da1e-b73c90ec0d89"
      },
      "execution_count": null,
      "outputs": [
        {
          "output_type": "display_data",
          "data": {
            "text/plain": [
              "<Figure size 936x288 with 3 Axes>"
            ],
            "image/png": "[encoded data removed]"
          },
          "metadata": {}
        }
      ]
    },
    {
      "cell_type": "markdown",
      "source": [
        "이제 카테고리 변수 예측이 필요합니다.\n",
        "\n",
        "위 결측 그래프에서 카테고리 변수 결측이 존재하지 않는 이유는\n",
        "\n",
        "원핫 인코딩을 진행했기 때문입니다.\n",
        "\n",
        "따라서 빈값이 어떤 의미를 가지고 있는지 확인할 필요가 있습니다.\n",
        "- 새로운 데이터에서 빈값 존재 시 처리가 필요하기 때문"
      ],
      "metadata": {
        "id": "4KbQf0o5J7xK"
      }
    },
    {
      "cell_type": "code",
      "source": [
        "# num_selected_feature = selected_feature & num_feature\n",
        "\n",
        "# clean_data = pd.concat([\n",
        "#     prep_data.filter(\n",
        "#         list(num_selected_feature) + list(cat_feature)),\n",
        "#     pred_data],\n",
        "#     axis=1\n",
        "# )\n",
        "# # clean_data.to_csv('house_price_clean_num.csv', index=False, header=True)\n",
        "\n",
        "# print(f'clean data shape = {clean_data.shape}')\n",
        "# clean_data.head(2)"
      ],
      "metadata": {
        "id": "7yRYu2dQJ1xb"
      },
      "execution_count": null,
      "outputs": []
    },
    {
      "cell_type": "code",
      "source": [
        "y_data = data.SalePrice\n",
        "\n",
        "data = pd.read_csv('house_price_clean_num.csv')\n",
        "\n",
        "data = pd.concat([data, y_data], axis=1)\n",
        "\n",
        "print(data.shape)\n",
        "data.head(2)"
      ],
      "metadata": {
        "colab": {
          "base_uri": "https://localhost:8080/",
          "height": 160
        },
        "id": "_A6I-IB_1l1V",
        "outputId": "4fe79511-7caf-4af4-c1d7-9d2621db1c09"
      },
      "execution_count": null,
      "outputs": [
        {
          "output_type": "stream",
          "name": "stdout",
          "text": [
            "(1460, 64)\n"
          ]
        },
        {
          "output_type": "execute_result",
          "data": {
            "text/plain": [
              "   LotFrontage  OverallQual  YearBuilt  YearRemodAdd  MasVnrArea  ...  \\\n",
              "0     4.232750            7       2003          2003    3.592544  ...   \n",
              "1     4.485301            6       1976          1976    0.000000  ...   \n",
              "\n",
              "   SaleType  SaleCondition  IsTrain  PredSalePrice  SalePrice  \n",
              "0        WD         Normal     True            NaN  12.247699  \n",
              "1        WD         Normal     True            NaN  12.109016  \n",
              "\n",
              "[2 rows x 64 columns]"
            ],
            "text/html": [
              "\n",
              "  <div id=\"df-44f9ed27-0d55-4675-b55e-fd8c0e29d6d6\">\n",
              "    <div class=\"colab-df-container\">\n",
              "      <div>\n",
              "<style scoped>\n",
              "    .dataframe tbody tr th:only-of-type {\n",
              "        vertical-align: middle;\n",
              "    }\n",
              "\n",
              "    .dataframe tbody tr th {\n",
              "        vertical-align: top;\n",
              "    }\n",
              "\n",
              "    .dataframe thead th {\n",
              "        text-align: right;\n",
              "    }\n",
              "</style>\n",
              "<table border=\"1\" class=\"dataframe\">\n",
              "  <thead>\n",
              "    <tr style=\"text-align: right;\">\n",
              "      <th></th>\n",
              "      <th>LotFrontage</th>\n",
              "      <th>OverallQual</th>\n",
              "      <th>YearBuilt</th>\n",
              "      <th>YearRemodAdd</th>\n",
              "      <th>MasVnrArea</th>\n",
              "      <th>...</th>\n",
              "      <th>SaleType</th>\n",
              "      <th>SaleCondition</th>\n",
              "      <th>IsTrain</th>\n",
              "      <th>PredSalePrice</th>\n",
              "      <th>SalePrice</th>\n",
              "    </tr>\n",
              "  </thead>\n",
              "  <tbody>\n",
              "    <tr>\n",
              "      <th>0</th>\n",
              "      <td>4.232750</td>\n",
              "      <td>7</td>\n",
              "      <td>2003</td>\n",
              "      <td>2003</td>\n",
              "      <td>3.592544</td>\n",
              "      <td>...</td>\n",
              "      <td>WD</td>\n",
              "      <td>Normal</td>\n",
              "      <td>True</td>\n",
              "      <td>NaN</td>\n",
              "      <td>12.247699</td>\n",
              "    </tr>\n",
              "    <tr>\n",
              "      <th>1</th>\n",
              "      <td>4.485301</td>\n",
              "      <td>6</td>\n",
              "      <td>1976</td>\n",
              "      <td>1976</td>\n",
              "      <td>0.000000</td>\n",
              "      <td>...</td>\n",
              "      <td>WD</td>\n",
              "      <td>Normal</td>\n",
              "      <td>True</td>\n",
              "      <td>NaN</td>\n",
              "      <td>12.109016</td>\n",
              "    </tr>\n",
              "  </tbody>\n",
              "</table>\n",
              "<p>2 rows × 64 columns</p>\n",
              "</div>\n",
              "      <button class=\"colab-df-convert\" onclick=\"convertToInteractive('df-44f9ed27-0d55-4675-b55e-fd8c0e29d6d6')\"\n",
              "              title=\"Convert this dataframe to an interactive table.\"\n",
              "              style=\"display:none;\">\n",
              "        \n",
              "  <svg xmlns=\"http://www.w3.org/2000/svg\" height=\"24px\"viewBox=\"0 0 24 24\"\n",
              "       width=\"24px\">\n",
              "    <path d=\"M0 0h24v24H0V0z\" fill=\"none\"/>\n",
              "    <path d=\"M18.56 5.44l.94 2.06.94-2.06 2.06-.94-2.06-.94-.94-2.06-.94 2.06-2.06.94zm-11 1L8.5 8.5l.94-2.06 2.06-.94-2.06-.94L8.5 2.5l-.94 2.06-2.06.94zm10 10l.94 2.06.94-2.06 2.06-.94-2.06-.94-.94-2.06-.94 2.06-2.06.94z\"/><path d=\"M17.41 7.96l-1.37-1.37c-.4-.4-.92-.59-1.43-.59-.52 0-1.04.2-1.43.59L10.3 9.45l-7.72 7.72c-.78.78-.78 2.05 0 2.83L4 21.41c.39.39.9.59 1.41.59.51 0 1.02-.2 1.41-.59l7.78-7.78 2.81-2.81c.8-.78.8-2.07 0-2.86zM5.41 20L4 18.59l7.72-7.72 1.47 1.35L5.41 20z\"/>\n",
              "  </svg>\n",
              "      </button>\n",
              "      \n",
              "  <style>\n",
              "    .colab-df-container {\n",
              "      display:flex;\n",
              "      flex-wrap:wrap;\n",
              "      gap: 12px;\n",
              "    }\n",
              "\n",
              "    .colab-df-convert {\n",
              "      background-color: #E8F0FE;\n",
              "      border: none;\n",
              "      border-radius: 50%;\n",
              "      cursor: pointer;\n",
              "      display: none;\n",
              "      fill: #1967D2;\n",
              "      height: 32px;\n",
              "      padding: 0 0 0 0;\n",
              "      width: 32px;\n",
              "    }\n",
              "\n",
              "    .colab-df-convert:hover {\n",
              "      background-color: #E2EBFA;\n",
              "      box-shadow: 0px 1px 2px rgba(60, 64, 67, 0.3), 0px 1px 3px 1px rgba(60, 64, 67, 0.15);\n",
              "      fill: #174EA6;\n",
              "    }\n",
              "\n",
              "    [theme=dark] .colab-df-convert {\n",
              "      background-color: #3B4455;\n",
              "      fill: #D2E3FC;\n",
              "    }\n",
              "\n",
              "    [theme=dark] .colab-df-convert:hover {\n",
              "      background-color: #434B5C;\n",
              "      box-shadow: 0px 1px 3px 1px rgba(0, 0, 0, 0.15);\n",
              "      filter: drop-shadow(0px 1px 2px rgba(0, 0, 0, 0.3));\n",
              "      fill: #FFFFFF;\n",
              "    }\n",
              "  </style>\n",
              "\n",
              "      <script>\n",
              "        const buttonEl =\n",
              "          document.querySelector('#df-44f9ed27-0d55-4675-b55e-fd8c0e29d6d6 button.colab-df-convert');\n",
              "        buttonEl.style.display =\n",
              "          google.colab.kernel.accessAllowed ? 'block' : 'none';\n",
              "\n",
              "        async function convertToInteractive(key) {\n",
              "          const element = document.querySelector('#df-44f9ed27-0d55-4675-b55e-fd8c0e29d6d6');\n",
              "          const dataTable =\n",
              "            await google.colab.kernel.invokeFunction('convertToInteractive',\n",
              "                                                     [key], {});\n",
              "          if (!dataTable) return;\n",
              "\n",
              "          const docLinkHtml = 'Like what you see? Visit the ' +\n",
              "            '<a target=\"_blank\" href=https://colab.research.google.com/notebooks/data_table.ipynb>data table notebook</a>'\n",
              "            + ' to learn more about interactive tables.';\n",
              "          element.innerHTML = '';\n",
              "          dataTable['output_type'] = 'display_data';\n",
              "          await google.colab.output.renderOutput(dataTable, element);\n",
              "          const docLink = document.createElement('div');\n",
              "          docLink.innerHTML = docLinkHtml;\n",
              "          element.appendChild(docLink);\n",
              "        }\n",
              "      </script>\n",
              "    </div>\n",
              "  </div>\n",
              "  "
            ]
          },
          "metadata": {},
          "execution_count": 23
        }
      ]
    },
    {
      "cell_type": "code",
      "source": [
        "nummerical_selected_feature = selected_feature & nummerical_feature"
      ],
      "metadata": {
        "id": "BvTVMTaH2gcI"
      },
      "execution_count": null,
      "outputs": []
    },
    {
      "cell_type": "code",
      "source": [
        "nummerical_selected_feature"
      ],
      "metadata": {
        "colab": {
          "base_uri": "https://localhost:8080/"
        },
        "id": "a4CFi1MnT7PV",
        "outputId": "3c0d4a3e-cb8b-462b-ca7d-91af0e2a6d1b"
      },
      "execution_count": null,
      "outputs": [
        {
          "output_type": "execute_result",
          "data": {
            "text/plain": [
              "Index(['LotFrontage', 'OverallQual', 'YearBuilt', 'YearRemodAdd', 'MasVnrArea',\n",
              "       'BsmtFinSF1', 'TotalBsmtSF', '1stFlrSF', '2ndFlrSF', 'GrLivArea',\n",
              "       'FullBath', 'TotRmsAbvGrd', 'Fireplaces', 'GarageYrBlt', 'GarageCars',\n",
              "       'GarageArea', 'WoodDeckSF', 'OpenPorchSF'],\n",
              "      dtype='object')"
            ]
          },
          "metadata": {},
          "execution_count": 25
        }
      ]
    },
    {
      "cell_type": "code",
      "source": [
        "categorical_feature = data.dtypes[data.dtypes == 'object'].index\n",
        "\n",
        "importance_feature = feature.ImportantFeature.values\n",
        "\n",
        "correlated_missing_mask = [1 if f in missing_feature else 2 for f in categorical_feature]\n",
        "correlated_importance_mask = [3 if f in importance_feature else 1 for f in categorical_feature]\n",
        "\n",
        "correlated_mask = np.multiply(\n",
        "    correlated_missing_mask,\n",
        "    correlated_importance_mask\n",
        ")\n",
        "correlated_mask = [correlated_map[f] for f in correlated_mask]\n",
        "\n",
        "msno.bar(\n",
        "    data[categorical_feature],\n",
        "    figsize=(10, 4), fontsize=10, label_rotation=90,\n",
        "    color=correlated_mask\n",
        ")\n",
        "plt.show()"
      ],
      "metadata": {
        "colab": {
          "base_uri": "https://localhost:8080/",
          "height": 359
        },
        "id": "RDeOF-9fzBiU",
        "outputId": "d73cc820-3f1a-407a-e722-908fa9c10190"
      },
      "execution_count": null,
      "outputs": [
        {
          "output_type": "display_data",
          "data": {
            "text/plain": [
              "<Figure size 720x288 with 3 Axes>"
            ],
            "image/png": "[encoded data removed]"
          },
          "metadata": {}
        }
      ]
    },
    {
      "cell_type": "code",
      "source": [
        "missing_feature = [f for f, m in zip(categorical_feature, correlated_mask) if m == 'dodgerblue']\n",
        "\n",
        "missing_feature"
      ],
      "metadata": {
        "colab": {
          "base_uri": "https://localhost:8080/"
        },
        "id": "g1uMe8Kw1xcb",
        "outputId": "2f1a5527-1d42-4788-b192-214c71d18845"
      },
      "execution_count": null,
      "outputs": [
        {
          "output_type": "execute_result",
          "data": {
            "text/plain": [
              "['MasVnrType',\n",
              " 'BsmtQual',\n",
              " 'BsmtFinType1',\n",
              " 'FireplaceQu',\n",
              " 'GarageType',\n",
              " 'GarageFinish']"
            ]
          },
          "metadata": {},
          "execution_count": 30
        }
      ]
    },
    {
      "cell_type": "code",
      "source": [
        "# 'MasVnrType',\n",
        "#  'BsmtQual',\n",
        "#  'BsmtFinType1',\n",
        "#  'FireplaceQu',\n",
        "#  'GarageType',\n",
        "#  'GarageFinish'"
      ],
      "metadata": {
        "colab": {
          "base_uri": "https://localhost:8080/",
          "height": 160
        },
        "id": "7Qf0QMRFttam",
        "outputId": "1aa048be-b99a-4190-d647-a71b42f0b2da"
      },
      "execution_count": null,
      "outputs": [
        {
          "output_type": "stream",
          "name": "stdout",
          "text": [
            "(1460, 63)\n"
          ]
        },
        {
          "output_type": "execute_result",
          "data": {
            "text/plain": [
              "   LotFrontage  OverallQual  YearBuilt  YearRemodAdd  MasVnrArea  ...  \\\n",
              "0     4.232750            7       2003          2003    3.592544  ...   \n",
              "1     4.485301            6       1976          1976    0.000000  ...   \n",
              "\n",
              "   MiscFeature  SaleType  SaleCondition  IsTrain  PredSalePrice  \n",
              "0          NaN        WD         Normal     True            NaN  \n",
              "1          NaN        WD         Normal     True            NaN  \n",
              "\n",
              "[2 rows x 63 columns]"
            ],
            "text/html": [
              "\n",
              "  <div id=\"df-e3d465a6-25d5-4009-aff8-cf5631fc3436\">\n",
              "    <div class=\"colab-df-container\">\n",
              "      <div>\n",
              "<style scoped>\n",
              "    .dataframe tbody tr th:only-of-type {\n",
              "        vertical-align: middle;\n",
              "    }\n",
              "\n",
              "    .dataframe tbody tr th {\n",
              "        vertical-align: top;\n",
              "    }\n",
              "\n",
              "    .dataframe thead th {\n",
              "        text-align: right;\n",
              "    }\n",
              "</style>\n",
              "<table border=\"1\" class=\"dataframe\">\n",
              "  <thead>\n",
              "    <tr style=\"text-align: right;\">\n",
              "      <th></th>\n",
              "      <th>LotFrontage</th>\n",
              "      <th>OverallQual</th>\n",
              "      <th>YearBuilt</th>\n",
              "      <th>YearRemodAdd</th>\n",
              "      <th>MasVnrArea</th>\n",
              "      <th>...</th>\n",
              "      <th>MiscFeature</th>\n",
              "      <th>SaleType</th>\n",
              "      <th>SaleCondition</th>\n",
              "      <th>IsTrain</th>\n",
              "      <th>PredSalePrice</th>\n",
              "    </tr>\n",
              "  </thead>\n",
              "  <tbody>\n",
              "    <tr>\n",
              "      <th>0</th>\n",
              "      <td>4.232750</td>\n",
              "      <td>7</td>\n",
              "      <td>2003</td>\n",
              "      <td>2003</td>\n",
              "      <td>3.592544</td>\n",
              "      <td>...</td>\n",
              "      <td>NaN</td>\n",
              "      <td>WD</td>\n",
              "      <td>Normal</td>\n",
              "      <td>True</td>\n",
              "      <td>NaN</td>\n",
              "    </tr>\n",
              "    <tr>\n",
              "      <th>1</th>\n",
              "      <td>4.485301</td>\n",
              "      <td>6</td>\n",
              "      <td>1976</td>\n",
              "      <td>1976</td>\n",
              "      <td>0.000000</td>\n",
              "      <td>...</td>\n",
              "      <td>NaN</td>\n",
              "      <td>WD</td>\n",
              "      <td>Normal</td>\n",
              "      <td>True</td>\n",
              "      <td>NaN</td>\n",
              "    </tr>\n",
              "  </tbody>\n",
              "</table>\n",
              "<p>2 rows × 63 columns</p>\n",
              "</div>\n",
              "      <button class=\"colab-df-convert\" onclick=\"convertToInteractive('df-e3d465a6-25d5-4009-aff8-cf5631fc3436')\"\n",
              "              title=\"Convert this dataframe to an interactive table.\"\n",
              "              style=\"display:none;\">\n",
              "        \n",
              "  <svg xmlns=\"http://www.w3.org/2000/svg\" height=\"24px\"viewBox=\"0 0 24 24\"\n",
              "       width=\"24px\">\n",
              "    <path d=\"M0 0h24v24H0V0z\" fill=\"none\"/>\n",
              "    <path d=\"M18.56 5.44l.94 2.06.94-2.06 2.06-.94-2.06-.94-.94-2.06-.94 2.06-2.06.94zm-11 1L8.5 8.5l.94-2.06 2.06-.94-2.06-.94L8.5 2.5l-.94 2.06-2.06.94zm10 10l.94 2.06.94-2.06 2.06-.94-2.06-.94-.94-2.06-.94 2.06-2.06.94z\"/><path d=\"M17.41 7.96l-1.37-1.37c-.4-.4-.92-.59-1.43-.59-.52 0-1.04.2-1.43.59L10.3 9.45l-7.72 7.72c-.78.78-.78 2.05 0 2.83L4 21.41c.39.39.9.59 1.41.59.51 0 1.02-.2 1.41-.59l7.78-7.78 2.81-2.81c.8-.78.8-2.07 0-2.86zM5.41 20L4 18.59l7.72-7.72 1.47 1.35L5.41 20z\"/>\n",
              "  </svg>\n",
              "      </button>\n",
              "      \n",
              "  <style>\n",
              "    .colab-df-container {\n",
              "      display:flex;\n",
              "      flex-wrap:wrap;\n",
              "      gap: 12px;\n",
              "    }\n",
              "\n",
              "    .colab-df-convert {\n",
              "      background-color: #E8F0FE;\n",
              "      border: none;\n",
              "      border-radius: 50%;\n",
              "      cursor: pointer;\n",
              "      display: none;\n",
              "      fill: #1967D2;\n",
              "      height: 32px;\n",
              "      padding: 0 0 0 0;\n",
              "      width: 32px;\n",
              "    }\n",
              "\n",
              "    .colab-df-convert:hover {\n",
              "      background-color: #E2EBFA;\n",
              "      box-shadow: 0px 1px 2px rgba(60, 64, 67, 0.3), 0px 1px 3px 1px rgba(60, 64, 67, 0.15);\n",
              "      fill: #174EA6;\n",
              "    }\n",
              "\n",
              "    [theme=dark] .colab-df-convert {\n",
              "      background-color: #3B4455;\n",
              "      fill: #D2E3FC;\n",
              "    }\n",
              "\n",
              "    [theme=dark] .colab-df-convert:hover {\n",
              "      background-color: #434B5C;\n",
              "      box-shadow: 0px 1px 3px 1px rgba(0, 0, 0, 0.15);\n",
              "      filter: drop-shadow(0px 1px 2px rgba(0, 0, 0, 0.3));\n",
              "      fill: #FFFFFF;\n",
              "    }\n",
              "  </style>\n",
              "\n",
              "      <script>\n",
              "        const buttonEl =\n",
              "          document.querySelector('#df-e3d465a6-25d5-4009-aff8-cf5631fc3436 button.colab-df-convert');\n",
              "        buttonEl.style.display =\n",
              "          google.colab.kernel.accessAllowed ? 'block' : 'none';\n",
              "\n",
              "        async function convertToInteractive(key) {\n",
              "          const element = document.querySelector('#df-e3d465a6-25d5-4009-aff8-cf5631fc3436');\n",
              "          const dataTable =\n",
              "            await google.colab.kernel.invokeFunction('convertToInteractive',\n",
              "                                                     [key], {});\n",
              "          if (!dataTable) return;\n",
              "\n",
              "          const docLinkHtml = 'Like what you see? Visit the ' +\n",
              "            '<a target=\"_blank\" href=https://colab.research.google.com/notebooks/data_table.ipynb>data table notebook</a>'\n",
              "            + ' to learn more about interactive tables.';\n",
              "          element.innerHTML = '';\n",
              "          dataTable['output_type'] = 'display_data';\n",
              "          await google.colab.output.renderOutput(dataTable, element);\n",
              "          const docLink = document.createElement('div');\n",
              "          docLink.innerHTML = docLinkHtml;\n",
              "          element.appendChild(docLink);\n",
              "        }\n",
              "      </script>\n",
              "    </div>\n",
              "  </div>\n",
              "  "
            ]
          },
          "metadata": {},
          "execution_count": 15
        }
      ]
    },
    {
      "cell_type": "code",
      "source": [
        "data.MasVnrType"
      ],
      "metadata": {
        "colab": {
          "base_uri": "https://localhost:8080/"
        },
        "id": "6SdGyeP4ujBY",
        "outputId": "93134622-5549-406c-a907-68aeada48c6c"
      },
      "execution_count": null,
      "outputs": [
        {
          "output_type": "execute_result",
          "data": {
            "text/plain": [
              "Index(['MSZoning', 'Street', 'Alley', 'LotShape', 'LandContour', 'Utilities',\n",
              "       'LotConfig', 'LandSlope', 'Neighborhood', 'Condition1', 'Condition2',\n",
              "       'BldgType', 'HouseStyle', 'RoofStyle', 'RoofMatl', 'Exterior1st',\n",
              "       'Exterior2nd', 'MasVnrType', 'ExterQual', 'ExterCond', 'Foundation',\n",
              "       'BsmtQual', 'BsmtCond', 'BsmtExposure', 'BsmtFinType1', 'BsmtFinType2',\n",
              "       'Heating', 'HeatingQC', 'CentralAir', 'Electrical', 'KitchenQual',\n",
              "       'Functional', 'FireplaceQu', 'GarageType', 'GarageFinish', 'GarageQual',\n",
              "       'GarageCond', 'PavedDrive', 'PoolQC', 'Fence', 'MiscFeature',\n",
              "       'SaleType', 'SaleCondition', 'IsTrain'],\n",
              "      dtype='object')"
            ]
          },
          "metadata": {},
          "execution_count": 16
        }
      ]
    }
  ]
}